{
 "cells": [
  {
   "cell_type": "code",
   "execution_count": 97,
   "id": "9c3da7e5",
   "metadata": {},
   "outputs": [],
   "source": [
    "import numpy as np\n",
    "import pandas as pd\n",
    "import matplotlib.pyplot as plt\n",
    "import seaborn as sns\n",
    "from sklearn.ensemble import RandomForestClassifier\n",
    "from  sklearn.model_selection import train_test_split"
   ]
  },
  {
   "cell_type": "code",
   "execution_count": 98,
   "id": "48137e99",
   "metadata": {},
   "outputs": [],
   "source": [
    "df = pd.read_csv(\"../datasets/OBS_ASOS_DD_20211221150933.csv\")"
   ]
  },
  {
   "cell_type": "markdown",
   "id": "e4527645",
   "metadata": {},
   "source": [
    "# 데이터 형태파악"
   ]
  },
  {
   "cell_type": "code",
   "execution_count": 99,
   "id": "c7987192",
   "metadata": {},
   "outputs": [
    {
     "data": {
      "text/html": [
       "<div>\n",
       "<style scoped>\n",
       "    .dataframe tbody tr th:only-of-type {\n",
       "        vertical-align: middle;\n",
       "    }\n",
       "\n",
       "    .dataframe tbody tr th {\n",
       "        vertical-align: top;\n",
       "    }\n",
       "\n",
       "    .dataframe thead th {\n",
       "        text-align: right;\n",
       "    }\n",
       "</style>\n",
       "<table border=\"1\" class=\"dataframe\">\n",
       "  <thead>\n",
       "    <tr style=\"text-align: right;\">\n",
       "      <th></th>\n",
       "      <th>date</th>\n",
       "      <th>average temp</th>\n",
       "      <th>min temp</th>\n",
       "      <th>max temp</th>\n",
       "      <th>rain amount</th>\n",
       "      <th>average dewpoint</th>\n",
       "      <th>average air pressure</th>\n",
       "      <th>average cloud amount</th>\n",
       "      <th>average low cloud amount</th>\n",
       "      <th>average surface temp</th>\n",
       "    </tr>\n",
       "  </thead>\n",
       "  <tbody>\n",
       "    <tr>\n",
       "      <th>0</th>\n",
       "      <td>2021-01-01</td>\n",
       "      <td>-6.6</td>\n",
       "      <td>-13.9</td>\n",
       "      <td>-2.1</td>\n",
       "      <td>0.0</td>\n",
       "      <td>-7.5</td>\n",
       "      <td>1016.4</td>\n",
       "      <td>6.4</td>\n",
       "      <td>6.4</td>\n",
       "      <td>-0.5</td>\n",
       "    </tr>\n",
       "    <tr>\n",
       "      <th>1</th>\n",
       "      <td>2021-01-02</td>\n",
       "      <td>-6.2</td>\n",
       "      <td>-12.3</td>\n",
       "      <td>-0.6</td>\n",
       "      <td>NaN</td>\n",
       "      <td>-11.2</td>\n",
       "      <td>1019.6</td>\n",
       "      <td>0.1</td>\n",
       "      <td>0.0</td>\n",
       "      <td>-0.5</td>\n",
       "    </tr>\n",
       "    <tr>\n",
       "      <th>2</th>\n",
       "      <td>2021-01-03</td>\n",
       "      <td>-5.8</td>\n",
       "      <td>-12.3</td>\n",
       "      <td>-0.2</td>\n",
       "      <td>NaN</td>\n",
       "      <td>-11.7</td>\n",
       "      <td>1024.3</td>\n",
       "      <td>4.8</td>\n",
       "      <td>2.3</td>\n",
       "      <td>-1.4</td>\n",
       "    </tr>\n",
       "    <tr>\n",
       "      <th>3</th>\n",
       "      <td>2021-01-04</td>\n",
       "      <td>-4.5</td>\n",
       "      <td>-12.2</td>\n",
       "      <td>1.2</td>\n",
       "      <td>NaN</td>\n",
       "      <td>-9.7</td>\n",
       "      <td>1021.3</td>\n",
       "      <td>5.6</td>\n",
       "      <td>5.4</td>\n",
       "      <td>-1.4</td>\n",
       "    </tr>\n",
       "    <tr>\n",
       "      <th>4</th>\n",
       "      <td>2021-01-05</td>\n",
       "      <td>-4.2</td>\n",
       "      <td>-10.4</td>\n",
       "      <td>-1.2</td>\n",
       "      <td>0.2</td>\n",
       "      <td>-11.2</td>\n",
       "      <td>1019.9</td>\n",
       "      <td>1.9</td>\n",
       "      <td>1.8</td>\n",
       "      <td>-1.7</td>\n",
       "    </tr>\n",
       "    <tr>\n",
       "      <th>...</th>\n",
       "      <td>...</td>\n",
       "      <td>...</td>\n",
       "      <td>...</td>\n",
       "      <td>...</td>\n",
       "      <td>...</td>\n",
       "      <td>...</td>\n",
       "      <td>...</td>\n",
       "      <td>...</td>\n",
       "      <td>...</td>\n",
       "      <td>...</td>\n",
       "    </tr>\n",
       "    <tr>\n",
       "      <th>349</th>\n",
       "      <td>2021-12-16</td>\n",
       "      <td>4.8</td>\n",
       "      <td>1.4</td>\n",
       "      <td>10.7</td>\n",
       "      <td>NaN</td>\n",
       "      <td>2.2</td>\n",
       "      <td>1008.5</td>\n",
       "      <td>9.3</td>\n",
       "      <td>7.5</td>\n",
       "      <td>4.8</td>\n",
       "    </tr>\n",
       "    <tr>\n",
       "      <th>350</th>\n",
       "      <td>2021-12-17</td>\n",
       "      <td>-3.3</td>\n",
       "      <td>-8.7</td>\n",
       "      <td>5.9</td>\n",
       "      <td>NaN</td>\n",
       "      <td>-10.9</td>\n",
       "      <td>1013.3</td>\n",
       "      <td>3.8</td>\n",
       "      <td>3.0</td>\n",
       "      <td>-0.3</td>\n",
       "    </tr>\n",
       "    <tr>\n",
       "      <th>351</th>\n",
       "      <td>2021-12-18</td>\n",
       "      <td>-4.8</td>\n",
       "      <td>-12.1</td>\n",
       "      <td>0.4</td>\n",
       "      <td>0.0</td>\n",
       "      <td>-11.0</td>\n",
       "      <td>1015.7</td>\n",
       "      <td>3.0</td>\n",
       "      <td>2.8</td>\n",
       "      <td>-1.8</td>\n",
       "    </tr>\n",
       "    <tr>\n",
       "      <th>352</th>\n",
       "      <td>2021-12-19</td>\n",
       "      <td>-0.6</td>\n",
       "      <td>-5.0</td>\n",
       "      <td>4.6</td>\n",
       "      <td>1.3</td>\n",
       "      <td>-4.4</td>\n",
       "      <td>1012.0</td>\n",
       "      <td>1.6</td>\n",
       "      <td>1.1</td>\n",
       "      <td>0.1</td>\n",
       "    </tr>\n",
       "    <tr>\n",
       "      <th>353</th>\n",
       "      <td>2021-12-20</td>\n",
       "      <td>3.6</td>\n",
       "      <td>-4.2</td>\n",
       "      <td>11.2</td>\n",
       "      <td>0.0</td>\n",
       "      <td>0.8</td>\n",
       "      <td>1007.6</td>\n",
       "      <td>2.8</td>\n",
       "      <td>2.4</td>\n",
       "      <td>2.1</td>\n",
       "    </tr>\n",
       "  </tbody>\n",
       "</table>\n",
       "<p>354 rows × 10 columns</p>\n",
       "</div>"
      ],
      "text/plain": [
       "           date  average temp  min temp  max temp  rain amount  \\\n",
       "0    2021-01-01          -6.6     -13.9      -2.1          0.0   \n",
       "1    2021-01-02          -6.2     -12.3      -0.6          NaN   \n",
       "2    2021-01-03          -5.8     -12.3      -0.2          NaN   \n",
       "3    2021-01-04          -4.5     -12.2       1.2          NaN   \n",
       "4    2021-01-05          -4.2     -10.4      -1.2          0.2   \n",
       "..          ...           ...       ...       ...          ...   \n",
       "349  2021-12-16           4.8       1.4      10.7          NaN   \n",
       "350  2021-12-17          -3.3      -8.7       5.9          NaN   \n",
       "351  2021-12-18          -4.8     -12.1       0.4          0.0   \n",
       "352  2021-12-19          -0.6      -5.0       4.6          1.3   \n",
       "353  2021-12-20           3.6      -4.2      11.2          0.0   \n",
       "\n",
       "     average dewpoint  average air pressure  average cloud amount  \\\n",
       "0                -7.5                1016.4                   6.4   \n",
       "1               -11.2                1019.6                   0.1   \n",
       "2               -11.7                1024.3                   4.8   \n",
       "3                -9.7                1021.3                   5.6   \n",
       "4               -11.2                1019.9                   1.9   \n",
       "..                ...                   ...                   ...   \n",
       "349               2.2                1008.5                   9.3   \n",
       "350             -10.9                1013.3                   3.8   \n",
       "351             -11.0                1015.7                   3.0   \n",
       "352              -4.4                1012.0                   1.6   \n",
       "353               0.8                1007.6                   2.8   \n",
       "\n",
       "     average low cloud amount  average surface temp  \n",
       "0                         6.4                  -0.5  \n",
       "1                         0.0                  -0.5  \n",
       "2                         2.3                  -1.4  \n",
       "3                         5.4                  -1.4  \n",
       "4                         1.8                  -1.7  \n",
       "..                        ...                   ...  \n",
       "349                       7.5                   4.8  \n",
       "350                       3.0                  -0.3  \n",
       "351                       2.8                  -1.8  \n",
       "352                       1.1                   0.1  \n",
       "353                       2.4                   2.1  \n",
       "\n",
       "[354 rows x 10 columns]"
      ]
     },
     "execution_count": 99,
     "metadata": {},
     "output_type": "execute_result"
    }
   ],
   "source": [
    "df"
   ]
  },
  {
   "cell_type": "code",
   "execution_count": 100,
   "id": "5e554709",
   "metadata": {},
   "outputs": [
    {
     "name": "stdout",
     "output_type": "stream",
     "text": [
      "<class 'pandas.core.frame.DataFrame'>\n",
      "RangeIndex: 354 entries, 0 to 353\n",
      "Data columns (total 10 columns):\n",
      " #   Column                    Non-Null Count  Dtype  \n",
      "---  ------                    --------------  -----  \n",
      " 0   date                      354 non-null    object \n",
      " 1   average temp              354 non-null    float64\n",
      " 2   min temp                  354 non-null    float64\n",
      " 3   max temp                  354 non-null    float64\n",
      " 4   rain amount               152 non-null    float64\n",
      " 5   average dewpoint          352 non-null    float64\n",
      " 6   average air pressure      354 non-null    float64\n",
      " 7   average cloud amount      351 non-null    float64\n",
      " 8   average low cloud amount  346 non-null    float64\n",
      " 9   average surface temp      354 non-null    float64\n",
      "dtypes: float64(9), object(1)\n",
      "memory usage: 27.8+ KB\n"
     ]
    }
   ],
   "source": [
    "df.info()"
   ]
  },
  {
   "cell_type": "markdown",
   "id": "dd14f354",
   "metadata": {},
   "source": [
    "### 강우량이 0인경우와 그렇지 않은 경우로 나눠 이진 분류를 위한 라벨값으로 사용할 것이다."
   ]
  },
  {
   "cell_type": "code",
   "execution_count": 101,
   "id": "dc79c2a2",
   "metadata": {},
   "outputs": [
    {
     "data": {
      "text/plain": [
       "<seaborn.axisgrid.FacetGrid at 0x28b857e2b20>"
      ]
     },
     "execution_count": 101,
     "metadata": {},
     "output_type": "execute_result"
    },
    {
     "data": {
      "image/png": "[encoded data removed]",
      "text/plain": [
       "<Figure size 360x360 with 1 Axes>"
      ]
     },
     "metadata": {
      "needs_background": "light"
     },
     "output_type": "display_data"
    }
   ],
   "source": [
    "sns.displot(df[\"rain amount\"])"
   ]
  },
  {
   "cell_type": "code",
   "execution_count": 102,
   "id": "f26bebf5",
   "metadata": {},
   "outputs": [],
   "source": [
    "df[\"rain amount\"] = df[\"rain amount\"].fillna(0)"
   ]
  },
  {
   "cell_type": "code",
   "execution_count": 103,
   "id": "00d7239d",
   "metadata": {},
   "outputs": [
    {
     "data": {
      "text/plain": [
       "<seaborn.axisgrid.FacetGrid at 0x28b85564e20>"
      ]
     },
     "execution_count": 103,
     "metadata": {},
     "output_type": "execute_result"
    },
    {
     "data": {
      "image/png": "[encoded data removed]",
      "text/plain": [
       "<Figure size 360x360 with 1 Axes>"
      ]
     },
     "metadata": {
      "needs_background": "light"
     },
     "output_type": "display_data"
    }
   ],
   "source": [
    "sns.displot(df[\"rain amount\"])"
   ]
  },
  {
   "cell_type": "code",
   "execution_count": 104,
   "id": "1a2df680",
   "metadata": {},
   "outputs": [
    {
     "name": "stderr",
     "output_type": "stream",
     "text": [
      "<ipython-input-104-d1248c9641c3>:1: SettingWithCopyWarning: \n",
      "A value is trying to be set on a copy of a slice from a DataFrame\n",
      "\n",
      "See the caveats in the documentation: https://pandas.pydata.org/pandas-docs/stable/user_guide/indexing.html#returning-a-view-versus-a-copy\n",
      "  df[\"rain amount\"][df[\"rain amount\"]!=0] = 1\n"
     ]
    }
   ],
   "source": [
    "df[\"rain amount\"][df[\"rain amount\"]!=0] = 1"
   ]
  },
  {
   "cell_type": "code",
   "execution_count": 105,
   "id": "d1f35985",
   "metadata": {},
   "outputs": [
    {
     "data": {
      "text/plain": [
       "<seaborn.axisgrid.FacetGrid at 0x28b8556af10>"
      ]
     },
     "execution_count": 105,
     "metadata": {},
     "output_type": "execute_result"
    },
    {
     "data": {
      "image/png": "[encoded data removed]",
      "text/plain": [
       "<Figure size 360x360 with 1 Axes>"
      ]
     },
     "metadata": {
      "needs_background": "light"
     },
     "output_type": "display_data"
    }
   ],
   "source": [
    "sns.displot(df[\"rain amount\"])"
   ]
  },
  {
   "cell_type": "markdown",
   "id": "111816d9",
   "metadata": {},
   "source": [
    "### 결측치 양이 많지 않으므로 모두 중앙값으로 채워주었다"
   ]
  },
  {
   "cell_type": "code",
   "execution_count": 106,
   "id": "73fc6ef2",
   "metadata": {},
   "outputs": [],
   "source": [
    "df[\"average dewpoint\"] = df[\"average dewpoint\"].fillna(df[\"average dewpoint\"].median())"
   ]
  },
  {
   "cell_type": "code",
   "execution_count": 107,
   "id": "3e29414e",
   "metadata": {},
   "outputs": [],
   "source": [
    "df[\"average cloud amount\"] = df[\"average cloud amount\"].fillna(df[\"average cloud amount\"].median())"
   ]
  },
  {
   "cell_type": "code",
   "execution_count": 109,
   "id": "7d0243be",
   "metadata": {},
   "outputs": [],
   "source": [
    "df[\"average low cloud amount\"] = df[\"average low cloud amount\"].fillna(df[\"average low cloud amount\"].median())"
   ]
  },
  {
   "cell_type": "code",
   "execution_count": 110,
   "id": "02fab809",
   "metadata": {},
   "outputs": [
    {
     "name": "stdout",
     "output_type": "stream",
     "text": [
      "<class 'pandas.core.frame.DataFrame'>\n",
      "RangeIndex: 354 entries, 0 to 353\n",
      "Data columns (total 10 columns):\n",
      " #   Column                    Non-Null Count  Dtype  \n",
      "---  ------                    --------------  -----  \n",
      " 0   date                      354 non-null    object \n",
      " 1   average temp              354 non-null    float64\n",
      " 2   min temp                  354 non-null    float64\n",
      " 3   max temp                  354 non-null    float64\n",
      " 4   rain amount               354 non-null    float64\n",
      " 5   average dewpoint          354 non-null    float64\n",
      " 6   average air pressure      354 non-null    float64\n",
      " 7   average cloud amount      354 non-null    float64\n",
      " 8   average low cloud amount  354 non-null    float64\n",
      " 9   average surface temp      354 non-null    float64\n",
      "dtypes: float64(9), object(1)\n",
      "memory usage: 27.8+ KB\n"
     ]
    }
   ],
   "source": [
    "df.info()"
   ]
  },
  {
   "cell_type": "markdown",
   "id": "99749ef7",
   "metadata": {},
   "source": [
    "### date값을 str에서 datetime형으로 바꿔주었다"
   ]
  },
  {
   "cell_type": "code",
   "execution_count": 116,
   "id": "fba35e04",
   "metadata": {},
   "outputs": [
    {
     "data": {
      "text/plain": [
       "str"
      ]
     },
     "execution_count": 116,
     "metadata": {},
     "output_type": "execute_result"
    }
   ],
   "source": [
    "type(df[\"date\"][0])"
   ]
  },
  {
   "cell_type": "code",
   "execution_count": 117,
   "id": "f2bb26e2",
   "metadata": {},
   "outputs": [],
   "source": [
    "df['date']=  pd.to_datetime(df['date'])"
   ]
  },
  {
   "cell_type": "code",
   "execution_count": 118,
   "id": "07f23b3a",
   "metadata": {},
   "outputs": [
    {
     "data": {
      "text/plain": [
       "pandas._libs.tslibs.timestamps.Timestamp"
      ]
     },
     "execution_count": 118,
     "metadata": {},
     "output_type": "execute_result"
    }
   ],
   "source": [
    "type(df[\"date\"][0])"
   ]
  },
  {
   "cell_type": "code",
   "execution_count": 120,
   "id": "1e7923b1",
   "metadata": {},
   "outputs": [],
   "source": [
    "df[\"date\"] = df[\"date\"].astype(np.int64)"
   ]
  },
  {
   "cell_type": "code",
   "execution_count": 121,
   "id": "1c64cc3d",
   "metadata": {},
   "outputs": [],
   "source": [
    "X, y = df.drop(\"rain amount\", axis=1), df[\"rain amount\"]"
   ]
  },
  {
   "cell_type": "code",
   "execution_count": 122,
   "id": "6b2ac346",
   "metadata": {},
   "outputs": [],
   "source": [
    "X_train, X_test, y_train, y_test = train_test_split(X, y, test_size=0.2)"
   ]
  },
  {
   "cell_type": "code",
   "execution_count": 123,
   "id": "567fe7fa",
   "metadata": {},
   "outputs": [],
   "source": [
    "model = RandomForestClassifier()"
   ]
  },
  {
   "cell_type": "code",
   "execution_count": 124,
   "id": "686c7133",
   "metadata": {},
   "outputs": [
    {
     "data": {
      "text/plain": [
       "RandomForestClassifier()"
      ]
     },
     "execution_count": 124,
     "metadata": {},
     "output_type": "execute_result"
    }
   ],
   "source": [
    "model.fit(X_train, y_train)"
   ]
  },
  {
   "cell_type": "code",
   "execution_count": 125,
   "id": "4e326633",
   "metadata": {},
   "outputs": [
    {
     "data": {
      "text/plain": [
       "0.8450704225352113"
      ]
     },
     "execution_count": 125,
     "metadata": {},
     "output_type": "execute_result"
    }
   ],
   "source": [
    "model.score(X_test, y_test)"
   ]
  },
  {
   "cell_type": "code",
   "execution_count": null,
   "id": "51a698d5",
   "metadata": {},
   "outputs": [],
   "source": []
  }
 ],
 "metadata": {
  "kernelspec": {
   "display_name": "Python 3",
   "language": "python",
   "name": "python3"
  },
  "language_info": {
   "codemirror_mode": {
    "name": "ipython",
    "version": 3
   },
   "file_extension": ".py",
   "mimetype": "text/x-python",
   "name": "python",
   "nbconvert_exporter": "python",
   "pygments_lexer": "ipython3",
   "version": "3.8.8"
  }
 },
 "nbformat": 4,
 "nbformat_minor": 5
}
