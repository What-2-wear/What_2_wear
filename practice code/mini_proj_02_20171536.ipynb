{
 "cells": [
  {
   "cell_type": "code",
   "execution_count": 647,
   "id": "243a31ee",
   "metadata": {},
   "outputs": [],
   "source": [
    "import matplotlib.pyplot as plt\n",
    "%matplotlib inline\n",
    "import seaborn as sns\n",
    "import pandas as pd\n",
    "import numpy as np\n",
    "#from sklearn.preprocessing import OneHotEncoder\n",
    "#from sklearn.model_selection import cross_val_score\n",
    "from  sklearn.model_selection import GridSearchCV, train_test_split, RandomizedSearchCV, cross_val_score\n",
    "from sklearn.metrics import classification_report\n",
    "#from sklearn.metrics import classification_report\n",
    "from sklearn.ensemble import VotingClassifier, BaggingClassifier"
   ]
  },
  {
   "cell_type": "code",
   "execution_count": 648,
   "id": "fedec13f",
   "metadata": {},
   "outputs": [],
   "source": [
    "df = pd.read_csv(\"../datasets/train.csv\")"
   ]
  },
  {
   "cell_type": "code",
   "execution_count": 649,
   "id": "1615fb5c",
   "metadata": {},
   "outputs": [],
   "source": [
    "df = df.sample(frac=1)"
   ]
  },
  {
   "cell_type": "code",
   "execution_count": 650,
   "id": "6ca91e41",
   "metadata": {},
   "outputs": [
    {
     "data": {
      "text/html": [
       "<div>\n",
       "<style scoped>\n",
       "    .dataframe tbody tr th:only-of-type {\n",
       "        vertical-align: middle;\n",
       "    }\n",
       "\n",
       "    .dataframe tbody tr th {\n",
       "        vertical-align: top;\n",
       "    }\n",
       "\n",
       "    .dataframe thead th {\n",
       "        text-align: right;\n",
       "    }\n",
       "</style>\n",
       "<table border=\"1\" class=\"dataframe\">\n",
       "  <thead>\n",
       "    <tr style=\"text-align: right;\">\n",
       "      <th></th>\n",
       "      <th>tBodyAcc-mean()-X</th>\n",
       "      <th>tBodyAcc-mean()-Y</th>\n",
       "      <th>tBodyAcc-mean()-Z</th>\n",
       "      <th>tBodyAcc-std()-X</th>\n",
       "      <th>tBodyAcc-std()-Y</th>\n",
       "      <th>tBodyAcc-std()-Z</th>\n",
       "      <th>tBodyAcc-mad()-X</th>\n",
       "      <th>tBodyAcc-mad()-Y</th>\n",
       "      <th>tBodyAcc-mad()-Z</th>\n",
       "      <th>tBodyAcc-max()-X</th>\n",
       "      <th>...</th>\n",
       "      <th>fBodyBodyGyroJerkMag-kurtosis()</th>\n",
       "      <th>angle(tBodyAccMean,gravity)</th>\n",
       "      <th>angle(tBodyAccJerkMean),gravityMean)</th>\n",
       "      <th>angle(tBodyGyroMean,gravityMean)</th>\n",
       "      <th>angle(tBodyGyroJerkMean,gravityMean)</th>\n",
       "      <th>angle(X,gravityMean)</th>\n",
       "      <th>angle(Y,gravityMean)</th>\n",
       "      <th>angle(Z,gravityMean)</th>\n",
       "      <th>subject</th>\n",
       "      <th>Activity</th>\n",
       "    </tr>\n",
       "  </thead>\n",
       "  <tbody>\n",
       "    <tr>\n",
       "      <th>2475</th>\n",
       "      <td>0.317580</td>\n",
       "      <td>-0.003070</td>\n",
       "      <td>-0.151547</td>\n",
       "      <td>-0.388493</td>\n",
       "      <td>-0.026988</td>\n",
       "      <td>0.092445</td>\n",
       "      <td>-0.407174</td>\n",
       "      <td>-0.023718</td>\n",
       "      <td>0.031913</td>\n",
       "      <td>-0.270174</td>\n",
       "      <td>...</td>\n",
       "      <td>-0.636779</td>\n",
       "      <td>-0.438499</td>\n",
       "      <td>-0.856624</td>\n",
       "      <td>-0.668051</td>\n",
       "      <td>-0.067137</td>\n",
       "      <td>-0.456810</td>\n",
       "      <td>0.276903</td>\n",
       "      <td>0.353375</td>\n",
       "      <td>14</td>\n",
       "      <td>WALKING</td>\n",
       "    </tr>\n",
       "    <tr>\n",
       "      <th>6759</th>\n",
       "      <td>0.487402</td>\n",
       "      <td>-0.030216</td>\n",
       "      <td>-0.072281</td>\n",
       "      <td>0.161988</td>\n",
       "      <td>-0.204576</td>\n",
       "      <td>-0.226556</td>\n",
       "      <td>0.152217</td>\n",
       "      <td>-0.318058</td>\n",
       "      <td>-0.180173</td>\n",
       "      <td>0.399365</td>\n",
       "      <td>...</td>\n",
       "      <td>-0.696968</td>\n",
       "      <td>-0.898677</td>\n",
       "      <td>0.111616</td>\n",
       "      <td>0.837867</td>\n",
       "      <td>0.017433</td>\n",
       "      <td>-0.843305</td>\n",
       "      <td>0.125635</td>\n",
       "      <td>-0.092523</td>\n",
       "      <td>29</td>\n",
       "      <td>WALKING_DOWNSTAIRS</td>\n",
       "    </tr>\n",
       "    <tr>\n",
       "      <th>6475</th>\n",
       "      <td>0.281547</td>\n",
       "      <td>-0.015141</td>\n",
       "      <td>-0.104244</td>\n",
       "      <td>-0.993256</td>\n",
       "      <td>-0.976697</td>\n",
       "      <td>-0.978215</td>\n",
       "      <td>-0.994149</td>\n",
       "      <td>-0.977764</td>\n",
       "      <td>-0.976742</td>\n",
       "      <td>-0.936552</td>\n",
       "      <td>...</td>\n",
       "      <td>-0.602704</td>\n",
       "      <td>-0.137022</td>\n",
       "      <td>0.317102</td>\n",
       "      <td>-0.647626</td>\n",
       "      <td>0.581592</td>\n",
       "      <td>-0.739315</td>\n",
       "      <td>0.266540</td>\n",
       "      <td>0.083339</td>\n",
       "      <td>28</td>\n",
       "      <td>STANDING</td>\n",
       "    </tr>\n",
       "    <tr>\n",
       "      <th>3228</th>\n",
       "      <td>0.382346</td>\n",
       "      <td>-0.013127</td>\n",
       "      <td>-0.052535</td>\n",
       "      <td>-0.424764</td>\n",
       "      <td>-0.166179</td>\n",
       "      <td>0.005068</td>\n",
       "      <td>-0.485751</td>\n",
       "      <td>-0.188535</td>\n",
       "      <td>-0.043407</td>\n",
       "      <td>-0.331254</td>\n",
       "      <td>...</td>\n",
       "      <td>-0.909926</td>\n",
       "      <td>-0.296462</td>\n",
       "      <td>0.820430</td>\n",
       "      <td>0.967080</td>\n",
       "      <td>-0.158376</td>\n",
       "      <td>-0.554561</td>\n",
       "      <td>-0.042034</td>\n",
       "      <td>0.301642</td>\n",
       "      <td>16</td>\n",
       "      <td>WALKING_UPSTAIRS</td>\n",
       "    </tr>\n",
       "    <tr>\n",
       "      <th>2167</th>\n",
       "      <td>0.270881</td>\n",
       "      <td>0.005586</td>\n",
       "      <td>-0.119672</td>\n",
       "      <td>-0.480875</td>\n",
       "      <td>0.010226</td>\n",
       "      <td>-0.598251</td>\n",
       "      <td>-0.522119</td>\n",
       "      <td>0.026077</td>\n",
       "      <td>-0.591285</td>\n",
       "      <td>-0.274796</td>\n",
       "      <td>...</td>\n",
       "      <td>-0.539357</td>\n",
       "      <td>0.209821</td>\n",
       "      <td>-0.888033</td>\n",
       "      <td>0.318886</td>\n",
       "      <td>0.698684</td>\n",
       "      <td>-0.791201</td>\n",
       "      <td>0.230261</td>\n",
       "      <td>-0.042189</td>\n",
       "      <td>11</td>\n",
       "      <td>WALKING</td>\n",
       "    </tr>\n",
       "    <tr>\n",
       "      <th>127</th>\n",
       "      <td>0.281552</td>\n",
       "      <td>-0.016110</td>\n",
       "      <td>-0.140093</td>\n",
       "      <td>-0.094665</td>\n",
       "      <td>-0.007348</td>\n",
       "      <td>-0.347492</td>\n",
       "      <td>-0.151053</td>\n",
       "      <td>-0.142693</td>\n",
       "      <td>-0.315866</td>\n",
       "      <td>0.199676</td>\n",
       "      <td>...</td>\n",
       "      <td>-0.729144</td>\n",
       "      <td>-0.048504</td>\n",
       "      <td>0.653022</td>\n",
       "      <td>0.972225</td>\n",
       "      <td>0.530882</td>\n",
       "      <td>-0.802236</td>\n",
       "      <td>0.234166</td>\n",
       "      <td>0.031817</td>\n",
       "      <td>1</td>\n",
       "      <td>WALKING_DOWNSTAIRS</td>\n",
       "    </tr>\n",
       "    <tr>\n",
       "      <th>2580</th>\n",
       "      <td>0.293948</td>\n",
       "      <td>-0.021669</td>\n",
       "      <td>-0.127792</td>\n",
       "      <td>-0.990301</td>\n",
       "      <td>-0.969908</td>\n",
       "      <td>-0.969817</td>\n",
       "      <td>-0.991602</td>\n",
       "      <td>-0.970624</td>\n",
       "      <td>-0.965812</td>\n",
       "      <td>-0.929050</td>\n",
       "      <td>...</td>\n",
       "      <td>-0.764437</td>\n",
       "      <td>-0.039025</td>\n",
       "      <td>0.024135</td>\n",
       "      <td>0.160201</td>\n",
       "      <td>0.472026</td>\n",
       "      <td>-0.479407</td>\n",
       "      <td>-0.228872</td>\n",
       "      <td>-0.134205</td>\n",
       "      <td>15</td>\n",
       "      <td>SITTING</td>\n",
       "    </tr>\n",
       "    <tr>\n",
       "      <th>6215</th>\n",
       "      <td>0.268811</td>\n",
       "      <td>-0.016757</td>\n",
       "      <td>-0.009001</td>\n",
       "      <td>-0.109575</td>\n",
       "      <td>-0.344403</td>\n",
       "      <td>-0.141851</td>\n",
       "      <td>-0.142173</td>\n",
       "      <td>-0.315824</td>\n",
       "      <td>-0.062334</td>\n",
       "      <td>0.195791</td>\n",
       "      <td>...</td>\n",
       "      <td>-0.897921</td>\n",
       "      <td>0.277797</td>\n",
       "      <td>-0.805723</td>\n",
       "      <td>-0.943926</td>\n",
       "      <td>-0.342149</td>\n",
       "      <td>-0.593285</td>\n",
       "      <td>0.206788</td>\n",
       "      <td>0.286026</td>\n",
       "      <td>27</td>\n",
       "      <td>WALKING_DOWNSTAIRS</td>\n",
       "    </tr>\n",
       "    <tr>\n",
       "      <th>739</th>\n",
       "      <td>0.226161</td>\n",
       "      <td>-0.032703</td>\n",
       "      <td>-0.132209</td>\n",
       "      <td>-0.742664</td>\n",
       "      <td>-0.807998</td>\n",
       "      <td>-0.839194</td>\n",
       "      <td>-0.780931</td>\n",
       "      <td>-0.833054</td>\n",
       "      <td>-0.841762</td>\n",
       "      <td>-0.829783</td>\n",
       "      <td>...</td>\n",
       "      <td>-0.622985</td>\n",
       "      <td>0.421382</td>\n",
       "      <td>0.070847</td>\n",
       "      <td>-0.065841</td>\n",
       "      <td>-0.204017</td>\n",
       "      <td>0.631982</td>\n",
       "      <td>-0.837477</td>\n",
       "      <td>-0.153943</td>\n",
       "      <td>5</td>\n",
       "      <td>LAYING</td>\n",
       "    </tr>\n",
       "    <tr>\n",
       "      <th>3975</th>\n",
       "      <td>0.277450</td>\n",
       "      <td>-0.018282</td>\n",
       "      <td>-0.109974</td>\n",
       "      <td>-0.997234</td>\n",
       "      <td>-0.991650</td>\n",
       "      <td>-0.991582</td>\n",
       "      <td>-0.997353</td>\n",
       "      <td>-0.990488</td>\n",
       "      <td>-0.992004</td>\n",
       "      <td>-0.942245</td>\n",
       "      <td>...</td>\n",
       "      <td>-0.925783</td>\n",
       "      <td>-0.192034</td>\n",
       "      <td>-0.053722</td>\n",
       "      <td>0.649999</td>\n",
       "      <td>-0.147402</td>\n",
       "      <td>-0.651324</td>\n",
       "      <td>0.299280</td>\n",
       "      <td>0.152245</td>\n",
       "      <td>21</td>\n",
       "      <td>STANDING</td>\n",
       "    </tr>\n",
       "  </tbody>\n",
       "</table>\n",
       "<p>10 rows × 563 columns</p>\n",
       "</div>"
      ],
      "text/plain": [
       "      tBodyAcc-mean()-X  tBodyAcc-mean()-Y  tBodyAcc-mean()-Z  \\\n",
       "2475           0.317580          -0.003070          -0.151547   \n",
       "6759           0.487402          -0.030216          -0.072281   \n",
       "6475           0.281547          -0.015141          -0.104244   \n",
       "3228           0.382346          -0.013127          -0.052535   \n",
       "2167           0.270881           0.005586          -0.119672   \n",
       "127            0.281552          -0.016110          -0.140093   \n",
       "2580           0.293948          -0.021669          -0.127792   \n",
       "6215           0.268811          -0.016757          -0.009001   \n",
       "739            0.226161          -0.032703          -0.132209   \n",
       "3975           0.277450          -0.018282          -0.109974   \n",
       "\n",
       "      tBodyAcc-std()-X  tBodyAcc-std()-Y  tBodyAcc-std()-Z  tBodyAcc-mad()-X  \\\n",
       "2475         -0.388493         -0.026988          0.092445         -0.407174   \n",
       "6759          0.161988         -0.204576         -0.226556          0.152217   \n",
       "6475         -0.993256         -0.976697         -0.978215         -0.994149   \n",
       "3228         -0.424764         -0.166179          0.005068         -0.485751   \n",
       "2167         -0.480875          0.010226         -0.598251         -0.522119   \n",
       "127          -0.094665         -0.007348         -0.347492         -0.151053   \n",
       "2580         -0.990301         -0.969908         -0.969817         -0.991602   \n",
       "6215         -0.109575         -0.344403         -0.141851         -0.142173   \n",
       "739          -0.742664         -0.807998         -0.839194         -0.780931   \n",
       "3975         -0.997234         -0.991650         -0.991582         -0.997353   \n",
       "\n",
       "      tBodyAcc-mad()-Y  tBodyAcc-mad()-Z  tBodyAcc-max()-X  ...  \\\n",
       "2475         -0.023718          0.031913         -0.270174  ...   \n",
       "6759         -0.318058         -0.180173          0.399365  ...   \n",
       "6475         -0.977764         -0.976742         -0.936552  ...   \n",
       "3228         -0.188535         -0.043407         -0.331254  ...   \n",
       "2167          0.026077         -0.591285         -0.274796  ...   \n",
       "127          -0.142693         -0.315866          0.199676  ...   \n",
       "2580         -0.970624         -0.965812         -0.929050  ...   \n",
       "6215         -0.315824         -0.062334          0.195791  ...   \n",
       "739          -0.833054         -0.841762         -0.829783  ...   \n",
       "3975         -0.990488         -0.992004         -0.942245  ...   \n",
       "\n",
       "      fBodyBodyGyroJerkMag-kurtosis()  angle(tBodyAccMean,gravity)  \\\n",
       "2475                        -0.636779                    -0.438499   \n",
       "6759                        -0.696968                    -0.898677   \n",
       "6475                        -0.602704                    -0.137022   \n",
       "3228                        -0.909926                    -0.296462   \n",
       "2167                        -0.539357                     0.209821   \n",
       "127                         -0.729144                    -0.048504   \n",
       "2580                        -0.764437                    -0.039025   \n",
       "6215                        -0.897921                     0.277797   \n",
       "739                         -0.622985                     0.421382   \n",
       "3975                        -0.925783                    -0.192034   \n",
       "\n",
       "      angle(tBodyAccJerkMean),gravityMean)  angle(tBodyGyroMean,gravityMean)  \\\n",
       "2475                             -0.856624                         -0.668051   \n",
       "6759                              0.111616                          0.837867   \n",
       "6475                              0.317102                         -0.647626   \n",
       "3228                              0.820430                          0.967080   \n",
       "2167                             -0.888033                          0.318886   \n",
       "127                               0.653022                          0.972225   \n",
       "2580                              0.024135                          0.160201   \n",
       "6215                             -0.805723                         -0.943926   \n",
       "739                               0.070847                         -0.065841   \n",
       "3975                             -0.053722                          0.649999   \n",
       "\n",
       "      angle(tBodyGyroJerkMean,gravityMean)  angle(X,gravityMean)  \\\n",
       "2475                             -0.067137             -0.456810   \n",
       "6759                              0.017433             -0.843305   \n",
       "6475                              0.581592             -0.739315   \n",
       "3228                             -0.158376             -0.554561   \n",
       "2167                              0.698684             -0.791201   \n",
       "127                               0.530882             -0.802236   \n",
       "2580                              0.472026             -0.479407   \n",
       "6215                             -0.342149             -0.593285   \n",
       "739                              -0.204017              0.631982   \n",
       "3975                             -0.147402             -0.651324   \n",
       "\n",
       "      angle(Y,gravityMean)  angle(Z,gravityMean)  subject            Activity  \n",
       "2475              0.276903              0.353375       14             WALKING  \n",
       "6759              0.125635             -0.092523       29  WALKING_DOWNSTAIRS  \n",
       "6475              0.266540              0.083339       28            STANDING  \n",
       "3228             -0.042034              0.301642       16    WALKING_UPSTAIRS  \n",
       "2167              0.230261             -0.042189       11             WALKING  \n",
       "127               0.234166              0.031817        1  WALKING_DOWNSTAIRS  \n",
       "2580             -0.228872             -0.134205       15             SITTING  \n",
       "6215              0.206788              0.286026       27  WALKING_DOWNSTAIRS  \n",
       "739              -0.837477             -0.153943        5              LAYING  \n",
       "3975              0.299280              0.152245       21            STANDING  \n",
       "\n",
       "[10 rows x 563 columns]"
      ]
     },
     "execution_count": 650,
     "metadata": {},
     "output_type": "execute_result"
    }
   ],
   "source": [
    "df.head(10)"
   ]
  },
  {
   "cell_type": "code",
   "execution_count": 651,
   "id": "b4921d92",
   "metadata": {},
   "outputs": [],
   "source": [
    "X, y = df.drop(\"Activity\", axis=1), df[\"Activity\"]"
   ]
  },
  {
   "cell_type": "code",
   "execution_count": 652,
   "id": "22c58b5c",
   "metadata": {},
   "outputs": [],
   "source": [
    "from sklearn.linear_model import LogisticRegression\n",
    "from sklearn.svm import SVC as SVC_, LinearSVC\n",
    "from sklearn.ensemble import RandomForestClassifier, ExtraTreesClassifier\n",
    "from sklearn.linear_model import SGDClassifier\n",
    "from sklearn.tree import DecisionTreeClassifier"
   ]
  },
  {
   "cell_type": "code",
   "execution_count": 653,
   "id": "238f2276",
   "metadata": {},
   "outputs": [],
   "source": [
    "X_train, X_test, y_train, y_test = train_test_split(X, y, test_size=0.2)"
   ]
  },
  {
   "cell_type": "markdown",
   "id": "63d6fa7c",
   "metadata": {},
   "source": [
    "# 모델생성 "
   ]
  },
  {
   "cell_type": "code",
   "execution_count": 654,
   "id": "e7dd2cf7",
   "metadata": {},
   "outputs": [],
   "source": [
    "SVC = SVC_(probability=True)\n",
    "random_forest = RandomForestClassifier()\n",
    "decision_tree = DecisionTreeClassifier()\n",
    "logreg = LogisticRegression()"
   ]
  },
  {
   "cell_type": "code",
   "execution_count": 655,
   "id": "f71f6678",
   "metadata": {},
   "outputs": [],
   "source": [
    "SVC = SVC_(kernel=\"linear\", C=3, tol=1.5, probability=True)"
   ]
  },
  {
   "cell_type": "code",
   "execution_count": 656,
   "id": "86b91c58",
   "metadata": {},
   "outputs": [
    {
     "data": {
      "text/plain": [
       "SVC(C=3, kernel='linear', probability=True, tol=1.5)"
      ]
     },
     "execution_count": 656,
     "metadata": {},
     "output_type": "execute_result"
    }
   ],
   "source": [
    "SVC.fit(X_train, y_train)"
   ]
  },
  {
   "cell_type": "code",
   "execution_count": 657,
   "id": "80e7713c",
   "metadata": {},
   "outputs": [
    {
     "name": "stdout",
     "output_type": "stream",
     "text": [
      "0.9967692569290937 0.9755268524813052\n"
     ]
    }
   ],
   "source": [
    "print(SVC.score(X_train, y_train),SVC.score(X_test, y_test) )\n"
   ]
  },
  {
   "cell_type": "code",
   "execution_count": 658,
   "id": "d7a8b9ca",
   "metadata": {},
   "outputs": [],
   "source": [
    "logreg = LogisticRegression(penalty=\"l1\", solver=\"liblinear\", C=12)"
   ]
  },
  {
   "cell_type": "code",
   "execution_count": 659,
   "id": "23c8b4d3",
   "metadata": {},
   "outputs": [
    {
     "data": {
      "text/plain": [
       "LogisticRegression(C=12, penalty='l1', solver='liblinear')"
      ]
     },
     "execution_count": 659,
     "metadata": {},
     "output_type": "execute_result"
    }
   ],
   "source": [
    "logreg.fit(X_train, y_train)"
   ]
  },
  {
   "cell_type": "code",
   "execution_count": 660,
   "id": "61a8be71",
   "metadata": {},
   "outputs": [
    {
     "name": "stdout",
     "output_type": "stream",
     "text": [
      "0.9977894915830641 0.9830047586675731\n"
     ]
    }
   ],
   "source": [
    "print(logreg.score(X_train, y_train),logreg.score(X_test, y_test) )\n"
   ]
  },
  {
   "cell_type": "code",
   "execution_count": 661,
   "id": "dec81b63",
   "metadata": {},
   "outputs": [
    {
     "data": {
      "text/plain": [
       "ExtraTreesClassifier(criterion='entropy', max_features=550, min_samples_leaf=3,\n",
       "                     min_samples_split=5)"
      ]
     },
     "execution_count": 661,
     "metadata": {},
     "output_type": "execute_result"
    }
   ],
   "source": [
    "random_forest = ExtraTreesClassifier(max_features=550, criterion=\"entropy\", min_samples_leaf=3, min_samples_split=5)\n",
    "random_forest.fit(X_train, y_train)"
   ]
  },
  {
   "cell_type": "code",
   "execution_count": 662,
   "id": "b409e3d2",
   "metadata": {},
   "outputs": [
    {
     "name": "stdout",
     "output_type": "stream",
     "text": [
      "1.0 0.9884432358939497\n"
     ]
    }
   ],
   "source": [
    "print(random_forest.score(X_train, y_train),random_forest.score(X_test, y_test) )\n"
   ]
  },
  {
   "cell_type": "code",
   "execution_count": 666,
   "id": "ef1e0053",
   "metadata": {},
   "outputs": [
    {
     "data": {
      "text/plain": [
       "VotingClassifier(estimators=[('svc',\n",
       "                              SVC(C=3, kernel='linear', probability=True,\n",
       "                                  tol=1.5)),\n",
       "                             ('rf',\n",
       "                              ExtraTreesClassifier(criterion='entropy',\n",
       "                                                   max_features=550,\n",
       "                                                   min_samples_leaf=3,\n",
       "                                                   min_samples_split=5)),\n",
       "                             ('logreg',\n",
       "                              LogisticRegression(C=12, penalty='l1',\n",
       "                                                 solver='liblinear'))])"
      ]
     },
     "execution_count": 666,
     "metadata": {},
     "output_type": "execute_result"
    }
   ],
   "source": [
    "hard_vote = VotingClassifier(estimators=[('svc', SVC), ('rf', random_forest), (\"logreg\", logreg)], voting='soft')\n",
    "hard_vote.fit(X_train, y_train)"
   ]
  },
  {
   "cell_type": "code",
   "execution_count": 664,
   "id": "65220467",
   "metadata": {},
   "outputs": [
    {
     "data": {
      "text/plain": [
       "0.9864038069340585"
      ]
     },
     "execution_count": 664,
     "metadata": {},
     "output_type": "execute_result"
    }
   ],
   "source": [
    "hard_vote.score(X_test, y_test)"
   ]
  },
  {
   "cell_type": "code",
   "execution_count": 665,
   "id": "0eb6cff3",
   "metadata": {},
   "outputs": [
    {
     "name": "stdout",
     "output_type": "stream",
     "text": [
      "[0.98777174 0.98641304 0.98639456 0.99047619 0.99591837 0.99183673\n",
      " 0.98639456 0.9877551  0.99727891 0.9877551 ] 0.989799430641822\n"
     ]
    }
   ],
   "source": [
    "scores = cross_val_score(hard_vote, X, y, scoring=\"accuracy\", n_jobs = -1, cv=10)\n",
    "print(scores, scores.mean())"
   ]
  }
 ],
 "metadata": {
  "kernelspec": {
   "display_name": "Python 3",
   "language": "python",
   "name": "python3"
  },
  "language_info": {
   "codemirror_mode": {
    "name": "ipython",
    "version": 3
   },
   "file_extension": ".py",
   "mimetype": "text/x-python",
   "name": "python",
   "nbconvert_exporter": "python",
   "pygments_lexer": "ipython3",
   "version": "3.8.8"
  }
 },
 "nbformat": 4,
 "nbformat_minor": 5
}
