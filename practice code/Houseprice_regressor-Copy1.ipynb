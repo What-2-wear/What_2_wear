{
 "cells": [
  {
   "cell_type": "code",
   "execution_count": 1,
   "id": "e8bd0b8d",
   "metadata": {},
   "outputs": [],
   "source": [
    "import matplotlib.pyplot as plt\n",
    "%matplotlib inline\n",
    "import seaborn as sns\n",
    "import pandas as pd\n",
    "import numpy as np\n",
    "#from sklearn.preprocessing import OneHotEncoder\n",
    "#from sklearn.model_selection import cross_val_score\n",
    "from  sklearn.model_selection import GridSearchCV, train_test_split\n",
    "#from sklearn.metrics import classification_report\n",
    "#from sklearn.ensemble import VotingClassifier, BaggingClassifier"
   ]
  },
  {
   "cell_type": "code",
   "execution_count": 2,
   "id": "9dd5ae24",
   "metadata": {},
   "outputs": [],
   "source": [
    "df = pd.read_csv(\"../datasets/kc_house_data.csv\")\n",
    "df = df.sample(frac=1)"
   ]
  },
  {
   "cell_type": "code",
   "execution_count": 3,
   "id": "c3348810",
   "metadata": {},
   "outputs": [
    {
     "data": {
      "text/html": [
       "<div>\n",
       "<style scoped>\n",
       "    .dataframe tbody tr th:only-of-type {\n",
       "        vertical-align: middle;\n",
       "    }\n",
       "\n",
       "    .dataframe tbody tr th {\n",
       "        vertical-align: top;\n",
       "    }\n",
       "\n",
       "    .dataframe thead th {\n",
       "        text-align: right;\n",
       "    }\n",
       "</style>\n",
       "<table border=\"1\" class=\"dataframe\">\n",
       "  <thead>\n",
       "    <tr style=\"text-align: right;\">\n",
       "      <th></th>\n",
       "      <th>id</th>\n",
       "      <th>date</th>\n",
       "      <th>price</th>\n",
       "      <th>bedrooms</th>\n",
       "      <th>bathrooms</th>\n",
       "      <th>sqft_living</th>\n",
       "      <th>sqft_lot</th>\n",
       "      <th>floors</th>\n",
       "      <th>waterfront</th>\n",
       "      <th>view</th>\n",
       "      <th>...</th>\n",
       "      <th>grade</th>\n",
       "      <th>sqft_above</th>\n",
       "      <th>sqft_basement</th>\n",
       "      <th>yr_built</th>\n",
       "      <th>yr_renovated</th>\n",
       "      <th>zipcode</th>\n",
       "      <th>lat</th>\n",
       "      <th>long</th>\n",
       "      <th>sqft_living15</th>\n",
       "      <th>sqft_lot15</th>\n",
       "    </tr>\n",
       "  </thead>\n",
       "  <tbody>\n",
       "    <tr>\n",
       "      <th>8328</th>\n",
       "      <td>2600020330</td>\n",
       "      <td>20140813T000000</td>\n",
       "      <td>1218000.0</td>\n",
       "      <td>4</td>\n",
       "      <td>2.75</td>\n",
       "      <td>3670</td>\n",
       "      <td>15400</td>\n",
       "      <td>2.0</td>\n",
       "      <td>0</td>\n",
       "      <td>3</td>\n",
       "      <td>...</td>\n",
       "      <td>10</td>\n",
       "      <td>3670</td>\n",
       "      <td>0</td>\n",
       "      <td>1986</td>\n",
       "      <td>0</td>\n",
       "      <td>98006</td>\n",
       "      <td>47.5581</td>\n",
       "      <td>-122.156</td>\n",
       "      <td>3370</td>\n",
       "      <td>13300</td>\n",
       "    </tr>\n",
       "    <tr>\n",
       "      <th>13684</th>\n",
       "      <td>2427910040</td>\n",
       "      <td>20140826T000000</td>\n",
       "      <td>515000.0</td>\n",
       "      <td>4</td>\n",
       "      <td>2.50</td>\n",
       "      <td>2890</td>\n",
       "      <td>15067</td>\n",
       "      <td>2.0</td>\n",
       "      <td>0</td>\n",
       "      <td>0</td>\n",
       "      <td>...</td>\n",
       "      <td>9</td>\n",
       "      <td>2890</td>\n",
       "      <td>0</td>\n",
       "      <td>2003</td>\n",
       "      <td>0</td>\n",
       "      <td>98024</td>\n",
       "      <td>47.5666</td>\n",
       "      <td>-121.907</td>\n",
       "      <td>3090</td>\n",
       "      <td>15398</td>\n",
       "    </tr>\n",
       "    <tr>\n",
       "      <th>13736</th>\n",
       "      <td>4475800065</td>\n",
       "      <td>20140613T000000</td>\n",
       "      <td>459950.0</td>\n",
       "      <td>3</td>\n",
       "      <td>1.75</td>\n",
       "      <td>1850</td>\n",
       "      <td>6869</td>\n",
       "      <td>1.0</td>\n",
       "      <td>0</td>\n",
       "      <td>2</td>\n",
       "      <td>...</td>\n",
       "      <td>6</td>\n",
       "      <td>1100</td>\n",
       "      <td>750</td>\n",
       "      <td>1919</td>\n",
       "      <td>1934</td>\n",
       "      <td>98166</td>\n",
       "      <td>47.4648</td>\n",
       "      <td>-122.363</td>\n",
       "      <td>1850</td>\n",
       "      <td>10096</td>\n",
       "    </tr>\n",
       "    <tr>\n",
       "      <th>11319</th>\n",
       "      <td>3396830310</td>\n",
       "      <td>20150407T000000</td>\n",
       "      <td>729000.0</td>\n",
       "      <td>4</td>\n",
       "      <td>2.50</td>\n",
       "      <td>2450</td>\n",
       "      <td>27081</td>\n",
       "      <td>2.0</td>\n",
       "      <td>0</td>\n",
       "      <td>0</td>\n",
       "      <td>...</td>\n",
       "      <td>8</td>\n",
       "      <td>2450</td>\n",
       "      <td>0</td>\n",
       "      <td>1985</td>\n",
       "      <td>0</td>\n",
       "      <td>98052</td>\n",
       "      <td>47.7177</td>\n",
       "      <td>-122.104</td>\n",
       "      <td>2630</td>\n",
       "      <td>12025</td>\n",
       "    </tr>\n",
       "    <tr>\n",
       "      <th>17416</th>\n",
       "      <td>7227501190</td>\n",
       "      <td>20150427T000000</td>\n",
       "      <td>250000.0</td>\n",
       "      <td>3</td>\n",
       "      <td>1.00</td>\n",
       "      <td>1220</td>\n",
       "      <td>5038</td>\n",
       "      <td>1.0</td>\n",
       "      <td>0</td>\n",
       "      <td>0</td>\n",
       "      <td>...</td>\n",
       "      <td>6</td>\n",
       "      <td>1220</td>\n",
       "      <td>0</td>\n",
       "      <td>1942</td>\n",
       "      <td>0</td>\n",
       "      <td>98056</td>\n",
       "      <td>47.4960</td>\n",
       "      <td>-122.189</td>\n",
       "      <td>1140</td>\n",
       "      <td>5038</td>\n",
       "    </tr>\n",
       "    <tr>\n",
       "      <th>1200</th>\n",
       "      <td>11900140</td>\n",
       "      <td>20140509T000000</td>\n",
       "      <td>254000.0</td>\n",
       "      <td>3</td>\n",
       "      <td>2.50</td>\n",
       "      <td>1850</td>\n",
       "      <td>4597</td>\n",
       "      <td>2.0</td>\n",
       "      <td>0</td>\n",
       "      <td>0</td>\n",
       "      <td>...</td>\n",
       "      <td>8</td>\n",
       "      <td>1850</td>\n",
       "      <td>0</td>\n",
       "      <td>2003</td>\n",
       "      <td>0</td>\n",
       "      <td>98042</td>\n",
       "      <td>47.3755</td>\n",
       "      <td>-122.136</td>\n",
       "      <td>2210</td>\n",
       "      <td>5000</td>\n",
       "    </tr>\n",
       "    <tr>\n",
       "      <th>2201</th>\n",
       "      <td>7853240560</td>\n",
       "      <td>20140903T000000</td>\n",
       "      <td>585000.0</td>\n",
       "      <td>4</td>\n",
       "      <td>2.50</td>\n",
       "      <td>3110</td>\n",
       "      <td>6479</td>\n",
       "      <td>2.0</td>\n",
       "      <td>0</td>\n",
       "      <td>0</td>\n",
       "      <td>...</td>\n",
       "      <td>9</td>\n",
       "      <td>3110</td>\n",
       "      <td>0</td>\n",
       "      <td>2005</td>\n",
       "      <td>0</td>\n",
       "      <td>98065</td>\n",
       "      <td>47.5408</td>\n",
       "      <td>-121.861</td>\n",
       "      <td>3110</td>\n",
       "      <td>7075</td>\n",
       "    </tr>\n",
       "    <tr>\n",
       "      <th>8147</th>\n",
       "      <td>9422400035</td>\n",
       "      <td>20140912T000000</td>\n",
       "      <td>477500.0</td>\n",
       "      <td>2</td>\n",
       "      <td>2.00</td>\n",
       "      <td>2090</td>\n",
       "      <td>6000</td>\n",
       "      <td>2.0</td>\n",
       "      <td>0</td>\n",
       "      <td>1</td>\n",
       "      <td>...</td>\n",
       "      <td>7</td>\n",
       "      <td>2090</td>\n",
       "      <td>0</td>\n",
       "      <td>1918</td>\n",
       "      <td>1985</td>\n",
       "      <td>98116</td>\n",
       "      <td>47.5732</td>\n",
       "      <td>-122.413</td>\n",
       "      <td>1600</td>\n",
       "      <td>5400</td>\n",
       "    </tr>\n",
       "    <tr>\n",
       "      <th>8216</th>\n",
       "      <td>7302900090</td>\n",
       "      <td>20150218T000000</td>\n",
       "      <td>555000.0</td>\n",
       "      <td>4</td>\n",
       "      <td>2.25</td>\n",
       "      <td>3330</td>\n",
       "      <td>21785</td>\n",
       "      <td>2.0</td>\n",
       "      <td>0</td>\n",
       "      <td>0</td>\n",
       "      <td>...</td>\n",
       "      <td>9</td>\n",
       "      <td>3330</td>\n",
       "      <td>0</td>\n",
       "      <td>1994</td>\n",
       "      <td>0</td>\n",
       "      <td>98059</td>\n",
       "      <td>47.4725</td>\n",
       "      <td>-122.136</td>\n",
       "      <td>3330</td>\n",
       "      <td>21796</td>\n",
       "    </tr>\n",
       "    <tr>\n",
       "      <th>1096</th>\n",
       "      <td>4366700140</td>\n",
       "      <td>20141219T000000</td>\n",
       "      <td>241000.0</td>\n",
       "      <td>3</td>\n",
       "      <td>1.00</td>\n",
       "      <td>1010</td>\n",
       "      <td>9611</td>\n",
       "      <td>1.0</td>\n",
       "      <td>0</td>\n",
       "      <td>0</td>\n",
       "      <td>...</td>\n",
       "      <td>6</td>\n",
       "      <td>1010</td>\n",
       "      <td>0</td>\n",
       "      <td>1973</td>\n",
       "      <td>0</td>\n",
       "      <td>98092</td>\n",
       "      <td>47.3006</td>\n",
       "      <td>-122.066</td>\n",
       "      <td>1200</td>\n",
       "      <td>9611</td>\n",
       "    </tr>\n",
       "  </tbody>\n",
       "</table>\n",
       "<p>10 rows × 21 columns</p>\n",
       "</div>"
      ],
      "text/plain": [
       "               id             date      price  bedrooms  bathrooms  \\\n",
       "8328   2600020330  20140813T000000  1218000.0         4       2.75   \n",
       "13684  2427910040  20140826T000000   515000.0         4       2.50   \n",
       "13736  4475800065  20140613T000000   459950.0         3       1.75   \n",
       "11319  3396830310  20150407T000000   729000.0         4       2.50   \n",
       "17416  7227501190  20150427T000000   250000.0         3       1.00   \n",
       "1200     11900140  20140509T000000   254000.0         3       2.50   \n",
       "2201   7853240560  20140903T000000   585000.0         4       2.50   \n",
       "8147   9422400035  20140912T000000   477500.0         2       2.00   \n",
       "8216   7302900090  20150218T000000   555000.0         4       2.25   \n",
       "1096   4366700140  20141219T000000   241000.0         3       1.00   \n",
       "\n",
       "       sqft_living  sqft_lot  floors  waterfront  view  ...  grade  \\\n",
       "8328          3670     15400     2.0           0     3  ...     10   \n",
       "13684         2890     15067     2.0           0     0  ...      9   \n",
       "13736         1850      6869     1.0           0     2  ...      6   \n",
       "11319         2450     27081     2.0           0     0  ...      8   \n",
       "17416         1220      5038     1.0           0     0  ...      6   \n",
       "1200          1850      4597     2.0           0     0  ...      8   \n",
       "2201          3110      6479     2.0           0     0  ...      9   \n",
       "8147          2090      6000     2.0           0     1  ...      7   \n",
       "8216          3330     21785     2.0           0     0  ...      9   \n",
       "1096          1010      9611     1.0           0     0  ...      6   \n",
       "\n",
       "       sqft_above  sqft_basement  yr_built  yr_renovated  zipcode      lat  \\\n",
       "8328         3670              0      1986             0    98006  47.5581   \n",
       "13684        2890              0      2003             0    98024  47.5666   \n",
       "13736        1100            750      1919          1934    98166  47.4648   \n",
       "11319        2450              0      1985             0    98052  47.7177   \n",
       "17416        1220              0      1942             0    98056  47.4960   \n",
       "1200         1850              0      2003             0    98042  47.3755   \n",
       "2201         3110              0      2005             0    98065  47.5408   \n",
       "8147         2090              0      1918          1985    98116  47.5732   \n",
       "8216         3330              0      1994             0    98059  47.4725   \n",
       "1096         1010              0      1973             0    98092  47.3006   \n",
       "\n",
       "          long  sqft_living15  sqft_lot15  \n",
       "8328  -122.156           3370       13300  \n",
       "13684 -121.907           3090       15398  \n",
       "13736 -122.363           1850       10096  \n",
       "11319 -122.104           2630       12025  \n",
       "17416 -122.189           1140        5038  \n",
       "1200  -122.136           2210        5000  \n",
       "2201  -121.861           3110        7075  \n",
       "8147  -122.413           1600        5400  \n",
       "8216  -122.136           3330       21796  \n",
       "1096  -122.066           1200        9611  \n",
       "\n",
       "[10 rows x 21 columns]"
      ]
     },
     "execution_count": 3,
     "metadata": {},
     "output_type": "execute_result"
    }
   ],
   "source": [
    "df.head(10)"
   ]
  },
  {
   "cell_type": "code",
   "execution_count": 4,
   "id": "983b81d6",
   "metadata": {},
   "outputs": [
    {
     "data": {
      "text/plain": [
       "price            1.000000\n",
       "sqft_living      0.702035\n",
       "grade            0.667434\n",
       "sqft_above       0.605567\n",
       "sqft_living15    0.585379\n",
       "bathrooms        0.525138\n",
       "view             0.397293\n",
       "sqft_basement    0.323816\n",
       "bedrooms         0.308350\n",
       "lat              0.307003\n",
       "waterfront       0.266369\n",
       "floors           0.256794\n",
       "yr_renovated     0.126434\n",
       "sqft_lot         0.089661\n",
       "sqft_lot15       0.082447\n",
       "yr_built         0.054012\n",
       "condition        0.036362\n",
       "long             0.021626\n",
       "id              -0.016762\n",
       "zipcode         -0.053203\n",
       "Name: price, dtype: float64"
      ]
     },
     "execution_count": 4,
     "metadata": {},
     "output_type": "execute_result"
    }
   ],
   "source": [
    "df.corr()[\"price\"].sort_values(ascending=False)"
   ]
  },
  {
   "cell_type": "code",
   "execution_count": 5,
   "id": "4a81ed3c",
   "metadata": {},
   "outputs": [],
   "source": [
    "df['date']=  pd.to_datetime(df['date'])"
   ]
  },
  {
   "cell_type": "code",
   "execution_count": 6,
   "id": "d0729e08",
   "metadata": {},
   "outputs": [],
   "source": [
    "df['date'] = df['date'].apply(lambda x: x.strftime('%Y%m%d'))\n",
    "df[\"date\"] = df[\"date\"].astype(int)"
   ]
  },
  {
   "cell_type": "markdown",
   "id": "8271177d",
   "metadata": {},
   "source": [
    "# ###########특성공학부분################# \n",
    "### 데이터의 수가 적으며 사용할 수 있는 모델이 제한되어있으므로 대부분은 사용하지 않았다"
   ]
  },
  {
   "cell_type": "code",
   "execution_count": 7,
   "id": "31290ad6",
   "metadata": {},
   "outputs": [],
   "source": [
    "### df를 그냥 건드리긴 할껀데 일단 y값은 시각화를 위해 필요하다\n",
    "X, y = df.drop(\"price\", axis=1), df[\"price\"]"
   ]
  },
  {
   "cell_type": "code",
   "execution_count": 8,
   "id": "a640324a",
   "metadata": {},
   "outputs": [],
   "source": [
    "#일단 얘를 Bool형으로 바꿔주자\n",
    "#X[\"yr_renovated\"].value_counts()"
   ]
  },
  {
   "cell_type": "code",
   "execution_count": 9,
   "id": "dd145c4f",
   "metadata": {},
   "outputs": [],
   "source": [
    "#X[\"yr_renovated\"] = X[\"yr_renovated\"] != 0"
   ]
  },
  {
   "cell_type": "code",
   "execution_count": 10,
   "id": "471b718c",
   "metadata": {},
   "outputs": [],
   "source": [
    "#X[\"yr_renovated\"].value_counts()"
   ]
  },
  {
   "cell_type": "code",
   "execution_count": 11,
   "id": "47b83122",
   "metadata": {},
   "outputs": [],
   "source": [
    "#sns.barplot(X[\"yr_renovated\"], y)"
   ]
  },
  {
   "cell_type": "code",
   "execution_count": 12,
   "id": "81fa09ef",
   "metadata": {},
   "outputs": [],
   "source": [
    "# 0아니면 8에 큰문제가 있다\n",
    "#sns.barplot(X[\"bedrooms\"], y)"
   ]
  },
  {
   "cell_type": "code",
   "execution_count": 13,
   "id": "b9e3c77f",
   "metadata": {},
   "outputs": [],
   "source": [
    "#X[\"bedrooms\"].value_counts()"
   ]
  },
  {
   "cell_type": "code",
   "execution_count": 14,
   "id": "8ab5e25d",
   "metadata": {},
   "outputs": [],
   "source": [
    "# 그래프 패턴이 좀 이상하니 9 이상, 1이하를 모아주자\n",
    "#X[\"bedrooms\"][X[\"bedrooms\"] > 7] =7\n",
    "#X[\"bedrooms\"][X[\"bedrooms\"] < 1] =1"
   ]
  },
  {
   "cell_type": "code",
   "execution_count": 15,
   "id": "46224bab",
   "metadata": {},
   "outputs": [],
   "source": [
    "### 조금 더 봐줄만은하다\n",
    "#sns.barplot(X[\"bedrooms\"], y)"
   ]
  },
  {
   "cell_type": "code",
   "execution_count": 16,
   "id": "b536bccd",
   "metadata": {},
   "outputs": [],
   "source": [
    "#X[\"lat\"]"
   ]
  },
  {
   "cell_type": "code",
   "execution_count": 17,
   "id": "d7ed2f4a",
   "metadata": {},
   "outputs": [],
   "source": [
    "#X[\"lat\"] = X[\"lat\"]*100\n",
    "#X[\"lat\"] = X[\"lat\"].astype(int)"
   ]
  },
  {
   "cell_type": "code",
   "execution_count": 18,
   "id": "3a4a1886",
   "metadata": {},
   "outputs": [],
   "source": [
    "#sns.displot(X[\"lat\"])"
   ]
  },
  {
   "cell_type": "code",
   "execution_count": 19,
   "id": "6c6f85d4",
   "metadata": {},
   "outputs": [],
   "source": [
    "#X[\"lat\"][X[\"lat\"] < 4720].value_counts()"
   ]
  },
  {
   "cell_type": "code",
   "execution_count": 20,
   "id": "65959d18",
   "metadata": {},
   "outputs": [],
   "source": [
    "#X[\"lat\"][X[\"lat\"] < 4720] =4720"
   ]
  },
  {
   "cell_type": "code",
   "execution_count": 21,
   "id": "5a16588e",
   "metadata": {},
   "outputs": [],
   "source": [
    "#X[\"long\"].value_counts()"
   ]
  },
  {
   "cell_type": "code",
   "execution_count": 22,
   "id": "95e7a883",
   "metadata": {},
   "outputs": [],
   "source": [
    "#X[\"long\"] = X[\"long\"]*100\n",
    "#X[\"long\"] = X[\"long\"].astype(int)"
   ]
  },
  {
   "cell_type": "code",
   "execution_count": 23,
   "id": "ded7d75d",
   "metadata": {},
   "outputs": [],
   "source": [
    "#sns.displot(X[\"long\"])"
   ]
  },
  {
   "cell_type": "code",
   "execution_count": 24,
   "id": "0e7dc120",
   "metadata": {},
   "outputs": [],
   "source": [
    "#X[\"long\"][X[\"long\"] > -12170] = -12170\n",
    "#X[\"long\"][X[\"long\"] < -12240] = -12240"
   ]
  },
  {
   "cell_type": "code",
   "execution_count": 25,
   "id": "e0805be7",
   "metadata": {},
   "outputs": [],
   "source": [
    "#sns.displot(X[\"long\"])"
   ]
  },
  {
   "cell_type": "code",
   "execution_count": 26,
   "id": "90c9455c",
   "metadata": {},
   "outputs": [],
   "source": [
    "#sns.scatterplot(X[\"lat\"], y)"
   ]
  },
  {
   "cell_type": "code",
   "execution_count": 27,
   "id": "820d8e95",
   "metadata": {},
   "outputs": [],
   "source": [
    "#X[\"sqft_lot\"].value_counts()"
   ]
  },
  {
   "cell_type": "code",
   "execution_count": 28,
   "id": "9fe8a192",
   "metadata": {},
   "outputs": [],
   "source": [
    "#sns.displot(X[\"sqft_lot\"])"
   ]
  },
  {
   "cell_type": "code",
   "execution_count": 29,
   "id": "b29b03bd",
   "metadata": {},
   "outputs": [],
   "source": [
    "#X[\"sqft_lot\"][X[\"sqft_lot\"] > 30000] =30000"
   ]
  },
  {
   "cell_type": "code",
   "execution_count": 30,
   "id": "c5af6a78",
   "metadata": {},
   "outputs": [],
   "source": [
    "#sns.regplot(X[\"sqft_lot\"], y)"
   ]
  },
  {
   "cell_type": "code",
   "execution_count": 31,
   "id": "105e951d",
   "metadata": {},
   "outputs": [],
   "source": [
    "#sns.displot(X[\"sqft_lot\"])"
   ]
  },
  {
   "cell_type": "code",
   "execution_count": 8,
   "id": "e400bfac",
   "metadata": {},
   "outputs": [],
   "source": [
    "X[\"temp\"] = X[\"long\"]+X[\"lat\"]"
   ]
  },
  {
   "cell_type": "markdown",
   "id": "cecc1d8b",
   "metadata": {},
   "source": [
    "# 이 아래는 모델단이므로 하나하나 보면서 실행할 수 있을것"
   ]
  },
  {
   "cell_type": "code",
   "execution_count": 13,
   "id": "3677f13d",
   "metadata": {},
   "outputs": [],
   "source": [
    "X_train, X_test, y_train, y_test = train_test_split(X, y, test_size=0.2)"
   ]
  },
  {
   "cell_type": "code",
   "execution_count": 14,
   "id": "e242a49e",
   "metadata": {},
   "outputs": [],
   "source": [
    "from sklearn.linear_model import ElasticNet, Lasso,  BayesianRidge, LassoLarsIC, LinearRegression, SGDRegressor\n",
    "from sklearn.ensemble import RandomForestRegressor,  GradientBoostingRegressor, ExtraTreesRegressor\n",
    "from sklearn.pipeline import make_pipeline\n",
    "from sklearn.model_selection import cross_val_score, train_test_split, RandomizedSearchCV\n",
    "from sklearn.metrics import mean_squared_error"
   ]
  },
  {
   "cell_type": "code",
   "execution_count": 24,
   "id": "bdc76e03",
   "metadata": {},
   "outputs": [
    {
     "data": {
      "text/plain": [
       "GradientBoostingRegressor(max_depth=7, max_features=5)"
      ]
     },
     "execution_count": 24,
     "metadata": {},
     "output_type": "execute_result"
    }
   ],
   "source": [
    "grad_boost = GradientBoostingRegressor(max_features= 5, max_depth= 7, learning_rate= 0.1)\n",
    "grad_boost.fit(X_train, y_train)"
   ]
  },
  {
   "cell_type": "code",
   "execution_count": 25,
   "id": "d7bb1426",
   "metadata": {},
   "outputs": [
    {
     "name": "stdout",
     "output_type": "stream",
     "text": [
      "63628.4193692385 116343.25231706846\n"
     ]
    }
   ],
   "source": [
    "predicted = grad_boost.predict(X_test)\n",
    "train_predicted = grad_boost.predict(X_train)\n",
    "train_mse = mean_squared_error(y_train, train_predicted)\n",
    "mse = mean_squared_error(y_test, predicted)\n",
    "rmse = np.sqrt(mse)\n",
    "train_rmse = np.sqrt(train_mse)\n",
    "print(train_rmse, rmse)"
   ]
  },
  {
   "cell_type": "code",
   "execution_count": 26,
   "id": "58d7f47a",
   "metadata": {},
   "outputs": [],
   "source": [
    "def displayscores(scores):\n",
    "    print(\"Scores: \", scores)\n",
    "    print(\"Mean: \", scores.mean())\n",
    "    print(\"Standard deviation: \", scores.std())"
   ]
  },
  {
   "cell_type": "code",
   "execution_count": 27,
   "id": "0c8d009f",
   "metadata": {},
   "outputs": [
    {
     "name": "stdout",
     "output_type": "stream",
     "text": [
      "Scores:  [110550.74784358 113084.48141847 112448.57572939 112017.64600455\n",
      " 116982.53054743 142442.67930037 128317.2749704  121572.67510596\n",
      " 110075.59938454 104254.03895362]\n",
      "Mean:  117174.6249258307\n",
      "Standard deviation:  10530.364035218541\n"
     ]
    }
   ],
   "source": [
    "scores = cross_val_score(grad_boost, X, y, scoring=\"neg_mean_squared_error\", n_jobs = -1, cv=10)\n",
    "displayscores(np.sqrt(-scores))"
   ]
  },
  {
   "cell_type": "code",
   "execution_count": 124,
   "id": "983d9672",
   "metadata": {},
   "outputs": [],
   "source": [
    "model = GradientBoostingRegressor()\n",
    "\n",
    "param_grid = {\n",
    "    'learning_rate':[0.008, 0.01, 0.05, 0.1],\n",
    "    'max_depth':[3, 5, 7, 10, 20, 30],\n",
    "    'max_features': np.arange(3, 7)    \n",
    "}\n",
    "\n",
    "clf = RandomizedSearchCV(model, param_grid,n_iter=10,cv=3, scoring='neg_mean_squared_error',      verbose=1,    n_jobs=-1\n",
    ")"
   ]
  },
  {
   "cell_type": "code",
   "execution_count": 125,
   "id": "a7de953c",
   "metadata": {},
   "outputs": [
    {
     "name": "stdout",
     "output_type": "stream",
     "text": [
      "Fitting 3 folds for each of 10 candidates, totalling 30 fits\n"
     ]
    },
    {
     "data": {
      "text/plain": [
       "RandomizedSearchCV(cv=3, estimator=GradientBoostingRegressor(), n_jobs=-1,\n",
       "                   param_distributions={'learning_rate': [0.008, 0.01, 0.05,\n",
       "                                                          0.1],\n",
       "                                        'max_depth': [3, 5, 7, 10, 20, 30],\n",
       "                                        'max_features': array([3, 4, 5, 6])},\n",
       "                   scoring='neg_mean_squared_error', verbose=1)"
      ]
     },
     "execution_count": 125,
     "metadata": {},
     "output_type": "execute_result"
    }
   ],
   "source": [
    "clf.fit(X_train, y_train)"
   ]
  },
  {
   "cell_type": "code",
   "execution_count": 126,
   "id": "9886ad45",
   "metadata": {},
   "outputs": [
    {
     "data": {
      "text/plain": [
       "{'max_features': 6, 'max_depth': 20, 'learning_rate': 0.1}"
      ]
     },
     "execution_count": 126,
     "metadata": {},
     "output_type": "execute_result"
    }
   ],
   "source": [
    "clf.best_params_"
   ]
  },
  {
   "cell_type": "code",
   "execution_count": null,
   "id": "e236223b",
   "metadata": {},
   "outputs": [],
   "source": []
  }
 ],
 "metadata": {
  "kernelspec": {
   "display_name": "Python 3",
   "language": "python",
   "name": "python3"
  },
  "language_info": {
   "codemirror_mode": {
    "name": "ipython",
    "version": 3
   },
   "file_extension": ".py",
   "mimetype": "text/x-python",
   "name": "python",
   "nbconvert_exporter": "python",
   "pygments_lexer": "ipython3",
   "version": "3.8.8"
  }
 },
 "nbformat": 4,
 "nbformat_minor": 5
}
