{
 "cells": [
  {
   "cell_type": "code",
   "execution_count": 1,
   "id": "e8bd0b8d",
   "metadata": {},
   "outputs": [],
   "source": [
    "import matplotlib.pyplot as plt\n",
    "%matplotlib inline\n",
    "import seaborn as sns\n",
    "import pandas as pd\n",
    "import numpy as np\n",
    "#from sklearn.preprocessing import OneHotEncoder\n",
    "#from sklearn.model_selection import cross_val_score\n",
    "from  sklearn.model_selection import GridSearchCV, train_test_split\n",
    "#from sklearn.metrics import classification_report\n",
    "#from sklearn.ensemble import VotingClassifier, BaggingClassifier"
   ]
  },
  {
   "cell_type": "code",
   "execution_count": 2,
   "id": "9dd5ae24",
   "metadata": {},
   "outputs": [],
   "source": [
    "df = pd.read_csv(\"../datasets/kc_house_data.csv\")"
   ]
  },
  {
   "cell_type": "code",
   "execution_count": 3,
   "id": "c3348810",
   "metadata": {},
   "outputs": [
    {
     "data": {
      "text/html": [
       "<div>\n",
       "<style scoped>\n",
       "    .dataframe tbody tr th:only-of-type {\n",
       "        vertical-align: middle;\n",
       "    }\n",
       "\n",
       "    .dataframe tbody tr th {\n",
       "        vertical-align: top;\n",
       "    }\n",
       "\n",
       "    .dataframe thead th {\n",
       "        text-align: right;\n",
       "    }\n",
       "</style>\n",
       "<table border=\"1\" class=\"dataframe\">\n",
       "  <thead>\n",
       "    <tr style=\"text-align: right;\">\n",
       "      <th></th>\n",
       "      <th>id</th>\n",
       "      <th>date</th>\n",
       "      <th>price</th>\n",
       "      <th>bedrooms</th>\n",
       "      <th>bathrooms</th>\n",
       "      <th>sqft_living</th>\n",
       "      <th>sqft_lot</th>\n",
       "      <th>floors</th>\n",
       "      <th>waterfront</th>\n",
       "      <th>view</th>\n",
       "      <th>...</th>\n",
       "      <th>grade</th>\n",
       "      <th>sqft_above</th>\n",
       "      <th>sqft_basement</th>\n",
       "      <th>yr_built</th>\n",
       "      <th>yr_renovated</th>\n",
       "      <th>zipcode</th>\n",
       "      <th>lat</th>\n",
       "      <th>long</th>\n",
       "      <th>sqft_living15</th>\n",
       "      <th>sqft_lot15</th>\n",
       "    </tr>\n",
       "  </thead>\n",
       "  <tbody>\n",
       "    <tr>\n",
       "      <th>0</th>\n",
       "      <td>7129300520</td>\n",
       "      <td>20141013T000000</td>\n",
       "      <td>221900.0</td>\n",
       "      <td>3</td>\n",
       "      <td>1.00</td>\n",
       "      <td>1180</td>\n",
       "      <td>5650</td>\n",
       "      <td>1.0</td>\n",
       "      <td>0</td>\n",
       "      <td>0</td>\n",
       "      <td>...</td>\n",
       "      <td>7</td>\n",
       "      <td>1180</td>\n",
       "      <td>0</td>\n",
       "      <td>1955</td>\n",
       "      <td>0</td>\n",
       "      <td>98178</td>\n",
       "      <td>47.5112</td>\n",
       "      <td>-122.257</td>\n",
       "      <td>1340</td>\n",
       "      <td>5650</td>\n",
       "    </tr>\n",
       "    <tr>\n",
       "      <th>1</th>\n",
       "      <td>6414100192</td>\n",
       "      <td>20141209T000000</td>\n",
       "      <td>538000.0</td>\n",
       "      <td>3</td>\n",
       "      <td>2.25</td>\n",
       "      <td>2570</td>\n",
       "      <td>7242</td>\n",
       "      <td>2.0</td>\n",
       "      <td>0</td>\n",
       "      <td>0</td>\n",
       "      <td>...</td>\n",
       "      <td>7</td>\n",
       "      <td>2170</td>\n",
       "      <td>400</td>\n",
       "      <td>1951</td>\n",
       "      <td>1991</td>\n",
       "      <td>98125</td>\n",
       "      <td>47.7210</td>\n",
       "      <td>-122.319</td>\n",
       "      <td>1690</td>\n",
       "      <td>7639</td>\n",
       "    </tr>\n",
       "    <tr>\n",
       "      <th>2</th>\n",
       "      <td>5631500400</td>\n",
       "      <td>20150225T000000</td>\n",
       "      <td>180000.0</td>\n",
       "      <td>2</td>\n",
       "      <td>1.00</td>\n",
       "      <td>770</td>\n",
       "      <td>10000</td>\n",
       "      <td>1.0</td>\n",
       "      <td>0</td>\n",
       "      <td>0</td>\n",
       "      <td>...</td>\n",
       "      <td>6</td>\n",
       "      <td>770</td>\n",
       "      <td>0</td>\n",
       "      <td>1933</td>\n",
       "      <td>0</td>\n",
       "      <td>98028</td>\n",
       "      <td>47.7379</td>\n",
       "      <td>-122.233</td>\n",
       "      <td>2720</td>\n",
       "      <td>8062</td>\n",
       "    </tr>\n",
       "    <tr>\n",
       "      <th>3</th>\n",
       "      <td>2487200875</td>\n",
       "      <td>20141209T000000</td>\n",
       "      <td>604000.0</td>\n",
       "      <td>4</td>\n",
       "      <td>3.00</td>\n",
       "      <td>1960</td>\n",
       "      <td>5000</td>\n",
       "      <td>1.0</td>\n",
       "      <td>0</td>\n",
       "      <td>0</td>\n",
       "      <td>...</td>\n",
       "      <td>7</td>\n",
       "      <td>1050</td>\n",
       "      <td>910</td>\n",
       "      <td>1965</td>\n",
       "      <td>0</td>\n",
       "      <td>98136</td>\n",
       "      <td>47.5208</td>\n",
       "      <td>-122.393</td>\n",
       "      <td>1360</td>\n",
       "      <td>5000</td>\n",
       "    </tr>\n",
       "    <tr>\n",
       "      <th>4</th>\n",
       "      <td>1954400510</td>\n",
       "      <td>20150218T000000</td>\n",
       "      <td>510000.0</td>\n",
       "      <td>3</td>\n",
       "      <td>2.00</td>\n",
       "      <td>1680</td>\n",
       "      <td>8080</td>\n",
       "      <td>1.0</td>\n",
       "      <td>0</td>\n",
       "      <td>0</td>\n",
       "      <td>...</td>\n",
       "      <td>8</td>\n",
       "      <td>1680</td>\n",
       "      <td>0</td>\n",
       "      <td>1987</td>\n",
       "      <td>0</td>\n",
       "      <td>98074</td>\n",
       "      <td>47.6168</td>\n",
       "      <td>-122.045</td>\n",
       "      <td>1800</td>\n",
       "      <td>7503</td>\n",
       "    </tr>\n",
       "    <tr>\n",
       "      <th>5</th>\n",
       "      <td>7237550310</td>\n",
       "      <td>20140512T000000</td>\n",
       "      <td>1225000.0</td>\n",
       "      <td>4</td>\n",
       "      <td>4.50</td>\n",
       "      <td>5420</td>\n",
       "      <td>101930</td>\n",
       "      <td>1.0</td>\n",
       "      <td>0</td>\n",
       "      <td>0</td>\n",
       "      <td>...</td>\n",
       "      <td>11</td>\n",
       "      <td>3890</td>\n",
       "      <td>1530</td>\n",
       "      <td>2001</td>\n",
       "      <td>0</td>\n",
       "      <td>98053</td>\n",
       "      <td>47.6561</td>\n",
       "      <td>-122.005</td>\n",
       "      <td>4760</td>\n",
       "      <td>101930</td>\n",
       "    </tr>\n",
       "    <tr>\n",
       "      <th>6</th>\n",
       "      <td>1321400060</td>\n",
       "      <td>20140627T000000</td>\n",
       "      <td>257500.0</td>\n",
       "      <td>3</td>\n",
       "      <td>2.25</td>\n",
       "      <td>1715</td>\n",
       "      <td>6819</td>\n",
       "      <td>2.0</td>\n",
       "      <td>0</td>\n",
       "      <td>0</td>\n",
       "      <td>...</td>\n",
       "      <td>7</td>\n",
       "      <td>1715</td>\n",
       "      <td>0</td>\n",
       "      <td>1995</td>\n",
       "      <td>0</td>\n",
       "      <td>98003</td>\n",
       "      <td>47.3097</td>\n",
       "      <td>-122.327</td>\n",
       "      <td>2238</td>\n",
       "      <td>6819</td>\n",
       "    </tr>\n",
       "    <tr>\n",
       "      <th>7</th>\n",
       "      <td>2008000270</td>\n",
       "      <td>20150115T000000</td>\n",
       "      <td>291850.0</td>\n",
       "      <td>3</td>\n",
       "      <td>1.50</td>\n",
       "      <td>1060</td>\n",
       "      <td>9711</td>\n",
       "      <td>1.0</td>\n",
       "      <td>0</td>\n",
       "      <td>0</td>\n",
       "      <td>...</td>\n",
       "      <td>7</td>\n",
       "      <td>1060</td>\n",
       "      <td>0</td>\n",
       "      <td>1963</td>\n",
       "      <td>0</td>\n",
       "      <td>98198</td>\n",
       "      <td>47.4095</td>\n",
       "      <td>-122.315</td>\n",
       "      <td>1650</td>\n",
       "      <td>9711</td>\n",
       "    </tr>\n",
       "    <tr>\n",
       "      <th>8</th>\n",
       "      <td>2414600126</td>\n",
       "      <td>20150415T000000</td>\n",
       "      <td>229500.0</td>\n",
       "      <td>3</td>\n",
       "      <td>1.00</td>\n",
       "      <td>1780</td>\n",
       "      <td>7470</td>\n",
       "      <td>1.0</td>\n",
       "      <td>0</td>\n",
       "      <td>0</td>\n",
       "      <td>...</td>\n",
       "      <td>7</td>\n",
       "      <td>1050</td>\n",
       "      <td>730</td>\n",
       "      <td>1960</td>\n",
       "      <td>0</td>\n",
       "      <td>98146</td>\n",
       "      <td>47.5123</td>\n",
       "      <td>-122.337</td>\n",
       "      <td>1780</td>\n",
       "      <td>8113</td>\n",
       "    </tr>\n",
       "    <tr>\n",
       "      <th>9</th>\n",
       "      <td>3793500160</td>\n",
       "      <td>20150312T000000</td>\n",
       "      <td>323000.0</td>\n",
       "      <td>3</td>\n",
       "      <td>2.50</td>\n",
       "      <td>1890</td>\n",
       "      <td>6560</td>\n",
       "      <td>2.0</td>\n",
       "      <td>0</td>\n",
       "      <td>0</td>\n",
       "      <td>...</td>\n",
       "      <td>7</td>\n",
       "      <td>1890</td>\n",
       "      <td>0</td>\n",
       "      <td>2003</td>\n",
       "      <td>0</td>\n",
       "      <td>98038</td>\n",
       "      <td>47.3684</td>\n",
       "      <td>-122.031</td>\n",
       "      <td>2390</td>\n",
       "      <td>7570</td>\n",
       "    </tr>\n",
       "  </tbody>\n",
       "</table>\n",
       "<p>10 rows × 21 columns</p>\n",
       "</div>"
      ],
      "text/plain": [
       "           id             date      price  bedrooms  bathrooms  sqft_living  \\\n",
       "0  7129300520  20141013T000000   221900.0         3       1.00         1180   \n",
       "1  6414100192  20141209T000000   538000.0         3       2.25         2570   \n",
       "2  5631500400  20150225T000000   180000.0         2       1.00          770   \n",
       "3  2487200875  20141209T000000   604000.0         4       3.00         1960   \n",
       "4  1954400510  20150218T000000   510000.0         3       2.00         1680   \n",
       "5  7237550310  20140512T000000  1225000.0         4       4.50         5420   \n",
       "6  1321400060  20140627T000000   257500.0         3       2.25         1715   \n",
       "7  2008000270  20150115T000000   291850.0         3       1.50         1060   \n",
       "8  2414600126  20150415T000000   229500.0         3       1.00         1780   \n",
       "9  3793500160  20150312T000000   323000.0         3       2.50         1890   \n",
       "\n",
       "   sqft_lot  floors  waterfront  view  ...  grade  sqft_above  sqft_basement  \\\n",
       "0      5650     1.0           0     0  ...      7        1180              0   \n",
       "1      7242     2.0           0     0  ...      7        2170            400   \n",
       "2     10000     1.0           0     0  ...      6         770              0   \n",
       "3      5000     1.0           0     0  ...      7        1050            910   \n",
       "4      8080     1.0           0     0  ...      8        1680              0   \n",
       "5    101930     1.0           0     0  ...     11        3890           1530   \n",
       "6      6819     2.0           0     0  ...      7        1715              0   \n",
       "7      9711     1.0           0     0  ...      7        1060              0   \n",
       "8      7470     1.0           0     0  ...      7        1050            730   \n",
       "9      6560     2.0           0     0  ...      7        1890              0   \n",
       "\n",
       "   yr_built  yr_renovated  zipcode      lat     long  sqft_living15  \\\n",
       "0      1955             0    98178  47.5112 -122.257           1340   \n",
       "1      1951          1991    98125  47.7210 -122.319           1690   \n",
       "2      1933             0    98028  47.7379 -122.233           2720   \n",
       "3      1965             0    98136  47.5208 -122.393           1360   \n",
       "4      1987             0    98074  47.6168 -122.045           1800   \n",
       "5      2001             0    98053  47.6561 -122.005           4760   \n",
       "6      1995             0    98003  47.3097 -122.327           2238   \n",
       "7      1963             0    98198  47.4095 -122.315           1650   \n",
       "8      1960             0    98146  47.5123 -122.337           1780   \n",
       "9      2003             0    98038  47.3684 -122.031           2390   \n",
       "\n",
       "   sqft_lot15  \n",
       "0        5650  \n",
       "1        7639  \n",
       "2        8062  \n",
       "3        5000  \n",
       "4        7503  \n",
       "5      101930  \n",
       "6        6819  \n",
       "7        9711  \n",
       "8        8113  \n",
       "9        7570  \n",
       "\n",
       "[10 rows x 21 columns]"
      ]
     },
     "execution_count": 3,
     "metadata": {},
     "output_type": "execute_result"
    }
   ],
   "source": [
    "df.head(10)"
   ]
  },
  {
   "cell_type": "code",
   "execution_count": 3,
   "id": "983b81d6",
   "metadata": {},
   "outputs": [
    {
     "data": {
      "text/plain": [
       "price            1.000000\n",
       "sqft_living      0.702035\n",
       "grade            0.667434\n",
       "sqft_above       0.605567\n",
       "sqft_living15    0.585379\n",
       "bathrooms        0.525138\n",
       "view             0.397293\n",
       "sqft_basement    0.323816\n",
       "bedrooms         0.308350\n",
       "lat              0.307003\n",
       "waterfront       0.266369\n",
       "floors           0.256794\n",
       "yr_renovated     0.126434\n",
       "sqft_lot         0.089661\n",
       "sqft_lot15       0.082447\n",
       "yr_built         0.054012\n",
       "condition        0.036362\n",
       "long             0.021626\n",
       "id              -0.016762\n",
       "zipcode         -0.053203\n",
       "Name: price, dtype: float64"
      ]
     },
     "execution_count": 3,
     "metadata": {},
     "output_type": "execute_result"
    }
   ],
   "source": [
    "df.corr()[\"price\"].sort_values(ascending=False)"
   ]
  },
  {
   "cell_type": "code",
   "execution_count": 4,
   "id": "4a81ed3c",
   "metadata": {},
   "outputs": [],
   "source": [
    "df['date']=  pd.to_datetime(df['date'])"
   ]
  },
  {
   "cell_type": "code",
   "execution_count": 5,
   "id": "d0729e08",
   "metadata": {},
   "outputs": [],
   "source": [
    "df['date'] = df['date'].apply(lambda x: x.strftime('%Y%m%d'))\n",
    "df[\"date\"] = df[\"date\"].astype(int)"
   ]
  },
  {
   "cell_type": "markdown",
   "id": "8271177d",
   "metadata": {},
   "source": [
    "# ###########특성공학부분################# \n",
    "### 데이터의 수가 적으며 사용할 수 있는 모델이 제한되어있으므로 대부분은 사용하지 않았다"
   ]
  },
  {
   "cell_type": "code",
   "execution_count": 7,
   "id": "31290ad6",
   "metadata": {},
   "outputs": [],
   "source": [
    "### df를 그냥 건드리긴 할껀데 일단 y값은 시각화를 위해 필요하다\n",
    "X, y = df.drop(\"price\", axis=1), df[\"price\"]"
   ]
  },
  {
   "cell_type": "code",
   "execution_count": 8,
   "id": "a640324a",
   "metadata": {},
   "outputs": [],
   "source": [
    "#일단 얘를 Bool형으로 바꿔주자\n",
    "#X[\"yr_renovated\"].value_counts()"
   ]
  },
  {
   "cell_type": "code",
   "execution_count": 9,
   "id": "dd145c4f",
   "metadata": {},
   "outputs": [],
   "source": [
    "#X[\"yr_renovated\"] = X[\"yr_renovated\"] != 0"
   ]
  },
  {
   "cell_type": "code",
   "execution_count": 10,
   "id": "471b718c",
   "metadata": {},
   "outputs": [],
   "source": [
    "#X[\"yr_renovated\"].value_counts()"
   ]
  },
  {
   "cell_type": "code",
   "execution_count": 11,
   "id": "47b83122",
   "metadata": {},
   "outputs": [],
   "source": [
    "#sns.barplot(X[\"yr_renovated\"], y)"
   ]
  },
  {
   "cell_type": "code",
   "execution_count": 12,
   "id": "81fa09ef",
   "metadata": {},
   "outputs": [],
   "source": [
    "# 0아니면 8에 큰문제가 있다\n",
    "#sns.barplot(X[\"bedrooms\"], y)"
   ]
  },
  {
   "cell_type": "code",
   "execution_count": 13,
   "id": "b9e3c77f",
   "metadata": {},
   "outputs": [],
   "source": [
    "#X[\"bedrooms\"].value_counts()"
   ]
  },
  {
   "cell_type": "code",
   "execution_count": 14,
   "id": "8ab5e25d",
   "metadata": {},
   "outputs": [],
   "source": [
    "# 그래프 패턴이 좀 이상하니 9 이상, 1이하를 모아주자\n",
    "#X[\"bedrooms\"][X[\"bedrooms\"] > 7] =7\n",
    "#X[\"bedrooms\"][X[\"bedrooms\"] < 1] =1"
   ]
  },
  {
   "cell_type": "code",
   "execution_count": 15,
   "id": "46224bab",
   "metadata": {},
   "outputs": [],
   "source": [
    "### 조금 더 봐줄만은하다\n",
    "#sns.barplot(X[\"bedrooms\"], y)"
   ]
  },
  {
   "cell_type": "code",
   "execution_count": 16,
   "id": "b536bccd",
   "metadata": {},
   "outputs": [],
   "source": [
    "#X[\"lat\"]"
   ]
  },
  {
   "cell_type": "code",
   "execution_count": 17,
   "id": "d7ed2f4a",
   "metadata": {},
   "outputs": [],
   "source": [
    "#X[\"lat\"] = X[\"lat\"]*100\n",
    "#X[\"lat\"] = X[\"lat\"].astype(int)"
   ]
  },
  {
   "cell_type": "code",
   "execution_count": 18,
   "id": "3a4a1886",
   "metadata": {},
   "outputs": [],
   "source": [
    "#sns.displot(X[\"lat\"])"
   ]
  },
  {
   "cell_type": "code",
   "execution_count": 19,
   "id": "6c6f85d4",
   "metadata": {},
   "outputs": [],
   "source": [
    "#X[\"lat\"][X[\"lat\"] < 4720].value_counts()"
   ]
  },
  {
   "cell_type": "code",
   "execution_count": 20,
   "id": "65959d18",
   "metadata": {},
   "outputs": [],
   "source": [
    "#X[\"lat\"][X[\"lat\"] < 4720] =4720"
   ]
  },
  {
   "cell_type": "code",
   "execution_count": 21,
   "id": "5a16588e",
   "metadata": {},
   "outputs": [],
   "source": [
    "#X[\"long\"].value_counts()"
   ]
  },
  {
   "cell_type": "code",
   "execution_count": 22,
   "id": "95e7a883",
   "metadata": {},
   "outputs": [],
   "source": [
    "#X[\"long\"] = X[\"long\"]*100\n",
    "#X[\"long\"] = X[\"long\"].astype(int)"
   ]
  },
  {
   "cell_type": "code",
   "execution_count": 23,
   "id": "ded7d75d",
   "metadata": {},
   "outputs": [],
   "source": [
    "#sns.displot(X[\"long\"])"
   ]
  },
  {
   "cell_type": "code",
   "execution_count": 24,
   "id": "0e7dc120",
   "metadata": {},
   "outputs": [],
   "source": [
    "#X[\"long\"][X[\"long\"] > -12170] = -12170\n",
    "#X[\"long\"][X[\"long\"] < -12240] = -12240"
   ]
  },
  {
   "cell_type": "code",
   "execution_count": 25,
   "id": "e0805be7",
   "metadata": {},
   "outputs": [],
   "source": [
    "#sns.displot(X[\"long\"])"
   ]
  },
  {
   "cell_type": "code",
   "execution_count": 26,
   "id": "90c9455c",
   "metadata": {},
   "outputs": [],
   "source": [
    "#sns.scatterplot(X[\"lat\"], y)"
   ]
  },
  {
   "cell_type": "code",
   "execution_count": 27,
   "id": "820d8e95",
   "metadata": {},
   "outputs": [],
   "source": [
    "#X[\"sqft_lot\"].value_counts()"
   ]
  },
  {
   "cell_type": "code",
   "execution_count": 28,
   "id": "9fe8a192",
   "metadata": {},
   "outputs": [],
   "source": [
    "#sns.displot(X[\"sqft_lot\"])"
   ]
  },
  {
   "cell_type": "code",
   "execution_count": 29,
   "id": "b29b03bd",
   "metadata": {},
   "outputs": [],
   "source": [
    "#X[\"sqft_lot\"][X[\"sqft_lot\"] > 30000] =30000"
   ]
  },
  {
   "cell_type": "code",
   "execution_count": 30,
   "id": "c5af6a78",
   "metadata": {},
   "outputs": [],
   "source": [
    "#sns.regplot(X[\"sqft_lot\"], y)"
   ]
  },
  {
   "cell_type": "code",
   "execution_count": 31,
   "id": "105e951d",
   "metadata": {},
   "outputs": [],
   "source": [
    "#sns.displot(X[\"sqft_lot\"])"
   ]
  },
  {
   "cell_type": "code",
   "execution_count": 33,
   "id": "e400bfac",
   "metadata": {},
   "outputs": [],
   "source": [
    "X[\"temp\"] = X[\"long\"]+X[\"lat\"]"
   ]
  },
  {
   "cell_type": "markdown",
   "id": "cecc1d8b",
   "metadata": {},
   "source": [
    "# 이 아래는 모델단이므로 하나하나 보면서 실행할 수 있을것"
   ]
  },
  {
   "cell_type": "code",
   "execution_count": 54,
   "id": "e242a49e",
   "metadata": {},
   "outputs": [],
   "source": [
    "from sklearn.ensemble import GradientBoostingRegressor\n",
    "from sklearn.model_selection import cross_val_score, train_test_split, RandomizedSearchCV\n",
    "from sklearn.metrics import mean_squared_error"
   ]
  },
  {
   "cell_type": "markdown",
   "id": "9f8ab4bc",
   "metadata": {},
   "source": [
    "# 일단 수시로 돌리며 테스트해볼 코드를 만들어 둔다\n",
    "# 시간 단축을 위해 Train, test set으로 확인해보겠다"
   ]
  },
  {
   "cell_type": "markdown",
   "id": "bc860f9d",
   "metadata": {},
   "source": [
    "# 아랫단은 가장 마지막 테스트 코드이다"
   ]
  },
  {
   "cell_type": "code",
   "execution_count": 134,
   "id": "ba1f7393",
   "metadata": {},
   "outputs": [],
   "source": [
    "grad_boost = GradientBoostingRegressor(max_features= 5, max_depth= 7, learning_rate= 0.1)\n",
    "#grad_boost.fit(X_train, y_train)"
   ]
  },
  {
   "cell_type": "markdown",
   "id": "73bb0b57",
   "metadata": {},
   "source": [
    "### 테스트용 코드"
   ]
  },
  {
   "cell_type": "code",
   "execution_count": 128,
   "id": "c481a385",
   "metadata": {},
   "outputs": [
    {
     "name": "stdout",
     "output_type": "stream",
     "text": [
      "62546.1696645208 117379.93957755453\n"
     ]
    }
   ],
   "source": [
    "# predicted = grad_boost.predict(X_test)\n",
    "# train_predicted = grad_boost.predict(X_train)\n",
    "# train_mse = mean_squared_error(y_train, train_predicted)\n",
    "# mse = mean_squared_error(y_test, predicted)\n",
    "# rmse = np.sqrt(mse)\n",
    "# train_rmse = np.sqrt(train_mse)\n",
    "# print(train_rmse, rmse)"
   ]
  },
  {
   "cell_type": "markdown",
   "id": "346bbe4f",
   "metadata": {},
   "source": [
    "# 제출 코드"
   ]
  },
  {
   "cell_type": "code",
   "execution_count": 115,
   "id": "58d7f47a",
   "metadata": {},
   "outputs": [],
   "source": [
    "def displayscores(scores):\n",
    "    print(\"Scores: \", scores)\n",
    "    print(\"Mean: \", scores.mean())\n",
    "    print(\"Standard deviation: \", scores.std())"
   ]
  },
  {
   "cell_type": "code",
   "execution_count": 135,
   "id": "0c8d009f",
   "metadata": {},
   "outputs": [
    {
     "name": "stdout",
     "output_type": "stream",
     "text": [
      "Scores:  [122932.63330808 130561.06609892 107020.44386967 129436.63605032\n",
      " 107842.19702357 111119.21263937 120197.98158024 107946.86641832\n",
      " 109843.66099816 128735.68205186]\n",
      "Mean:  117563.6380038523\n",
      "Standard deviation:  9326.081603884608\n"
     ]
    }
   ],
   "source": [
    "scores = cross_val_score(grad_boost, X, y, scoring=\"neg_mean_squared_error\", n_jobs = -1, cv=10)\n",
    "displayscores(np.sqrt(-scores))"
   ]
  },
  {
   "cell_type": "markdown",
   "id": "f0348be0",
   "metadata": {},
   "source": [
    "### Hyper parameter searching"
   ]
  },
  {
   "cell_type": "code",
   "execution_count": 129,
   "id": "983d9672",
   "metadata": {},
   "outputs": [],
   "source": [
    "model = GradientBoostingRegressor()\n",
    "\n",
    "param_grid = {\n",
    "    'learning_rate':[0.008, 0.01, 0.05, 0.1],\n",
    "    'max_depth':[3, 5, 7, 10, 20, 30, 50],\n",
    "    'max_features': np.arange(3, 10)    \n",
    "}\n",
    "\n",
    "clf = RandomizedSearchCV(model, param_grid,n_iter=30,cv=3, scoring='neg_mean_squared_error',      verbose=1,    n_jobs=-1\n",
    ")"
   ]
  },
  {
   "cell_type": "code",
   "execution_count": 130,
   "id": "a7de953c",
   "metadata": {},
   "outputs": [
    {
     "name": "stdout",
     "output_type": "stream",
     "text": [
      "Fitting 3 folds for each of 30 candidates, totalling 90 fits\n"
     ]
    },
    {
     "data": {
      "text/plain": [
       "RandomizedSearchCV(cv=3, estimator=GradientBoostingRegressor(), n_iter=30,\n",
       "                   n_jobs=-1,\n",
       "                   param_distributions={'learning_rate': [0.008, 0.01, 0.05,\n",
       "                                                          0.1],\n",
       "                                        'max_depth': [3, 5, 7, 10, 20, 30, 50],\n",
       "                                        'max_features': array([3, 4, 5, 6, 7, 8, 9])},\n",
       "                   scoring='neg_mean_squared_error', verbose=1)"
      ]
     },
     "execution_count": 130,
     "metadata": {},
     "output_type": "execute_result"
    }
   ],
   "source": [
    "clf.fit(X_train, y_train)"
   ]
  },
  {
   "cell_type": "code",
   "execution_count": 126,
   "id": "7c94a17f",
   "metadata": {},
   "outputs": [
    {
     "data": {
      "text/plain": [
       "{'max_features': 6, 'max_depth': 20, 'learning_rate': 0.1}"
      ]
     },
     "execution_count": 126,
     "metadata": {},
     "output_type": "execute_result"
    }
   ],
   "source": [
    "clf.best_params_"
   ]
  },
  {
   "cell_type": "code",
   "execution_count": null,
   "id": "f394dd6f",
   "metadata": {},
   "outputs": [],
   "source": []
  }
 ],
 "metadata": {
  "kernelspec": {
   "display_name": "Python 3",
   "language": "python",
   "name": "python3"
  },
  "language_info": {
   "codemirror_mode": {
    "name": "ipython",
    "version": 3
   },
   "file_extension": ".py",
   "mimetype": "text/x-python",
   "name": "python",
   "nbconvert_exporter": "python",
   "pygments_lexer": "ipython3",
   "version": "3.8.8"
  }
 },
 "nbformat": 4,
 "nbformat_minor": 5
}
