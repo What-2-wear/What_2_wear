{
 "cells": [
  {
   "cell_type": "code",
   "execution_count": null,
   "id": "243a31ee",
   "metadata": {},
   "outputs": [],
   "source": [
    "import matplotlib.pyplot as plt\n",
    "%matplotlib inline\n",
    "import seaborn as sns\n",
    "import pandas as pd\n",
    "import numpy as np\n",
    "#from sklearn.preprocessing import OneHotEncoder\n",
    "#from sklearn.model_selection import cross_val_score\n",
    "from  sklearn.model_selection import GridSearchCV, train_test_split, RandomizedSearchCV, cross_val_score\n",
    "from sklearn.metrics import classification_report\n",
    "#from sklearn.metrics import classification_report\n",
    "from sklearn.ensemble import VotingClassifier, BaggingClassifier"
   ]
  },
  {
   "cell_type": "code",
   "execution_count": null,
   "id": "fedec13f",
   "metadata": {},
   "outputs": [],
   "source": [
    "df = pd.read_csv(\"../datasets/train.csv\")"
   ]
  },
  {
   "cell_type": "code",
   "execution_count": null,
   "id": "1615fb5c",
   "metadata": {},
   "outputs": [],
   "source": [
    "df = df.sample(frac=1)"
   ]
  },
  {
   "cell_type": "code",
   "execution_count": 3,
   "id": "6ca91e41",
   "metadata": {},
   "outputs": [
    {
     "data": {
      "text/html": [
       "<div>\n",
       "<style scoped>\n",
       "    .dataframe tbody tr th:only-of-type {\n",
       "        vertical-align: middle;\n",
       "    }\n",
       "\n",
       "    .dataframe tbody tr th {\n",
       "        vertical-align: top;\n",
       "    }\n",
       "\n",
       "    .dataframe thead th {\n",
       "        text-align: right;\n",
       "    }\n",
       "</style>\n",
       "<table border=\"1\" class=\"dataframe\">\n",
       "  <thead>\n",
       "    <tr style=\"text-align: right;\">\n",
       "      <th></th>\n",
       "      <th>tBodyAcc-mean()-X</th>\n",
       "      <th>tBodyAcc-mean()-Y</th>\n",
       "      <th>tBodyAcc-mean()-Z</th>\n",
       "      <th>tBodyAcc-std()-X</th>\n",
       "      <th>tBodyAcc-std()-Y</th>\n",
       "      <th>tBodyAcc-std()-Z</th>\n",
       "      <th>tBodyAcc-mad()-X</th>\n",
       "      <th>tBodyAcc-mad()-Y</th>\n",
       "      <th>tBodyAcc-mad()-Z</th>\n",
       "      <th>tBodyAcc-max()-X</th>\n",
       "      <th>...</th>\n",
       "      <th>fBodyBodyGyroJerkMag-kurtosis()</th>\n",
       "      <th>angle(tBodyAccMean,gravity)</th>\n",
       "      <th>angle(tBodyAccJerkMean),gravityMean)</th>\n",
       "      <th>angle(tBodyGyroMean,gravityMean)</th>\n",
       "      <th>angle(tBodyGyroJerkMean,gravityMean)</th>\n",
       "      <th>angle(X,gravityMean)</th>\n",
       "      <th>angle(Y,gravityMean)</th>\n",
       "      <th>angle(Z,gravityMean)</th>\n",
       "      <th>subject</th>\n",
       "      <th>Activity</th>\n",
       "    </tr>\n",
       "  </thead>\n",
       "  <tbody>\n",
       "    <tr>\n",
       "      <th>0</th>\n",
       "      <td>0.288585</td>\n",
       "      <td>-0.020294</td>\n",
       "      <td>-0.132905</td>\n",
       "      <td>-0.995279</td>\n",
       "      <td>-0.983111</td>\n",
       "      <td>-0.913526</td>\n",
       "      <td>-0.995112</td>\n",
       "      <td>-0.983185</td>\n",
       "      <td>-0.923527</td>\n",
       "      <td>-0.934724</td>\n",
       "      <td>...</td>\n",
       "      <td>-0.710304</td>\n",
       "      <td>-0.112754</td>\n",
       "      <td>0.030400</td>\n",
       "      <td>-0.464761</td>\n",
       "      <td>-0.018446</td>\n",
       "      <td>-0.841247</td>\n",
       "      <td>0.179941</td>\n",
       "      <td>-0.058627</td>\n",
       "      <td>1</td>\n",
       "      <td>STANDING</td>\n",
       "    </tr>\n",
       "    <tr>\n",
       "      <th>1</th>\n",
       "      <td>0.278419</td>\n",
       "      <td>-0.016411</td>\n",
       "      <td>-0.123520</td>\n",
       "      <td>-0.998245</td>\n",
       "      <td>-0.975300</td>\n",
       "      <td>-0.960322</td>\n",
       "      <td>-0.998807</td>\n",
       "      <td>-0.974914</td>\n",
       "      <td>-0.957686</td>\n",
       "      <td>-0.943068</td>\n",
       "      <td>...</td>\n",
       "      <td>-0.861499</td>\n",
       "      <td>0.053477</td>\n",
       "      <td>-0.007435</td>\n",
       "      <td>-0.732626</td>\n",
       "      <td>0.703511</td>\n",
       "      <td>-0.844788</td>\n",
       "      <td>0.180289</td>\n",
       "      <td>-0.054317</td>\n",
       "      <td>1</td>\n",
       "      <td>STANDING</td>\n",
       "    </tr>\n",
       "    <tr>\n",
       "      <th>2</th>\n",
       "      <td>0.279653</td>\n",
       "      <td>-0.019467</td>\n",
       "      <td>-0.113462</td>\n",
       "      <td>-0.995380</td>\n",
       "      <td>-0.967187</td>\n",
       "      <td>-0.978944</td>\n",
       "      <td>-0.996520</td>\n",
       "      <td>-0.963668</td>\n",
       "      <td>-0.977469</td>\n",
       "      <td>-0.938692</td>\n",
       "      <td>...</td>\n",
       "      <td>-0.760104</td>\n",
       "      <td>-0.118559</td>\n",
       "      <td>0.177899</td>\n",
       "      <td>0.100699</td>\n",
       "      <td>0.808529</td>\n",
       "      <td>-0.848933</td>\n",
       "      <td>0.180637</td>\n",
       "      <td>-0.049118</td>\n",
       "      <td>1</td>\n",
       "      <td>STANDING</td>\n",
       "    </tr>\n",
       "    <tr>\n",
       "      <th>3</th>\n",
       "      <td>0.279174</td>\n",
       "      <td>-0.026201</td>\n",
       "      <td>-0.123283</td>\n",
       "      <td>-0.996091</td>\n",
       "      <td>-0.983403</td>\n",
       "      <td>-0.990675</td>\n",
       "      <td>-0.997099</td>\n",
       "      <td>-0.982750</td>\n",
       "      <td>-0.989302</td>\n",
       "      <td>-0.938692</td>\n",
       "      <td>...</td>\n",
       "      <td>-0.482845</td>\n",
       "      <td>-0.036788</td>\n",
       "      <td>-0.012892</td>\n",
       "      <td>0.640011</td>\n",
       "      <td>-0.485366</td>\n",
       "      <td>-0.848649</td>\n",
       "      <td>0.181935</td>\n",
       "      <td>-0.047663</td>\n",
       "      <td>1</td>\n",
       "      <td>STANDING</td>\n",
       "    </tr>\n",
       "    <tr>\n",
       "      <th>4</th>\n",
       "      <td>0.276629</td>\n",
       "      <td>-0.016570</td>\n",
       "      <td>-0.115362</td>\n",
       "      <td>-0.998139</td>\n",
       "      <td>-0.980817</td>\n",
       "      <td>-0.990482</td>\n",
       "      <td>-0.998321</td>\n",
       "      <td>-0.979672</td>\n",
       "      <td>-0.990441</td>\n",
       "      <td>-0.942469</td>\n",
       "      <td>...</td>\n",
       "      <td>-0.699205</td>\n",
       "      <td>0.123320</td>\n",
       "      <td>0.122542</td>\n",
       "      <td>0.693578</td>\n",
       "      <td>-0.615971</td>\n",
       "      <td>-0.847865</td>\n",
       "      <td>0.185151</td>\n",
       "      <td>-0.043892</td>\n",
       "      <td>1</td>\n",
       "      <td>STANDING</td>\n",
       "    </tr>\n",
       "    <tr>\n",
       "      <th>5</th>\n",
       "      <td>0.277199</td>\n",
       "      <td>-0.010098</td>\n",
       "      <td>-0.105137</td>\n",
       "      <td>-0.997335</td>\n",
       "      <td>-0.990487</td>\n",
       "      <td>-0.995420</td>\n",
       "      <td>-0.997627</td>\n",
       "      <td>-0.990218</td>\n",
       "      <td>-0.995549</td>\n",
       "      <td>-0.942469</td>\n",
       "      <td>...</td>\n",
       "      <td>-0.844619</td>\n",
       "      <td>0.082632</td>\n",
       "      <td>-0.143439</td>\n",
       "      <td>0.275041</td>\n",
       "      <td>-0.368224</td>\n",
       "      <td>-0.849632</td>\n",
       "      <td>0.184823</td>\n",
       "      <td>-0.042126</td>\n",
       "      <td>1</td>\n",
       "      <td>STANDING</td>\n",
       "    </tr>\n",
       "    <tr>\n",
       "      <th>6</th>\n",
       "      <td>0.279454</td>\n",
       "      <td>-0.019641</td>\n",
       "      <td>-0.110022</td>\n",
       "      <td>-0.996921</td>\n",
       "      <td>-0.967186</td>\n",
       "      <td>-0.983118</td>\n",
       "      <td>-0.997003</td>\n",
       "      <td>-0.966097</td>\n",
       "      <td>-0.983116</td>\n",
       "      <td>-0.940987</td>\n",
       "      <td>...</td>\n",
       "      <td>-0.564430</td>\n",
       "      <td>-0.212754</td>\n",
       "      <td>-0.230622</td>\n",
       "      <td>0.014637</td>\n",
       "      <td>-0.189512</td>\n",
       "      <td>-0.852150</td>\n",
       "      <td>0.182170</td>\n",
       "      <td>-0.043010</td>\n",
       "      <td>1</td>\n",
       "      <td>STANDING</td>\n",
       "    </tr>\n",
       "    <tr>\n",
       "      <th>7</th>\n",
       "      <td>0.277432</td>\n",
       "      <td>-0.030488</td>\n",
       "      <td>-0.125360</td>\n",
       "      <td>-0.996559</td>\n",
       "      <td>-0.966728</td>\n",
       "      <td>-0.981585</td>\n",
       "      <td>-0.996485</td>\n",
       "      <td>-0.966313</td>\n",
       "      <td>-0.982982</td>\n",
       "      <td>-0.940987</td>\n",
       "      <td>...</td>\n",
       "      <td>-0.421715</td>\n",
       "      <td>-0.020888</td>\n",
       "      <td>0.593996</td>\n",
       "      <td>-0.561871</td>\n",
       "      <td>0.467383</td>\n",
       "      <td>-0.851017</td>\n",
       "      <td>0.183779</td>\n",
       "      <td>-0.041976</td>\n",
       "      <td>1</td>\n",
       "      <td>STANDING</td>\n",
       "    </tr>\n",
       "    <tr>\n",
       "      <th>8</th>\n",
       "      <td>0.277293</td>\n",
       "      <td>-0.021751</td>\n",
       "      <td>-0.120751</td>\n",
       "      <td>-0.997328</td>\n",
       "      <td>-0.961245</td>\n",
       "      <td>-0.983672</td>\n",
       "      <td>-0.997596</td>\n",
       "      <td>-0.957236</td>\n",
       "      <td>-0.984379</td>\n",
       "      <td>-0.940598</td>\n",
       "      <td>...</td>\n",
       "      <td>-0.572995</td>\n",
       "      <td>0.012954</td>\n",
       "      <td>0.080936</td>\n",
       "      <td>-0.234313</td>\n",
       "      <td>0.117797</td>\n",
       "      <td>-0.847971</td>\n",
       "      <td>0.188982</td>\n",
       "      <td>-0.037364</td>\n",
       "      <td>1</td>\n",
       "      <td>STANDING</td>\n",
       "    </tr>\n",
       "    <tr>\n",
       "      <th>9</th>\n",
       "      <td>0.280586</td>\n",
       "      <td>-0.009960</td>\n",
       "      <td>-0.106065</td>\n",
       "      <td>-0.994803</td>\n",
       "      <td>-0.972758</td>\n",
       "      <td>-0.986244</td>\n",
       "      <td>-0.995405</td>\n",
       "      <td>-0.973663</td>\n",
       "      <td>-0.985642</td>\n",
       "      <td>-0.940028</td>\n",
       "      <td>...</td>\n",
       "      <td>0.140452</td>\n",
       "      <td>-0.020590</td>\n",
       "      <td>-0.127730</td>\n",
       "      <td>-0.482871</td>\n",
       "      <td>-0.070670</td>\n",
       "      <td>-0.848294</td>\n",
       "      <td>0.190310</td>\n",
       "      <td>-0.034417</td>\n",
       "      <td>1</td>\n",
       "      <td>STANDING</td>\n",
       "    </tr>\n",
       "  </tbody>\n",
       "</table>\n",
       "<p>10 rows × 563 columns</p>\n",
       "</div>"
      ],
      "text/plain": [
       "   tBodyAcc-mean()-X  tBodyAcc-mean()-Y  tBodyAcc-mean()-Z  tBodyAcc-std()-X  \\\n",
       "0           0.288585          -0.020294          -0.132905         -0.995279   \n",
       "1           0.278419          -0.016411          -0.123520         -0.998245   \n",
       "2           0.279653          -0.019467          -0.113462         -0.995380   \n",
       "3           0.279174          -0.026201          -0.123283         -0.996091   \n",
       "4           0.276629          -0.016570          -0.115362         -0.998139   \n",
       "5           0.277199          -0.010098          -0.105137         -0.997335   \n",
       "6           0.279454          -0.019641          -0.110022         -0.996921   \n",
       "7           0.277432          -0.030488          -0.125360         -0.996559   \n",
       "8           0.277293          -0.021751          -0.120751         -0.997328   \n",
       "9           0.280586          -0.009960          -0.106065         -0.994803   \n",
       "\n",
       "   tBodyAcc-std()-Y  tBodyAcc-std()-Z  tBodyAcc-mad()-X  tBodyAcc-mad()-Y  \\\n",
       "0         -0.983111         -0.913526         -0.995112         -0.983185   \n",
       "1         -0.975300         -0.960322         -0.998807         -0.974914   \n",
       "2         -0.967187         -0.978944         -0.996520         -0.963668   \n",
       "3         -0.983403         -0.990675         -0.997099         -0.982750   \n",
       "4         -0.980817         -0.990482         -0.998321         -0.979672   \n",
       "5         -0.990487         -0.995420         -0.997627         -0.990218   \n",
       "6         -0.967186         -0.983118         -0.997003         -0.966097   \n",
       "7         -0.966728         -0.981585         -0.996485         -0.966313   \n",
       "8         -0.961245         -0.983672         -0.997596         -0.957236   \n",
       "9         -0.972758         -0.986244         -0.995405         -0.973663   \n",
       "\n",
       "   tBodyAcc-mad()-Z  tBodyAcc-max()-X  ...  fBodyBodyGyroJerkMag-kurtosis()  \\\n",
       "0         -0.923527         -0.934724  ...                        -0.710304   \n",
       "1         -0.957686         -0.943068  ...                        -0.861499   \n",
       "2         -0.977469         -0.938692  ...                        -0.760104   \n",
       "3         -0.989302         -0.938692  ...                        -0.482845   \n",
       "4         -0.990441         -0.942469  ...                        -0.699205   \n",
       "5         -0.995549         -0.942469  ...                        -0.844619   \n",
       "6         -0.983116         -0.940987  ...                        -0.564430   \n",
       "7         -0.982982         -0.940987  ...                        -0.421715   \n",
       "8         -0.984379         -0.940598  ...                        -0.572995   \n",
       "9         -0.985642         -0.940028  ...                         0.140452   \n",
       "\n",
       "   angle(tBodyAccMean,gravity)  angle(tBodyAccJerkMean),gravityMean)  \\\n",
       "0                    -0.112754                              0.030400   \n",
       "1                     0.053477                             -0.007435   \n",
       "2                    -0.118559                              0.177899   \n",
       "3                    -0.036788                             -0.012892   \n",
       "4                     0.123320                              0.122542   \n",
       "5                     0.082632                             -0.143439   \n",
       "6                    -0.212754                             -0.230622   \n",
       "7                    -0.020888                              0.593996   \n",
       "8                     0.012954                              0.080936   \n",
       "9                    -0.020590                             -0.127730   \n",
       "\n",
       "   angle(tBodyGyroMean,gravityMean)  angle(tBodyGyroJerkMean,gravityMean)  \\\n",
       "0                         -0.464761                             -0.018446   \n",
       "1                         -0.732626                              0.703511   \n",
       "2                          0.100699                              0.808529   \n",
       "3                          0.640011                             -0.485366   \n",
       "4                          0.693578                             -0.615971   \n",
       "5                          0.275041                             -0.368224   \n",
       "6                          0.014637                             -0.189512   \n",
       "7                         -0.561871                              0.467383   \n",
       "8                         -0.234313                              0.117797   \n",
       "9                         -0.482871                             -0.070670   \n",
       "\n",
       "   angle(X,gravityMean)  angle(Y,gravityMean)  angle(Z,gravityMean)  subject  \\\n",
       "0             -0.841247              0.179941             -0.058627        1   \n",
       "1             -0.844788              0.180289             -0.054317        1   \n",
       "2             -0.848933              0.180637             -0.049118        1   \n",
       "3             -0.848649              0.181935             -0.047663        1   \n",
       "4             -0.847865              0.185151             -0.043892        1   \n",
       "5             -0.849632              0.184823             -0.042126        1   \n",
       "6             -0.852150              0.182170             -0.043010        1   \n",
       "7             -0.851017              0.183779             -0.041976        1   \n",
       "8             -0.847971              0.188982             -0.037364        1   \n",
       "9             -0.848294              0.190310             -0.034417        1   \n",
       "\n",
       "   Activity  \n",
       "0  STANDING  \n",
       "1  STANDING  \n",
       "2  STANDING  \n",
       "3  STANDING  \n",
       "4  STANDING  \n",
       "5  STANDING  \n",
       "6  STANDING  \n",
       "7  STANDING  \n",
       "8  STANDING  \n",
       "9  STANDING  \n",
       "\n",
       "[10 rows x 563 columns]"
      ]
     },
     "execution_count": 3,
     "metadata": {},
     "output_type": "execute_result"
    }
   ],
   "source": [
    "df.head(10)"
   ]
  },
  {
   "cell_type": "code",
   "execution_count": 47,
   "id": "b4921d92",
   "metadata": {},
   "outputs": [],
   "source": [
    "X, y = df.drop(\"Activity\", axis=1), df[\"Activity\"]"
   ]
  },
  {
   "cell_type": "code",
   "execution_count": 5,
   "id": "22c58b5c",
   "metadata": {},
   "outputs": [],
   "source": [
    "from sklearn.ensemble import RandomForestClassifier"
   ]
  },
  {
   "cell_type": "code",
   "execution_count": 6,
   "id": "9677d289",
   "metadata": {},
   "outputs": [],
   "source": [
    "rf = RandomForestClassifier()"
   ]
  },
  {
   "cell_type": "code",
   "execution_count": 8,
   "id": "241e1707",
   "metadata": {},
   "outputs": [],
   "source": [
    "#pd.set_option('display.max_seq_items', None)"
   ]
  },
  {
   "cell_type": "code",
   "execution_count": 9,
   "id": "4b476cb4",
   "metadata": {},
   "outputs": [
    {
     "data": {
      "text/plain": [
       "Index(['tBodyAcc-mean()-X', 'tBodyAcc-mean()-Y', 'tBodyAcc-mean()-Z',\n",
       "       'tBodyAcc-std()-X', 'tBodyAcc-std()-Y', 'tBodyAcc-std()-Z',\n",
       "       'tBodyAcc-mad()-X', 'tBodyAcc-mad()-Y', 'tBodyAcc-mad()-Z',\n",
       "       'tBodyAcc-max()-X',\n",
       "       ...\n",
       "       'fBodyBodyGyroJerkMag-skewness()', 'fBodyBodyGyroJerkMag-kurtosis()',\n",
       "       'angle(tBodyAccMean,gravity)', 'angle(tBodyAccJerkMean),gravityMean)',\n",
       "       'angle(tBodyGyroMean,gravityMean)',\n",
       "       'angle(tBodyGyroJerkMean,gravityMean)', 'angle(X,gravityMean)',\n",
       "       'angle(Y,gravityMean)', 'angle(Z,gravityMean)', 'subject'],\n",
       "      dtype='object', length=562)"
      ]
     },
     "execution_count": 9,
     "metadata": {},
     "output_type": "execute_result"
    }
   ],
   "source": [
    "X.columns"
   ]
  },
  {
   "cell_type": "code",
   "execution_count": 48,
   "id": "238f2276",
   "metadata": {},
   "outputs": [],
   "source": [
    "X_train, X_test, y_train, y_test = train_test_split(X, y, test_size=0.2)"
   ]
  },
  {
   "cell_type": "code",
   "execution_count": 49,
   "id": "6516378f",
   "metadata": {},
   "outputs": [
    {
     "data": {
      "text/plain": [
       "RandomForestClassifier()"
      ]
     },
     "execution_count": 49,
     "metadata": {},
     "output_type": "execute_result"
    }
   ],
   "source": [
    "rf.fit(X_train, y_train)"
   ]
  },
  {
   "cell_type": "code",
   "execution_count": null,
   "id": "9803f6c1",
   "metadata": {},
   "outputs": [],
   "source": []
  },
  {
   "cell_type": "code",
   "execution_count": 50,
   "id": "6ba0f48f",
   "metadata": {},
   "outputs": [
    {
     "data": {
      "text/plain": [
       "1.0"
      ]
     },
     "execution_count": 50,
     "metadata": {},
     "output_type": "execute_result"
    }
   ],
   "source": [
    "ran.score(X_train,y_train )\n",
    "model.score(X_test,y_test)"
   ]
  },
  {
   "cell_type": "code",
   "execution_count": 51,
   "id": "93a06344",
   "metadata": {},
   "outputs": [
    {
     "data": {
      "text/plain": [
       "0.981645139360979"
      ]
     },
     "execution_count": 51,
     "metadata": {},
     "output_type": "execute_result"
    }
   ],
   "source": []
  },
  {
   "cell_type": "code",
   "execution_count": 96,
   "id": "9a9122b6",
   "metadata": {},
   "outputs": [
    {
     "name": "stdout",
     "output_type": "stream",
     "text": [
      "[0.97418478 0.98641304 0.98095238 0.98639456 0.98095238 0.97687075\n",
      " 0.9877551  0.9877551  0.97687075 0.98095238] 0.9819101227447501\n"
     ]
    }
   ],
   "source": [
    "scores = cross_val_score(hard_vote, X, y, scoring=\"accuracy\", n_jobs = -1, cv=10)\n",
    "print(scores, scores.mean())"
   ]
  },
  {
   "cell_type": "code",
   "execution_count": 97,
   "id": "a4b3192e",
   "metadata": {},
   "outputs": [
    {
     "name": "stdout",
     "output_type": "stream",
     "text": [
      "[0.97690217 0.99048913 0.98231293 0.98639456 0.97823129 0.97687075\n",
      " 0.98911565 0.98639456 0.98367347 0.98231293] 0.9832697426796807\n"
     ]
    }
   ],
   "source": [
    "scores = cross_val_score(random_forest, X, y, scoring=\"accuracy\", n_jobs = -1, cv=10)\n",
    "print(scores, scores.mean())"
   ]
  },
  {
   "cell_type": "code",
   "execution_count": 54,
   "id": "2da93b10",
   "metadata": {},
   "outputs": [],
   "source": [
    "from sklearn.linear_model import LogisticRegression\n",
    "from sklearn.svm import SVC as SVC_, LinearSVC\n",
    "from sklearn.ensemble import RandomForestClassifier\n",
    "from sklearn.linear_model import SGDClassifier\n",
    "from sklearn.tree import DecisionTreeClassifier"
   ]
  },
  {
   "cell_type": "code",
   "execution_count": 63,
   "id": "8d9e6b08",
   "metadata": {},
   "outputs": [],
   "source": [
    "svcParams = {\"C\": np.arange(6,10), \n",
    "              \"kernel\": [\"linear\",\"rbf\"],\n",
    "              \"gamma\": [0.5, 0.2, 0.1]}\n",
    "dtParams = {\"max_features\": [\"auto\", \"sqrt\"],\n",
    "             \"min_samples_split\": np.arange(3,10), \n",
    "             \"min_samples_leaf\":np.arange(3,10),\n",
    "               \"max_depth\": np.arange(5, 10)},\n",
    "logParams = {\"penalty\": [\"l1\",\"l2\",\"elasticnet\"],\n",
    "            \"C\": [10,1,0.1,0.01]}"
   ]
  },
  {
   "cell_type": "code",
   "execution_count": 64,
   "id": "21b3277f",
   "metadata": {},
   "outputs": [],
   "source": [
    "def tuneHyperparameters(model, params):\n",
    "\n",
    "    gridSearch = GridSearchCV(model, params, verbose=0, cv=10, scoring=\"accuracy\", n_jobs = -1)\n",
    "    gridSearch.fit(X_train, y_train)\n",
    "    bestParams, bestScore = gridSearch.best_params_, round(gridSearch.best_score_*100, 2)\n",
    "    return bestScore, bestParams"
   ]
  },
  {
   "cell_type": "code",
   "execution_count": null,
   "id": "4c491e8d",
   "metadata": {},
   "outputs": [],
   "source": [
    "svcParams = {\"C\": np.arange(6,10), \n",
    "              \"kernel\": [\"linear\",\"rbf\"],\n",
    "              \"gamma\": [0.5, 0.2, 0.1]}"
   ]
  },
  {
   "cell_type": "code",
   "execution_count": null,
   "id": "5c79023a",
   "metadata": {},
   "outputs": [],
   "source": [
    "gridSearch = GridSearchCV(SVC, svcParams, verbose=0, cv=10, scoring=\"accuracy\", n_jobs = -1)\n",
    "gridSearch.fit(X_train, y_train)"
   ]
  },
  {
   "cell_type": "code",
   "execution_count": null,
   "id": "f71f6678",
   "metadata": {},
   "outputs": [],
   "source": [
    "gridSearch.be"
   ]
  },
  {
   "cell_type": "code",
   "execution_count": 75,
   "id": "86b91c58",
   "metadata": {},
   "outputs": [
    {
     "data": {
      "text/plain": [
       "SVC()"
      ]
     },
     "execution_count": 75,
     "metadata": {},
     "output_type": "execute_result"
    }
   ],
   "source": [
    "SVC.fit(X_train, y_train)"
   ]
  },
  {
   "cell_type": "code",
   "execution_count": 77,
   "id": "80e7713c",
   "metadata": {},
   "outputs": [
    {
     "data": {
      "text/plain": [
       "0.9530931339225017"
      ]
     },
     "execution_count": 77,
     "metadata": {},
     "output_type": "execute_result"
    }
   ],
   "source": [
    "SVC.score(X_test, y_test)"
   ]
  },
  {
   "cell_type": "code",
   "execution_count": 80,
   "id": "23c8b4d3",
   "metadata": {},
   "outputs": [
    {
     "name": "stderr",
     "output_type": "stream",
     "text": [
      "C:\\Users\\hjhhi\\Anaconda3\\lib\\site-packages\\sklearn\\linear_model\\_logistic.py:763: ConvergenceWarning: lbfgs failed to converge (status=1):\n",
      "STOP: TOTAL NO. of ITERATIONS REACHED LIMIT.\n",
      "\n",
      "Increase the number of iterations (max_iter) or scale the data as shown in:\n",
      "    https://scikit-learn.org/stable/modules/preprocessing.html\n",
      "Please also refer to the documentation for alternative solver options:\n",
      "    https://scikit-learn.org/stable/modules/linear_model.html#logistic-regression\n",
      "  n_iter_i = _check_optimize_result(\n"
     ]
    },
    {
     "data": {
      "text/plain": [
       "LogisticRegression()"
      ]
     },
     "execution_count": 80,
     "metadata": {},
     "output_type": "execute_result"
    }
   ],
   "source": [
    "logreg.fit(X_train, y_train)"
   ]
  },
  {
   "cell_type": "code",
   "execution_count": 84,
   "id": "61a8be71",
   "metadata": {},
   "outputs": [
    {
     "data": {
      "text/plain": [
       "0.9809653297076818"
      ]
     },
     "execution_count": 84,
     "metadata": {},
     "output_type": "execute_result"
    }
   ],
   "source": [
    "logreg.score(X_test, y_test)"
   ]
  },
  {
   "cell_type": "code",
   "execution_count": 85,
   "id": "2bdb9e8a",
   "metadata": {},
   "outputs": [
    {
     "data": {
      "text/plain": [
       "DecisionTreeClassifier()"
      ]
     },
     "execution_count": 85,
     "metadata": {},
     "output_type": "execute_result"
    }
   ],
   "source": [
    "decision_tree.fit(X_train, y_train)"
   ]
  },
  {
   "cell_type": "code",
   "execution_count": 87,
   "id": "f92c2345",
   "metadata": {},
   "outputs": [
    {
     "data": {
      "text/plain": [
       "0.9564921821889871"
      ]
     },
     "execution_count": 87,
     "metadata": {},
     "output_type": "execute_result"
    }
   ],
   "source": [
    "decision_tree.score(X_test, y_test)"
   ]
  },
  {
   "cell_type": "code",
   "execution_count": 107,
   "id": "ef1e0053",
   "metadata": {},
   "outputs": [
    {
     "name": "stderr",
     "output_type": "stream",
     "text": [
      "C:\\Users\\hjhhi\\Anaconda3\\lib\\site-packages\\sklearn\\linear_model\\_logistic.py:763: ConvergenceWarning: lbfgs failed to converge (status=1):\n",
      "STOP: TOTAL NO. of ITERATIONS REACHED LIMIT.\n",
      "\n",
      "Increase the number of iterations (max_iter) or scale the data as shown in:\n",
      "    https://scikit-learn.org/stable/modules/preprocessing.html\n",
      "Please also refer to the documentation for alternative solver options:\n",
      "    https://scikit-learn.org/stable/modules/linear_model.html#logistic-regression\n",
      "  n_iter_i = _check_optimize_result(\n"
     ]
    },
    {
     "data": {
      "text/plain": [
       "VotingClassifier(estimators=[('svc', SVC(probability=True)),\n",
       "                             ('rf', RandomForestClassifier()),\n",
       "                             ('dt', DecisionTreeClassifier()),\n",
       "                             ('lr', LogisticRegression())],\n",
       "                 voting='soft')"
      ]
     },
     "execution_count": 107,
     "metadata": {},
     "output_type": "execute_result"
    }
   ],
   "source": [
    "hard_vote = VotingClassifier(estimators=[('svc', SVC), ('rf', random_forest), ('dt', decision_tree), ('lr', logreg)], voting='soft')\n",
    "hard_vote.fit(X_train, y_train)"
   ]
  },
  {
   "cell_type": "code",
   "execution_count": 106,
   "id": "a02ddd6c",
   "metadata": {},
   "outputs": [],
   "source": [
    "SVC = SVC_(probability=True)\n",
    "random_forest = RandomForestClassifier()\n",
    "decision_tree = DecisionTreeClassifier()\n",
    "logreg = LogisticRegression()"
   ]
  },
  {
   "cell_type": "code",
   "execution_count": 108,
   "id": "c4f0e0b3",
   "metadata": {},
   "outputs": [
    {
     "data": {
      "text/plain": [
       "array(['WALKING_UPSTAIRS', 'WALKING_DOWNSTAIRS', 'WALKING', ...,\n",
       "       'STANDING', 'LAYING', 'STANDING'], dtype=object)"
      ]
     },
     "execution_count": 108,
     "metadata": {},
     "output_type": "execute_result"
    }
   ],
   "source": [
    "hard_vote.predict(X_train)"
   ]
  },
  {
   "cell_type": "code",
   "execution_count": 110,
   "id": "65220467",
   "metadata": {},
   "outputs": [
    {
     "data": {
      "text/plain": [
       "0.9857239972807614"
      ]
     },
     "execution_count": 110,
     "metadata": {},
     "output_type": "execute_result"
    }
   ],
   "source": [
    "hard_vote.score(X_test, y_test)"
   ]
  },
  {
   "cell_type": "code",
   "execution_count": null,
   "id": "960ee2fb",
   "metadata": {},
   "outputs": [],
   "source": []
  }
 ],
 "metadata": {
  "kernelspec": {
   "display_name": "Python 3",
   "language": "python",
   "name": "python3"
  }
 },
 "nbformat": 4,
 "nbformat_minor": 5
}
