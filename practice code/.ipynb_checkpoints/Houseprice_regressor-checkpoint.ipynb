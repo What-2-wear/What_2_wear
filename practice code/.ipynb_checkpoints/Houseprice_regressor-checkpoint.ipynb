{
 "cells": [
  {
   "cell_type": "code",
   "execution_count": 133,
   "id": "e8bd0b8d",
   "metadata": {},
   "outputs": [],
   "source": [
    "import matplotlib.pyplot as plt\n",
    "%matplotlib inline\n",
    "import seaborn as sns\n",
    "import pandas as pd\n",
    "import numpy as np\n",
    "#from sklearn.preprocessing import OneHotEncoder\n",
    "#from sklearn.model_selection import cross_val_score\n",
    "from  sklearn.model_selection import GridSearchCV, train_test_split\n",
    "#from sklearn.metrics import classification_report\n",
    "#from sklearn.ensemble import VotingClassifier, BaggingClassifier"
   ]
  },
  {
   "cell_type": "code",
   "execution_count": 134,
   "id": "9dd5ae24",
   "metadata": {},
   "outputs": [],
   "source": [
    "df = pd.read_csv(\"../datasets/kc_house_data.csv\")"
   ]
  },
  {
   "cell_type": "code",
   "execution_count": 135,
   "id": "c3348810",
   "metadata": {},
   "outputs": [
    {
     "data": {
      "text/html": [
       "<div>\n",
       "<style scoped>\n",
       "    .dataframe tbody tr th:only-of-type {\n",
       "        vertical-align: middle;\n",
       "    }\n",
       "\n",
       "    .dataframe tbody tr th {\n",
       "        vertical-align: top;\n",
       "    }\n",
       "\n",
       "    .dataframe thead th {\n",
       "        text-align: right;\n",
       "    }\n",
       "</style>\n",
       "<table border=\"1\" class=\"dataframe\">\n",
       "  <thead>\n",
       "    <tr style=\"text-align: right;\">\n",
       "      <th></th>\n",
       "      <th>id</th>\n",
       "      <th>date</th>\n",
       "      <th>price</th>\n",
       "      <th>bedrooms</th>\n",
       "      <th>bathrooms</th>\n",
       "      <th>sqft_living</th>\n",
       "      <th>sqft_lot</th>\n",
       "      <th>floors</th>\n",
       "      <th>waterfront</th>\n",
       "      <th>view</th>\n",
       "      <th>...</th>\n",
       "      <th>grade</th>\n",
       "      <th>sqft_above</th>\n",
       "      <th>sqft_basement</th>\n",
       "      <th>yr_built</th>\n",
       "      <th>yr_renovated</th>\n",
       "      <th>zipcode</th>\n",
       "      <th>lat</th>\n",
       "      <th>long</th>\n",
       "      <th>sqft_living15</th>\n",
       "      <th>sqft_lot15</th>\n",
       "    </tr>\n",
       "  </thead>\n",
       "  <tbody>\n",
       "    <tr>\n",
       "      <th>0</th>\n",
       "      <td>7129300520</td>\n",
       "      <td>20141013T000000</td>\n",
       "      <td>221900.0</td>\n",
       "      <td>3</td>\n",
       "      <td>1.00</td>\n",
       "      <td>1180</td>\n",
       "      <td>5650</td>\n",
       "      <td>1.0</td>\n",
       "      <td>0</td>\n",
       "      <td>0</td>\n",
       "      <td>...</td>\n",
       "      <td>7</td>\n",
       "      <td>1180</td>\n",
       "      <td>0</td>\n",
       "      <td>1955</td>\n",
       "      <td>0</td>\n",
       "      <td>98178</td>\n",
       "      <td>47.5112</td>\n",
       "      <td>-122.257</td>\n",
       "      <td>1340</td>\n",
       "      <td>5650</td>\n",
       "    </tr>\n",
       "    <tr>\n",
       "      <th>1</th>\n",
       "      <td>6414100192</td>\n",
       "      <td>20141209T000000</td>\n",
       "      <td>538000.0</td>\n",
       "      <td>3</td>\n",
       "      <td>2.25</td>\n",
       "      <td>2570</td>\n",
       "      <td>7242</td>\n",
       "      <td>2.0</td>\n",
       "      <td>0</td>\n",
       "      <td>0</td>\n",
       "      <td>...</td>\n",
       "      <td>7</td>\n",
       "      <td>2170</td>\n",
       "      <td>400</td>\n",
       "      <td>1951</td>\n",
       "      <td>1991</td>\n",
       "      <td>98125</td>\n",
       "      <td>47.7210</td>\n",
       "      <td>-122.319</td>\n",
       "      <td>1690</td>\n",
       "      <td>7639</td>\n",
       "    </tr>\n",
       "    <tr>\n",
       "      <th>2</th>\n",
       "      <td>5631500400</td>\n",
       "      <td>20150225T000000</td>\n",
       "      <td>180000.0</td>\n",
       "      <td>2</td>\n",
       "      <td>1.00</td>\n",
       "      <td>770</td>\n",
       "      <td>10000</td>\n",
       "      <td>1.0</td>\n",
       "      <td>0</td>\n",
       "      <td>0</td>\n",
       "      <td>...</td>\n",
       "      <td>6</td>\n",
       "      <td>770</td>\n",
       "      <td>0</td>\n",
       "      <td>1933</td>\n",
       "      <td>0</td>\n",
       "      <td>98028</td>\n",
       "      <td>47.7379</td>\n",
       "      <td>-122.233</td>\n",
       "      <td>2720</td>\n",
       "      <td>8062</td>\n",
       "    </tr>\n",
       "    <tr>\n",
       "      <th>3</th>\n",
       "      <td>2487200875</td>\n",
       "      <td>20141209T000000</td>\n",
       "      <td>604000.0</td>\n",
       "      <td>4</td>\n",
       "      <td>3.00</td>\n",
       "      <td>1960</td>\n",
       "      <td>5000</td>\n",
       "      <td>1.0</td>\n",
       "      <td>0</td>\n",
       "      <td>0</td>\n",
       "      <td>...</td>\n",
       "      <td>7</td>\n",
       "      <td>1050</td>\n",
       "      <td>910</td>\n",
       "      <td>1965</td>\n",
       "      <td>0</td>\n",
       "      <td>98136</td>\n",
       "      <td>47.5208</td>\n",
       "      <td>-122.393</td>\n",
       "      <td>1360</td>\n",
       "      <td>5000</td>\n",
       "    </tr>\n",
       "    <tr>\n",
       "      <th>4</th>\n",
       "      <td>1954400510</td>\n",
       "      <td>20150218T000000</td>\n",
       "      <td>510000.0</td>\n",
       "      <td>3</td>\n",
       "      <td>2.00</td>\n",
       "      <td>1680</td>\n",
       "      <td>8080</td>\n",
       "      <td>1.0</td>\n",
       "      <td>0</td>\n",
       "      <td>0</td>\n",
       "      <td>...</td>\n",
       "      <td>8</td>\n",
       "      <td>1680</td>\n",
       "      <td>0</td>\n",
       "      <td>1987</td>\n",
       "      <td>0</td>\n",
       "      <td>98074</td>\n",
       "      <td>47.6168</td>\n",
       "      <td>-122.045</td>\n",
       "      <td>1800</td>\n",
       "      <td>7503</td>\n",
       "    </tr>\n",
       "    <tr>\n",
       "      <th>5</th>\n",
       "      <td>7237550310</td>\n",
       "      <td>20140512T000000</td>\n",
       "      <td>1225000.0</td>\n",
       "      <td>4</td>\n",
       "      <td>4.50</td>\n",
       "      <td>5420</td>\n",
       "      <td>101930</td>\n",
       "      <td>1.0</td>\n",
       "      <td>0</td>\n",
       "      <td>0</td>\n",
       "      <td>...</td>\n",
       "      <td>11</td>\n",
       "      <td>3890</td>\n",
       "      <td>1530</td>\n",
       "      <td>2001</td>\n",
       "      <td>0</td>\n",
       "      <td>98053</td>\n",
       "      <td>47.6561</td>\n",
       "      <td>-122.005</td>\n",
       "      <td>4760</td>\n",
       "      <td>101930</td>\n",
       "    </tr>\n",
       "    <tr>\n",
       "      <th>6</th>\n",
       "      <td>1321400060</td>\n",
       "      <td>20140627T000000</td>\n",
       "      <td>257500.0</td>\n",
       "      <td>3</td>\n",
       "      <td>2.25</td>\n",
       "      <td>1715</td>\n",
       "      <td>6819</td>\n",
       "      <td>2.0</td>\n",
       "      <td>0</td>\n",
       "      <td>0</td>\n",
       "      <td>...</td>\n",
       "      <td>7</td>\n",
       "      <td>1715</td>\n",
       "      <td>0</td>\n",
       "      <td>1995</td>\n",
       "      <td>0</td>\n",
       "      <td>98003</td>\n",
       "      <td>47.3097</td>\n",
       "      <td>-122.327</td>\n",
       "      <td>2238</td>\n",
       "      <td>6819</td>\n",
       "    </tr>\n",
       "    <tr>\n",
       "      <th>7</th>\n",
       "      <td>2008000270</td>\n",
       "      <td>20150115T000000</td>\n",
       "      <td>291850.0</td>\n",
       "      <td>3</td>\n",
       "      <td>1.50</td>\n",
       "      <td>1060</td>\n",
       "      <td>9711</td>\n",
       "      <td>1.0</td>\n",
       "      <td>0</td>\n",
       "      <td>0</td>\n",
       "      <td>...</td>\n",
       "      <td>7</td>\n",
       "      <td>1060</td>\n",
       "      <td>0</td>\n",
       "      <td>1963</td>\n",
       "      <td>0</td>\n",
       "      <td>98198</td>\n",
       "      <td>47.4095</td>\n",
       "      <td>-122.315</td>\n",
       "      <td>1650</td>\n",
       "      <td>9711</td>\n",
       "    </tr>\n",
       "    <tr>\n",
       "      <th>8</th>\n",
       "      <td>2414600126</td>\n",
       "      <td>20150415T000000</td>\n",
       "      <td>229500.0</td>\n",
       "      <td>3</td>\n",
       "      <td>1.00</td>\n",
       "      <td>1780</td>\n",
       "      <td>7470</td>\n",
       "      <td>1.0</td>\n",
       "      <td>0</td>\n",
       "      <td>0</td>\n",
       "      <td>...</td>\n",
       "      <td>7</td>\n",
       "      <td>1050</td>\n",
       "      <td>730</td>\n",
       "      <td>1960</td>\n",
       "      <td>0</td>\n",
       "      <td>98146</td>\n",
       "      <td>47.5123</td>\n",
       "      <td>-122.337</td>\n",
       "      <td>1780</td>\n",
       "      <td>8113</td>\n",
       "    </tr>\n",
       "    <tr>\n",
       "      <th>9</th>\n",
       "      <td>3793500160</td>\n",
       "      <td>20150312T000000</td>\n",
       "      <td>323000.0</td>\n",
       "      <td>3</td>\n",
       "      <td>2.50</td>\n",
       "      <td>1890</td>\n",
       "      <td>6560</td>\n",
       "      <td>2.0</td>\n",
       "      <td>0</td>\n",
       "      <td>0</td>\n",
       "      <td>...</td>\n",
       "      <td>7</td>\n",
       "      <td>1890</td>\n",
       "      <td>0</td>\n",
       "      <td>2003</td>\n",
       "      <td>0</td>\n",
       "      <td>98038</td>\n",
       "      <td>47.3684</td>\n",
       "      <td>-122.031</td>\n",
       "      <td>2390</td>\n",
       "      <td>7570</td>\n",
       "    </tr>\n",
       "  </tbody>\n",
       "</table>\n",
       "<p>10 rows × 21 columns</p>\n",
       "</div>"
      ],
      "text/plain": [
       "           id             date      price  bedrooms  bathrooms  sqft_living  \\\n",
       "0  7129300520  20141013T000000   221900.0         3       1.00         1180   \n",
       "1  6414100192  20141209T000000   538000.0         3       2.25         2570   \n",
       "2  5631500400  20150225T000000   180000.0         2       1.00          770   \n",
       "3  2487200875  20141209T000000   604000.0         4       3.00         1960   \n",
       "4  1954400510  20150218T000000   510000.0         3       2.00         1680   \n",
       "5  7237550310  20140512T000000  1225000.0         4       4.50         5420   \n",
       "6  1321400060  20140627T000000   257500.0         3       2.25         1715   \n",
       "7  2008000270  20150115T000000   291850.0         3       1.50         1060   \n",
       "8  2414600126  20150415T000000   229500.0         3       1.00         1780   \n",
       "9  3793500160  20150312T000000   323000.0         3       2.50         1890   \n",
       "\n",
       "   sqft_lot  floors  waterfront  view  ...  grade  sqft_above  sqft_basement  \\\n",
       "0      5650     1.0           0     0  ...      7        1180              0   \n",
       "1      7242     2.0           0     0  ...      7        2170            400   \n",
       "2     10000     1.0           0     0  ...      6         770              0   \n",
       "3      5000     1.0           0     0  ...      7        1050            910   \n",
       "4      8080     1.0           0     0  ...      8        1680              0   \n",
       "5    101930     1.0           0     0  ...     11        3890           1530   \n",
       "6      6819     2.0           0     0  ...      7        1715              0   \n",
       "7      9711     1.0           0     0  ...      7        1060              0   \n",
       "8      7470     1.0           0     0  ...      7        1050            730   \n",
       "9      6560     2.0           0     0  ...      7        1890              0   \n",
       "\n",
       "   yr_built  yr_renovated  zipcode      lat     long  sqft_living15  \\\n",
       "0      1955             0    98178  47.5112 -122.257           1340   \n",
       "1      1951          1991    98125  47.7210 -122.319           1690   \n",
       "2      1933             0    98028  47.7379 -122.233           2720   \n",
       "3      1965             0    98136  47.5208 -122.393           1360   \n",
       "4      1987             0    98074  47.6168 -122.045           1800   \n",
       "5      2001             0    98053  47.6561 -122.005           4760   \n",
       "6      1995             0    98003  47.3097 -122.327           2238   \n",
       "7      1963             0    98198  47.4095 -122.315           1650   \n",
       "8      1960             0    98146  47.5123 -122.337           1780   \n",
       "9      2003             0    98038  47.3684 -122.031           2390   \n",
       "\n",
       "   sqft_lot15  \n",
       "0        5650  \n",
       "1        7639  \n",
       "2        8062  \n",
       "3        5000  \n",
       "4        7503  \n",
       "5      101930  \n",
       "6        6819  \n",
       "7        9711  \n",
       "8        8113  \n",
       "9        7570  \n",
       "\n",
       "[10 rows x 21 columns]"
      ]
     },
     "execution_count": 135,
     "metadata": {},
     "output_type": "execute_result"
    }
   ],
   "source": [
    "df.head(10)"
   ]
  },
  {
   "cell_type": "code",
   "execution_count": 136,
   "id": "311c74a8",
   "metadata": {},
   "outputs": [
    {
     "name": "stdout",
     "output_type": "stream",
     "text": [
      "<class 'pandas.core.frame.DataFrame'>\n",
      "RangeIndex: 21613 entries, 0 to 21612\n",
      "Data columns (total 21 columns):\n",
      " #   Column         Non-Null Count  Dtype  \n",
      "---  ------         --------------  -----  \n",
      " 0   id             21613 non-null  int64  \n",
      " 1   date           21613 non-null  object \n",
      " 2   price          21613 non-null  float64\n",
      " 3   bedrooms       21613 non-null  int64  \n",
      " 4   bathrooms      21613 non-null  float64\n",
      " 5   sqft_living    21613 non-null  int64  \n",
      " 6   sqft_lot       21613 non-null  int64  \n",
      " 7   floors         21613 non-null  float64\n",
      " 8   waterfront     21613 non-null  int64  \n",
      " 9   view           21613 non-null  int64  \n",
      " 10  condition      21613 non-null  int64  \n",
      " 11  grade          21613 non-null  int64  \n",
      " 12  sqft_above     21613 non-null  int64  \n",
      " 13  sqft_basement  21613 non-null  int64  \n",
      " 14  yr_built       21613 non-null  int64  \n",
      " 15  yr_renovated   21613 non-null  int64  \n",
      " 16  zipcode        21613 non-null  int64  \n",
      " 17  lat            21613 non-null  float64\n",
      " 18  long           21613 non-null  float64\n",
      " 19  sqft_living15  21613 non-null  int64  \n",
      " 20  sqft_lot15     21613 non-null  int64  \n",
      "dtypes: float64(5), int64(15), object(1)\n",
      "memory usage: 3.5+ MB\n"
     ]
    }
   ],
   "source": [
    "original_info = df.info()"
   ]
  },
  {
   "cell_type": "code",
   "execution_count": 137,
   "id": "ec682920",
   "metadata": {},
   "outputs": [
    {
     "data": {
      "text/html": [
       "<div>\n",
       "<style scoped>\n",
       "    .dataframe tbody tr th:only-of-type {\n",
       "        vertical-align: middle;\n",
       "    }\n",
       "\n",
       "    .dataframe tbody tr th {\n",
       "        vertical-align: top;\n",
       "    }\n",
       "\n",
       "    .dataframe thead th {\n",
       "        text-align: right;\n",
       "    }\n",
       "</style>\n",
       "<table border=\"1\" class=\"dataframe\">\n",
       "  <thead>\n",
       "    <tr style=\"text-align: right;\">\n",
       "      <th></th>\n",
       "      <th>id</th>\n",
       "      <th>price</th>\n",
       "      <th>bedrooms</th>\n",
       "      <th>bathrooms</th>\n",
       "      <th>sqft_living</th>\n",
       "      <th>sqft_lot</th>\n",
       "      <th>floors</th>\n",
       "      <th>waterfront</th>\n",
       "      <th>view</th>\n",
       "      <th>condition</th>\n",
       "      <th>grade</th>\n",
       "      <th>sqft_above</th>\n",
       "      <th>sqft_basement</th>\n",
       "      <th>yr_built</th>\n",
       "      <th>yr_renovated</th>\n",
       "      <th>zipcode</th>\n",
       "      <th>lat</th>\n",
       "      <th>long</th>\n",
       "      <th>sqft_living15</th>\n",
       "      <th>sqft_lot15</th>\n",
       "    </tr>\n",
       "  </thead>\n",
       "  <tbody>\n",
       "    <tr>\n",
       "      <th>count</th>\n",
       "      <td>2.161300e+04</td>\n",
       "      <td>2.161300e+04</td>\n",
       "      <td>21613.000000</td>\n",
       "      <td>21613.000000</td>\n",
       "      <td>21613.000000</td>\n",
       "      <td>2.161300e+04</td>\n",
       "      <td>21613.000000</td>\n",
       "      <td>21613.000000</td>\n",
       "      <td>21613.000000</td>\n",
       "      <td>21613.000000</td>\n",
       "      <td>21613.000000</td>\n",
       "      <td>21613.000000</td>\n",
       "      <td>21613.000000</td>\n",
       "      <td>21613.000000</td>\n",
       "      <td>21613.000000</td>\n",
       "      <td>21613.000000</td>\n",
       "      <td>21613.000000</td>\n",
       "      <td>21613.000000</td>\n",
       "      <td>21613.000000</td>\n",
       "      <td>21613.000000</td>\n",
       "    </tr>\n",
       "    <tr>\n",
       "      <th>mean</th>\n",
       "      <td>4.580302e+09</td>\n",
       "      <td>5.400881e+05</td>\n",
       "      <td>3.370842</td>\n",
       "      <td>2.114757</td>\n",
       "      <td>2079.899736</td>\n",
       "      <td>1.510697e+04</td>\n",
       "      <td>1.494309</td>\n",
       "      <td>0.007542</td>\n",
       "      <td>0.234303</td>\n",
       "      <td>3.409430</td>\n",
       "      <td>7.656873</td>\n",
       "      <td>1788.390691</td>\n",
       "      <td>291.509045</td>\n",
       "      <td>1971.005136</td>\n",
       "      <td>84.402258</td>\n",
       "      <td>98077.939805</td>\n",
       "      <td>47.560053</td>\n",
       "      <td>-122.213896</td>\n",
       "      <td>1986.552492</td>\n",
       "      <td>12768.455652</td>\n",
       "    </tr>\n",
       "    <tr>\n",
       "      <th>std</th>\n",
       "      <td>2.876566e+09</td>\n",
       "      <td>3.671272e+05</td>\n",
       "      <td>0.930062</td>\n",
       "      <td>0.770163</td>\n",
       "      <td>918.440897</td>\n",
       "      <td>4.142051e+04</td>\n",
       "      <td>0.539989</td>\n",
       "      <td>0.086517</td>\n",
       "      <td>0.766318</td>\n",
       "      <td>0.650743</td>\n",
       "      <td>1.175459</td>\n",
       "      <td>828.090978</td>\n",
       "      <td>442.575043</td>\n",
       "      <td>29.373411</td>\n",
       "      <td>401.679240</td>\n",
       "      <td>53.505026</td>\n",
       "      <td>0.138564</td>\n",
       "      <td>0.140828</td>\n",
       "      <td>685.391304</td>\n",
       "      <td>27304.179631</td>\n",
       "    </tr>\n",
       "    <tr>\n",
       "      <th>min</th>\n",
       "      <td>1.000102e+06</td>\n",
       "      <td>7.500000e+04</td>\n",
       "      <td>0.000000</td>\n",
       "      <td>0.000000</td>\n",
       "      <td>290.000000</td>\n",
       "      <td>5.200000e+02</td>\n",
       "      <td>1.000000</td>\n",
       "      <td>0.000000</td>\n",
       "      <td>0.000000</td>\n",
       "      <td>1.000000</td>\n",
       "      <td>1.000000</td>\n",
       "      <td>290.000000</td>\n",
       "      <td>0.000000</td>\n",
       "      <td>1900.000000</td>\n",
       "      <td>0.000000</td>\n",
       "      <td>98001.000000</td>\n",
       "      <td>47.155900</td>\n",
       "      <td>-122.519000</td>\n",
       "      <td>399.000000</td>\n",
       "      <td>651.000000</td>\n",
       "    </tr>\n",
       "    <tr>\n",
       "      <th>25%</th>\n",
       "      <td>2.123049e+09</td>\n",
       "      <td>3.219500e+05</td>\n",
       "      <td>3.000000</td>\n",
       "      <td>1.750000</td>\n",
       "      <td>1427.000000</td>\n",
       "      <td>5.040000e+03</td>\n",
       "      <td>1.000000</td>\n",
       "      <td>0.000000</td>\n",
       "      <td>0.000000</td>\n",
       "      <td>3.000000</td>\n",
       "      <td>7.000000</td>\n",
       "      <td>1190.000000</td>\n",
       "      <td>0.000000</td>\n",
       "      <td>1951.000000</td>\n",
       "      <td>0.000000</td>\n",
       "      <td>98033.000000</td>\n",
       "      <td>47.471000</td>\n",
       "      <td>-122.328000</td>\n",
       "      <td>1490.000000</td>\n",
       "      <td>5100.000000</td>\n",
       "    </tr>\n",
       "    <tr>\n",
       "      <th>50%</th>\n",
       "      <td>3.904930e+09</td>\n",
       "      <td>4.500000e+05</td>\n",
       "      <td>3.000000</td>\n",
       "      <td>2.250000</td>\n",
       "      <td>1910.000000</td>\n",
       "      <td>7.618000e+03</td>\n",
       "      <td>1.500000</td>\n",
       "      <td>0.000000</td>\n",
       "      <td>0.000000</td>\n",
       "      <td>3.000000</td>\n",
       "      <td>7.000000</td>\n",
       "      <td>1560.000000</td>\n",
       "      <td>0.000000</td>\n",
       "      <td>1975.000000</td>\n",
       "      <td>0.000000</td>\n",
       "      <td>98065.000000</td>\n",
       "      <td>47.571800</td>\n",
       "      <td>-122.230000</td>\n",
       "      <td>1840.000000</td>\n",
       "      <td>7620.000000</td>\n",
       "    </tr>\n",
       "    <tr>\n",
       "      <th>75%</th>\n",
       "      <td>7.308900e+09</td>\n",
       "      <td>6.450000e+05</td>\n",
       "      <td>4.000000</td>\n",
       "      <td>2.500000</td>\n",
       "      <td>2550.000000</td>\n",
       "      <td>1.068800e+04</td>\n",
       "      <td>2.000000</td>\n",
       "      <td>0.000000</td>\n",
       "      <td>0.000000</td>\n",
       "      <td>4.000000</td>\n",
       "      <td>8.000000</td>\n",
       "      <td>2210.000000</td>\n",
       "      <td>560.000000</td>\n",
       "      <td>1997.000000</td>\n",
       "      <td>0.000000</td>\n",
       "      <td>98118.000000</td>\n",
       "      <td>47.678000</td>\n",
       "      <td>-122.125000</td>\n",
       "      <td>2360.000000</td>\n",
       "      <td>10083.000000</td>\n",
       "    </tr>\n",
       "    <tr>\n",
       "      <th>max</th>\n",
       "      <td>9.900000e+09</td>\n",
       "      <td>7.700000e+06</td>\n",
       "      <td>33.000000</td>\n",
       "      <td>8.000000</td>\n",
       "      <td>13540.000000</td>\n",
       "      <td>1.651359e+06</td>\n",
       "      <td>3.500000</td>\n",
       "      <td>1.000000</td>\n",
       "      <td>4.000000</td>\n",
       "      <td>5.000000</td>\n",
       "      <td>13.000000</td>\n",
       "      <td>9410.000000</td>\n",
       "      <td>4820.000000</td>\n",
       "      <td>2015.000000</td>\n",
       "      <td>2015.000000</td>\n",
       "      <td>98199.000000</td>\n",
       "      <td>47.777600</td>\n",
       "      <td>-121.315000</td>\n",
       "      <td>6210.000000</td>\n",
       "      <td>871200.000000</td>\n",
       "    </tr>\n",
       "  </tbody>\n",
       "</table>\n",
       "</div>"
      ],
      "text/plain": [
       "                 id         price      bedrooms     bathrooms   sqft_living  \\\n",
       "count  2.161300e+04  2.161300e+04  21613.000000  21613.000000  21613.000000   \n",
       "mean   4.580302e+09  5.400881e+05      3.370842      2.114757   2079.899736   \n",
       "std    2.876566e+09  3.671272e+05      0.930062      0.770163    918.440897   \n",
       "min    1.000102e+06  7.500000e+04      0.000000      0.000000    290.000000   \n",
       "25%    2.123049e+09  3.219500e+05      3.000000      1.750000   1427.000000   \n",
       "50%    3.904930e+09  4.500000e+05      3.000000      2.250000   1910.000000   \n",
       "75%    7.308900e+09  6.450000e+05      4.000000      2.500000   2550.000000   \n",
       "max    9.900000e+09  7.700000e+06     33.000000      8.000000  13540.000000   \n",
       "\n",
       "           sqft_lot        floors    waterfront          view     condition  \\\n",
       "count  2.161300e+04  21613.000000  21613.000000  21613.000000  21613.000000   \n",
       "mean   1.510697e+04      1.494309      0.007542      0.234303      3.409430   \n",
       "std    4.142051e+04      0.539989      0.086517      0.766318      0.650743   \n",
       "min    5.200000e+02      1.000000      0.000000      0.000000      1.000000   \n",
       "25%    5.040000e+03      1.000000      0.000000      0.000000      3.000000   \n",
       "50%    7.618000e+03      1.500000      0.000000      0.000000      3.000000   \n",
       "75%    1.068800e+04      2.000000      0.000000      0.000000      4.000000   \n",
       "max    1.651359e+06      3.500000      1.000000      4.000000      5.000000   \n",
       "\n",
       "              grade    sqft_above  sqft_basement      yr_built  yr_renovated  \\\n",
       "count  21613.000000  21613.000000   21613.000000  21613.000000  21613.000000   \n",
       "mean       7.656873   1788.390691     291.509045   1971.005136     84.402258   \n",
       "std        1.175459    828.090978     442.575043     29.373411    401.679240   \n",
       "min        1.000000    290.000000       0.000000   1900.000000      0.000000   \n",
       "25%        7.000000   1190.000000       0.000000   1951.000000      0.000000   \n",
       "50%        7.000000   1560.000000       0.000000   1975.000000      0.000000   \n",
       "75%        8.000000   2210.000000     560.000000   1997.000000      0.000000   \n",
       "max       13.000000   9410.000000    4820.000000   2015.000000   2015.000000   \n",
       "\n",
       "            zipcode           lat          long  sqft_living15     sqft_lot15  \n",
       "count  21613.000000  21613.000000  21613.000000   21613.000000   21613.000000  \n",
       "mean   98077.939805     47.560053   -122.213896    1986.552492   12768.455652  \n",
       "std       53.505026      0.138564      0.140828     685.391304   27304.179631  \n",
       "min    98001.000000     47.155900   -122.519000     399.000000     651.000000  \n",
       "25%    98033.000000     47.471000   -122.328000    1490.000000    5100.000000  \n",
       "50%    98065.000000     47.571800   -122.230000    1840.000000    7620.000000  \n",
       "75%    98118.000000     47.678000   -122.125000    2360.000000   10083.000000  \n",
       "max    98199.000000     47.777600   -121.315000    6210.000000  871200.000000  "
      ]
     },
     "execution_count": 137,
     "metadata": {},
     "output_type": "execute_result"
    }
   ],
   "source": [
    "df.describe()"
   ]
  },
  {
   "cell_type": "code",
   "execution_count": 138,
   "id": "983b81d6",
   "metadata": {},
   "outputs": [
    {
     "data": {
      "text/plain": [
       "price            1.000000\n",
       "sqft_living      0.702035\n",
       "grade            0.667434\n",
       "sqft_above       0.605567\n",
       "sqft_living15    0.585379\n",
       "bathrooms        0.525138\n",
       "view             0.397293\n",
       "sqft_basement    0.323816\n",
       "bedrooms         0.308350\n",
       "lat              0.307003\n",
       "waterfront       0.266369\n",
       "floors           0.256794\n",
       "yr_renovated     0.126434\n",
       "sqft_lot         0.089661\n",
       "sqft_lot15       0.082447\n",
       "yr_built         0.054012\n",
       "condition        0.036362\n",
       "long             0.021626\n",
       "id              -0.016762\n",
       "zipcode         -0.053203\n",
       "Name: price, dtype: float64"
      ]
     },
     "execution_count": 138,
     "metadata": {},
     "output_type": "execute_result"
    }
   ],
   "source": [
    "df.corr()[\"price\"].sort_values(ascending=False)"
   ]
  },
  {
   "cell_type": "code",
   "execution_count": 139,
   "id": "1a91fa2f",
   "metadata": {},
   "outputs": [],
   "source": [
    "###  완벽히 쓸모다고 판단되는 특성은 제외시키겠다(zipcode, id)\n",
    "df = df.drop([\"id\", \"zipcode\"], axis=1)"
   ]
  },
  {
   "cell_type": "code",
   "execution_count": 140,
   "id": "4a81ed3c",
   "metadata": {},
   "outputs": [],
   "source": [
    "df['date']=  pd.to_datetime(df['date'])"
   ]
  },
  {
   "cell_type": "code",
   "execution_count": 141,
   "id": "d0729e08",
   "metadata": {},
   "outputs": [],
   "source": [
    "df['date'] = df['date'].apply(lambda x: x.strftime('%Y%m%d'))\n",
    "df[\"date\"] = df[\"date\"].astype(int)"
   ]
  },
  {
   "cell_type": "markdown",
   "id": "9b55d0a5",
   "metadata": {},
   "source": [
    "## 시계열 분석은 따로 공부해본적이 없다 일단 datetime, int형 둘다 써보는걸로"
   ]
  },
  {
   "cell_type": "code",
   "execution_count": 142,
   "id": "8f118ae7",
   "metadata": {},
   "outputs": [],
   "source": [
    "# 랜덤 포레스트를 쓸거란 가정하에 스케일링은 넘어가겠다\n",
    "#from sklearn.preprocessing import StandardScaler"
   ]
  },
  {
   "cell_type": "code",
   "execution_count": 143,
   "id": "b6a5e194",
   "metadata": {},
   "outputs": [],
   "source": [
    "#scaler = StandardScaler()\n",
    "#X_train = scaler.fit_transform(X_train)"
   ]
  },
  {
   "cell_type": "markdown",
   "id": "8271177d",
   "metadata": {},
   "source": [
    "# ###########특성공학부분################# "
   ]
  },
  {
   "cell_type": "code",
   "execution_count": 297,
   "id": "31290ad6",
   "metadata": {},
   "outputs": [],
   "source": [
    "### df를 그냥 건드리긴 할껀데 일단 y값은 시각화를 위해 필요하다\n",
    "X, y = df.drop(\"price\", axis=1), df[\"price\"]"
   ]
  },
  {
   "cell_type": "code",
   "execution_count": 145,
   "id": "a640324a",
   "metadata": {},
   "outputs": [
    {
     "data": {
      "text/plain": [
       "0       20699\n",
       "2014       91\n",
       "2013       37\n",
       "2003       36\n",
       "2007       35\n",
       "        ...  \n",
       "1948        1\n",
       "1954        1\n",
       "1951        1\n",
       "1944        1\n",
       "1959        1\n",
       "Name: yr_renovated, Length: 70, dtype: int64"
      ]
     },
     "execution_count": 145,
     "metadata": {},
     "output_type": "execute_result"
    }
   ],
   "source": [
    "#일단 얘를 Bool형으로 바꿔주자\n",
    "X[\"yr_renovated\"].value_counts()"
   ]
  },
  {
   "cell_type": "code",
   "execution_count": 152,
   "id": "dd145c4f",
   "metadata": {},
   "outputs": [],
   "source": [
    "X[\"yr_renovated\"] = X[\"yr_renovated\"] != 0"
   ]
  },
  {
   "cell_type": "code",
   "execution_count": 153,
   "id": "471b718c",
   "metadata": {},
   "outputs": [
    {
     "data": {
      "text/plain": [
       "False    20699\n",
       "True       914\n",
       "Name: yr_renovated, dtype: int64"
      ]
     },
     "execution_count": 153,
     "metadata": {},
     "output_type": "execute_result"
    }
   ],
   "source": [
    "X[\"yr_renovated\"].value_counts()"
   ]
  },
  {
   "cell_type": "code",
   "execution_count": 122,
   "id": "47b83122",
   "metadata": {},
   "outputs": [
    {
     "name": "stderr",
     "output_type": "stream",
     "text": [
      "C:\\Users\\hjhhi\\Anaconda3\\lib\\site-packages\\seaborn\\_decorators.py:36: FutureWarning: Pass the following variables as keyword args: x, y. From version 0.12, the only valid positional argument will be `data`, and passing other arguments without an explicit keyword will result in an error or misinterpretation.\n",
      "  warnings.warn(\n"
     ]
    },
    {
     "data": {
      "text/plain": [
       "<AxesSubplot:xlabel='yr_renovated', ylabel='price'>"
      ]
     },
     "execution_count": 122,
     "metadata": {},
     "output_type": "execute_result"
    },
    {
     "data": {
      "image/png": "[encoded data removed]",
      "text/plain": [
       "<Figure size 432x288 with 1 Axes>"
      ]
     },
     "metadata": {
      "needs_background": "light"
     },
     "output_type": "display_data"
    }
   ],
   "source": [
    "sns.barplot(X[\"yr_renovated\"], y)"
   ]
  },
  {
   "cell_type": "code",
   "execution_count": 159,
   "id": "81fa09ef",
   "metadata": {},
   "outputs": [
    {
     "name": "stderr",
     "output_type": "stream",
     "text": [
      "C:\\Users\\hjhhi\\Anaconda3\\lib\\site-packages\\seaborn\\_decorators.py:36: FutureWarning: Pass the following variables as keyword args: x, y. From version 0.12, the only valid positional argument will be `data`, and passing other arguments without an explicit keyword will result in an error or misinterpretation.\n",
      "  warnings.warn(\n"
     ]
    },
    {
     "data": {
      "text/plain": [
       "<AxesSubplot:xlabel='bedrooms', ylabel='price'>"
      ]
     },
     "execution_count": 159,
     "metadata": {},
     "output_type": "execute_result"
    },
    {
     "data": {
      "image/png": "[encoded data removed]",
      "text/plain": [
       "<Figure size 432x288 with 1 Axes>"
      ]
     },
     "metadata": {
      "needs_background": "light"
     },
     "output_type": "display_data"
    }
   ],
   "source": [
    "# 0아니면 8에 큰문제가 있다\n",
    "sns.barplot(X[\"bedrooms\"], y)"
   ]
  },
  {
   "cell_type": "code",
   "execution_count": 160,
   "id": "b9e3c77f",
   "metadata": {},
   "outputs": [
    {
     "data": {
      "text/plain": [
       "3     9824\n",
       "4     6882\n",
       "2     2760\n",
       "5     1601\n",
       "6      272\n",
       "1      199\n",
       "7       38\n",
       "0       13\n",
       "8       13\n",
       "9        6\n",
       "10       3\n",
       "33       1\n",
       "11       1\n",
       "Name: bedrooms, dtype: int64"
      ]
     },
     "execution_count": 160,
     "metadata": {},
     "output_type": "execute_result"
    }
   ],
   "source": [
    "X[\"bedrooms\"].value_counts()"
   ]
  },
  {
   "cell_type": "code",
   "execution_count": 161,
   "id": "8ab5e25d",
   "metadata": {},
   "outputs": [
    {
     "name": "stderr",
     "output_type": "stream",
     "text": [
      "<ipython-input-161-fa9c7d41378c>:2: SettingWithCopyWarning: \n",
      "A value is trying to be set on a copy of a slice from a DataFrame\n",
      "\n",
      "See the caveats in the documentation: https://pandas.pydata.org/pandas-docs/stable/user_guide/indexing.html#returning-a-view-versus-a-copy\n",
      "  X[\"bedrooms\"][X[\"bedrooms\"] > 6] =6\n",
      "<ipython-input-161-fa9c7d41378c>:3: SettingWithCopyWarning: \n",
      "A value is trying to be set on a copy of a slice from a DataFrame\n",
      "\n",
      "See the caveats in the documentation: https://pandas.pydata.org/pandas-docs/stable/user_guide/indexing.html#returning-a-view-versus-a-copy\n",
      "  X[\"bedrooms\"][X[\"bedrooms\"] < 1] =1\n"
     ]
    }
   ],
   "source": [
    "# 그래프 패턴이 좀 이상하니 9 이상, 1이하를 모아주자\n",
    "X[\"bedrooms\"][X[\"bedrooms\"] > 6] =6\n",
    "X[\"bedrooms\"][X[\"bedrooms\"] < 1] =1"
   ]
  },
  {
   "cell_type": "code",
   "execution_count": 162,
   "id": "46224bab",
   "metadata": {},
   "outputs": [
    {
     "name": "stderr",
     "output_type": "stream",
     "text": [
      "C:\\Users\\hjhhi\\Anaconda3\\lib\\site-packages\\seaborn\\_decorators.py:36: FutureWarning: Pass the following variables as keyword args: x, y. From version 0.12, the only valid positional argument will be `data`, and passing other arguments without an explicit keyword will result in an error or misinterpretation.\n",
      "  warnings.warn(\n"
     ]
    },
    {
     "data": {
      "text/plain": [
       "<AxesSubplot:xlabel='bedrooms', ylabel='price'>"
      ]
     },
     "execution_count": 162,
     "metadata": {},
     "output_type": "execute_result"
    },
    {
     "data": {
      "image/png": "[encoded data removed]",
      "text/plain": [
       "<Figure size 432x288 with 1 Axes>"
      ]
     },
     "metadata": {
      "needs_background": "light"
     },
     "output_type": "display_data"
    }
   ],
   "source": [
    "### 조금 더 봐줄만은하다\n",
    "sns.barplot(X[\"bedrooms\"], y)"
   ]
  },
  {
   "cell_type": "code",
   "execution_count": 168,
   "id": "b536bccd",
   "metadata": {},
   "outputs": [
    {
     "data": {
      "text/plain": [
       "0        47.5112\n",
       "1        47.7210\n",
       "2        47.7379\n",
       "3        47.5208\n",
       "4        47.6168\n",
       "          ...   \n",
       "21608    47.6993\n",
       "21609    47.5107\n",
       "21610    47.5944\n",
       "21611    47.5345\n",
       "21612    47.5941\n",
       "Name: lat, Length: 21613, dtype: float64"
      ]
     },
     "execution_count": 168,
     "metadata": {},
     "output_type": "execute_result"
    }
   ],
   "source": [
    "X[\"lat\"]"
   ]
  },
  {
   "cell_type": "code",
   "execution_count": 169,
   "id": "d7ed2f4a",
   "metadata": {},
   "outputs": [],
   "source": [
    "X[\"lat\"] = X[\"lat\"]*100\n",
    "X[\"lat\"] = X[\"lat\"].astype(int)"
   ]
  },
  {
   "cell_type": "code",
   "execution_count": 170,
   "id": "65959d18",
   "metadata": {},
   "outputs": [
    {
     "name": "stderr",
     "output_type": "stream",
     "text": [
      "<ipython-input-170-397c49802ba4>:1: SettingWithCopyWarning: \n",
      "A value is trying to be set on a copy of a slice from a DataFrame\n",
      "\n",
      "See the caveats in the documentation: https://pandas.pydata.org/pandas-docs/stable/user_guide/indexing.html#returning-a-view-versus-a-copy\n",
      "  X[\"lat\"][X[\"lat\"] < 4725] =4725\n"
     ]
    }
   ],
   "source": [
    "X[\"lat\"][X[\"lat\"] < 4725] =4725"
   ]
  },
  {
   "cell_type": "code",
   "execution_count": 300,
   "id": "5a16588e",
   "metadata": {},
   "outputs": [
    {
     "data": {
      "text/plain": [
       "-12229    859\n",
       "-12235    850\n",
       "-12230    826\n",
       "-12228    808\n",
       "-12236    772\n",
       "         ... \n",
       "-12167      1\n",
       "-12141      1\n",
       "-12148      1\n",
       "-12164      1\n",
       "-12147      1\n",
       "Name: long, Length: 93, dtype: int64"
      ]
     },
     "execution_count": 300,
     "metadata": {},
     "output_type": "execute_result"
    }
   ],
   "source": [
    "X[\"long\"].value_counts()"
   ]
  },
  {
   "cell_type": "code",
   "execution_count": 299,
   "id": "95e7a883",
   "metadata": {},
   "outputs": [],
   "source": [
    "X[\"long\"] = X[\"long\"]*100\n",
    "X[\"long\"] = X[\"long\"].astype(int)"
   ]
  },
  {
   "cell_type": "code",
   "execution_count": 176,
   "id": "0e7dc120",
   "metadata": {},
   "outputs": [
    {
     "name": "stderr",
     "output_type": "stream",
     "text": [
      "<ipython-input-176-70185631e6cd>:1: SettingWithCopyWarning: \n",
      "A value is trying to be set on a copy of a slice from a DataFrame\n",
      "\n",
      "See the caveats in the documentation: https://pandas.pydata.org/pandas-docs/stable/user_guide/indexing.html#returning-a-view-versus-a-copy\n",
      "  X[\"long\"][X[\"long\"] > -1217] =-1217\n",
      "<ipython-input-176-70185631e6cd>:2: SettingWithCopyWarning: \n",
      "A value is trying to be set on a copy of a slice from a DataFrame\n",
      "\n",
      "See the caveats in the documentation: https://pandas.pydata.org/pandas-docs/stable/user_guide/indexing.html#returning-a-view-versus-a-copy\n",
      "  X[\"long\"][X[\"long\"] < -1224] =-1224\n"
     ]
    }
   ],
   "source": [
    "X[\"long\"][X[\"long\"] > -1217] =-1217\n",
    "X[\"long\"][X[\"long\"] < -1224] =-1224"
   ]
  },
  {
   "cell_type": "code",
   "execution_count": 302,
   "id": "90c9455c",
   "metadata": {},
   "outputs": [
    {
     "name": "stderr",
     "output_type": "stream",
     "text": [
      "C:\\Users\\hjhhi\\Anaconda3\\lib\\site-packages\\seaborn\\_decorators.py:36: FutureWarning: Pass the following variables as keyword args: x, y. From version 0.12, the only valid positional argument will be `data`, and passing other arguments without an explicit keyword will result in an error or misinterpretation.\n",
      "  warnings.warn(\n"
     ]
    },
    {
     "data": {
      "text/plain": [
       "<AxesSubplot:xlabel='long', ylabel='price'>"
      ]
     },
     "execution_count": 302,
     "metadata": {},
     "output_type": "execute_result"
    },
    {
     "data": {
      "image/png": "[encoded data removed]",
      "text/plain": [
       "<Figure size 432x288 with 1 Axes>"
      ]
     },
     "metadata": {
      "needs_background": "light"
     },
     "output_type": "display_data"
    }
   ],
   "source": [
    "sns.scatterplot(X[\"long\"], y)"
   ]
  },
  {
   "cell_type": "code",
   "execution_count": 30,
   "id": "b29b03bd",
   "metadata": {},
   "outputs": [
    {
     "name": "stderr",
     "output_type": "stream",
     "text": [
      "<ipython-input-30-0ac8043ebacc>:1: SettingWithCopyWarning: \n",
      "A value is trying to be set on a copy of a slice from a DataFrame\n",
      "\n",
      "See the caveats in the documentation: https://pandas.pydata.org/pandas-docs/stable/user_guide/indexing.html#returning-a-view-versus-a-copy\n",
      "  X[\"sqft_lot\"][X[\"sqft_lot\"] > 25000] =25000\n"
     ]
    }
   ],
   "source": [
    "X[\"sqft_lot\"][X[\"sqft_lot\"] > 25000] =25000"
   ]
  },
  {
   "cell_type": "code",
   "execution_count": 31,
   "id": "7a42b9ed",
   "metadata": {},
   "outputs": [
    {
     "data": {
      "text/plain": [
       "0         5650\n",
       "1         7242\n",
       "2        10000\n",
       "3         5000\n",
       "4         8080\n",
       "         ...  \n",
       "21608     1131\n",
       "21609     5813\n",
       "21610     1350\n",
       "21611     2388\n",
       "21612     1076\n",
       "Name: sqft_lot, Length: 21613, dtype: int64"
      ]
     },
     "execution_count": 31,
     "metadata": {},
     "output_type": "execute_result"
    }
   ],
   "source": [
    "X[\"sqft_lot\"]"
   ]
  },
  {
   "cell_type": "code",
   "execution_count": 32,
   "id": "79956017",
   "metadata": {},
   "outputs": [
    {
     "data": {
      "text/plain": [
       "0        2014.1013\n",
       "1        2014.1209\n",
       "2        2015.0225\n",
       "3        2014.1209\n",
       "4        2015.0218\n",
       "           ...    \n",
       "21608    2014.0521\n",
       "21609    2015.0223\n",
       "21610    2014.0623\n",
       "21611    2015.0116\n",
       "21612    2014.1015\n",
       "Name: date, Length: 21613, dtype: float64"
      ]
     },
     "execution_count": 32,
     "metadata": {},
     "output_type": "execute_result"
    }
   ],
   "source": [
    "X[\"date\"]/10000"
   ]
  },
  {
   "cell_type": "code",
   "execution_count": 303,
   "id": "d79a6a17",
   "metadata": {},
   "outputs": [],
   "source": [
    "X[\"temp\"] = X[\"date\"] /10000 -  X[\"yr_built\"]"
   ]
  },
  {
   "cell_type": "code",
   "execution_count": 304,
   "id": "4e586c30",
   "metadata": {},
   "outputs": [
    {
     "name": "stderr",
     "output_type": "stream",
     "text": [
      "C:\\Users\\hjhhi\\Anaconda3\\lib\\site-packages\\seaborn\\_decorators.py:36: FutureWarning: Pass the following variables as keyword args: x, y. From version 0.12, the only valid positional argument will be `data`, and passing other arguments without an explicit keyword will result in an error or misinterpretation.\n",
      "  warnings.warn(\n"
     ]
    },
    {
     "data": {
      "text/plain": [
       "<AxesSubplot:xlabel='temp', ylabel='price'>"
      ]
     },
     "execution_count": 304,
     "metadata": {},
     "output_type": "execute_result"
    },
    {
     "data": {
      "image/png": "[encoded data removed]",
      "text/plain": [
       "<Figure size 432x288 with 1 Axes>"
      ]
     },
     "metadata": {
      "needs_background": "light"
     },
     "output_type": "display_data"
    }
   ],
   "source": [
    "sns.scatterplot(X[\"temp\"], y)"
   ]
  },
  {
   "cell_type": "markdown",
   "id": "cecc1d8b",
   "metadata": {},
   "source": [
    "# 이 아래는 모델단이므로 하나하나 보면서 실행할 수 있을것"
   ]
  },
  {
   "cell_type": "code",
   "execution_count": 35,
   "id": "e242a49e",
   "metadata": {},
   "outputs": [],
   "source": [
    "from sklearn.linear_model import ElasticNet, Lasso,  BayesianRidge, LassoLarsIC, LinearRegression, SGDRegressor\n",
    "from sklearn.ensemble import RandomForestRegressor,  GradientBoostingRegressor\n",
    "from sklearn.pipeline import make_pipeline\n",
    "from sklearn.base import BaseEstimator, TransformerMixin, RegressorMixin, clone\n",
    "from sklearn.model_selection import KFold, cross_val_score, train_test_split, RandomizedSearchCV\n",
    "from sklearn.metrics import mean_squared_error"
   ]
  },
  {
   "cell_type": "markdown",
   "id": "9f8ab4bc",
   "metadata": {},
   "source": [
    "# 일단 수시로 돌리며 테스트해볼 코드를 만들어 둔다\n",
    "# 시간 단축을 위해 Train, test set으로 확인해보겠다"
   ]
  },
  {
   "cell_type": "code",
   "execution_count": 36,
   "id": "58247bb3",
   "metadata": {},
   "outputs": [],
   "source": [
    "### 선형 관계에 대해 보고 싶을때 사용할 것\n",
    "\n",
    "#temp=X\n",
    "#temp[\"price\"] = y\n",
    "#print(df.corr()[\"price\"].sort_values(ascending=False),temp.corr()[\"price\"].sort_values(ascending=False))"
   ]
  },
  {
   "cell_type": "code",
   "execution_count": 305,
   "id": "6836a66c",
   "metadata": {},
   "outputs": [],
   "source": [
    "X_train, X_test, y_train, y_test = train_test_split(X, y, test_size=0.2)"
   ]
  },
  {
   "cell_type": "code",
   "execution_count": 306,
   "id": "e14041c3",
   "metadata": {},
   "outputs": [],
   "source": [
    "rf = RandomForestRegressor()"
   ]
  },
  {
   "cell_type": "code",
   "execution_count": 307,
   "id": "7d387759",
   "metadata": {},
   "outputs": [
    {
     "data": {
      "text/plain": [
       "RandomForestRegressor()"
      ]
     },
     "execution_count": 307,
     "metadata": {},
     "output_type": "execute_result"
    }
   ],
   "source": [
    "rf.fit(X_train, y_train)"
   ]
  },
  {
   "cell_type": "code",
   "execution_count": 308,
   "id": "eb62a1f7",
   "metadata": {},
   "outputs": [],
   "source": [
    "predicted = rf.predict(X_test)"
   ]
  },
  {
   "cell_type": "code",
   "execution_count": 309,
   "id": "df2921b5",
   "metadata": {},
   "outputs": [],
   "source": [
    "mse = mean_squared_error(y_test, predicted)\n",
    "rmse = np.sqrt(mse)"
   ]
  },
  {
   "cell_type": "code",
   "execution_count": 310,
   "id": "74f3b30b",
   "metadata": {},
   "outputs": [
    {
     "data": {
      "text/plain": [
       "126194.92980889685"
      ]
     },
     "execution_count": 310,
     "metadata": {},
     "output_type": "execute_result"
    }
   ],
   "source": [
    "rmse"
   ]
  },
  {
   "cell_type": "code",
   "execution_count": 311,
   "id": "b0b2ead8",
   "metadata": {},
   "outputs": [
    {
     "name": "stdout",
     "output_type": "stream",
     "text": [
      "                      0\n",
      "0.294368          grade\n",
      "0.286947    sqft_living\n",
      "0.165696            lat\n",
      "0.066027           long\n",
      "0.035180     waterfront\n",
      "0.030443  sqft_living15\n",
      "0.021873     sqft_above\n",
      "0.021605           temp\n",
      "0.013575       sqft_lot\n",
      "0.013404     sqft_lot15\n",
      "0.011638           view\n",
      "0.010981           date\n",
      "0.007420       yr_built\n",
      "0.006499      bathrooms\n",
      "0.004884  sqft_basement\n",
      "0.002893      condition\n",
      "0.002802       bedrooms\n",
      "0.002179   yr_renovated\n",
      "0.001586         floors\n"
     ]
    }
   ],
   "source": [
    "importance = pd.DataFrame(X.columns, rf.feature_importances_)\n",
    "print(importance.sort_index(ascending=False))"
   ]
  },
  {
   "cell_type": "markdown",
   "id": "bc860f9d",
   "metadata": {},
   "source": [
    "# 아랫단은 가장 마지막 테스트 코드이다"
   ]
  },
  {
   "cell_type": "code",
   "execution_count": 44,
   "id": "58d7f47a",
   "metadata": {},
   "outputs": [],
   "source": [
    "def displayscores(scores):\n",
    "    print(\"Scores: \", scores)\n",
    "    print(\"Mean: \", scores.mean())\n",
    "    print(\"Standard deviation: \", scores.std())"
   ]
  },
  {
   "cell_type": "code",
   "execution_count": 285,
   "id": "1e522bbf",
   "metadata": {},
   "outputs": [
    {
     "name": "stdout",
     "output_type": "stream",
     "text": [
      "Scores:  [123671.16614193 137482.65845108 104629.59661443 130766.8235577\n",
      " 102448.7782825  116647.55226517 120215.45361901 109512.06051325\n",
      " 117584.80810192 131707.52023655]\n",
      "Mean:  119466.64177835442\n",
      "Standard deviation:  11138.566576161069\n"
     ]
    }
   ],
   "source": [
    "scores = cross_val_score(xgb_reg, X, y, scoring=\"neg_mean_squared_error\", n_jobs = -1, cv=10)\n",
    "displayscores(np.sqrt(-scores))"
   ]
  },
  {
   "cell_type": "code",
   "execution_count": 312,
   "id": "0c8d009f",
   "metadata": {},
   "outputs": [
    {
     "name": "stdout",
     "output_type": "stream",
     "text": [
      "Scores:  [131587.06958623 140119.6256244  112915.70032919 134601.52827541\n",
      " 113658.23541761 136103.53636781 139838.15564498 118406.87119953\n",
      " 123210.03654433 132123.35000674]\n",
      "Mean:  128256.4108996245\n",
      "Standard deviation:  9867.525158673856\n"
     ]
    }
   ],
   "source": [
    "scores = cross_val_score(rf, X, y, scoring=\"neg_mean_squared_error\", n_jobs = -1, cv=10)\n",
    "displayscores(np.sqrt(-scores))"
   ]
  },
  {
   "cell_type": "code",
   "execution_count": 146,
   "id": "2c42883b",
   "metadata": {},
   "outputs": [],
   "source": [
    "import xgboost"
   ]
  },
  {
   "cell_type": "code",
   "execution_count": 184,
   "id": "6cf7bdef",
   "metadata": {},
   "outputs": [],
   "source": [
    "X_train, X_test, y_train, y_test = train_test_split(X, y, test_size=0.2)"
   ]
  },
  {
   "cell_type": "code",
   "execution_count": 286,
   "id": "83135c00",
   "metadata": {},
   "outputs": [],
   "source": [
    "xgb_reg = xgboost.XGBRegressor(n_estimators=1000, learning_rate=0.05, colsample_bytree=0.5)"
   ]
  },
  {
   "cell_type": "code",
   "execution_count": 281,
   "id": "f7fb8e71",
   "metadata": {},
   "outputs": [
    {
     "name": "stdout",
     "output_type": "stream",
     "text": [
      "[22:33:28] WARNING: C:/Users/Administrator/workspace/xgboost-win64_release_1.4.0/src/learner.cc:573: \n",
      "Parameters: { \"lambda_\" } might not be used.\n",
      "\n",
      "  This may not be accurate due to some parameters are only used in language bindings but\n",
      "  passed down to XGBoost core.  Or some parameters are not used but slip through this\n",
      "  verification. Please open an issue if you find above cases.\n",
      "\n",
      "\n",
      "[0]\tvalidation_0-rmse:625550.00000\n",
      "[1]\tvalidation_0-rmse:593974.81250\n",
      "[2]\tvalidation_0-rmse:562874.43750\n",
      "[3]\tvalidation_0-rmse:533589.68750\n",
      "[4]\tvalidation_0-rmse:505192.21875\n",
      "[5]\tvalidation_0-rmse:479483.71875\n",
      "[6]\tvalidation_0-rmse:455796.25000\n",
      "[7]\tvalidation_0-rmse:433049.90625\n",
      "[8]\tvalidation_0-rmse:411476.62500\n",
      "[9]\tvalidation_0-rmse:392089.68750\n",
      "[10]\tvalidation_0-rmse:373779.21875\n",
      "[11]\tvalidation_0-rmse:356008.18750\n",
      "[12]\tvalidation_0-rmse:340697.53125\n",
      "[13]\tvalidation_0-rmse:326092.78125\n",
      "[14]\tvalidation_0-rmse:311586.00000\n",
      "[15]\tvalidation_0-rmse:298958.75000\n",
      "[16]\tvalidation_0-rmse:287154.15625\n",
      "[17]\tvalidation_0-rmse:276084.37500\n",
      "[18]\tvalidation_0-rmse:266069.75000\n",
      "[19]\tvalidation_0-rmse:256458.95312\n",
      "[20]\tvalidation_0-rmse:246835.70312\n",
      "[21]\tvalidation_0-rmse:238398.48438\n",
      "[22]\tvalidation_0-rmse:231606.15625\n",
      "[23]\tvalidation_0-rmse:223843.51562\n",
      "[24]\tvalidation_0-rmse:217252.85938\n",
      "[25]\tvalidation_0-rmse:211428.39062\n",
      "[26]\tvalidation_0-rmse:206238.96875\n",
      "[27]\tvalidation_0-rmse:200437.35938\n",
      "[28]\tvalidation_0-rmse:195176.84375\n",
      "[29]\tvalidation_0-rmse:190964.48438\n",
      "[30]\tvalidation_0-rmse:186531.17188\n",
      "[31]\tvalidation_0-rmse:181778.85938\n",
      "[32]\tvalidation_0-rmse:178062.62500\n",
      "[33]\tvalidation_0-rmse:174540.96875\n",
      "[34]\tvalidation_0-rmse:171980.15625\n",
      "[35]\tvalidation_0-rmse:169509.89062\n",
      "[36]\tvalidation_0-rmse:165906.45312\n",
      "[37]\tvalidation_0-rmse:162784.79688\n",
      "[38]\tvalidation_0-rmse:159929.42188\n",
      "[39]\tvalidation_0-rmse:157220.75000\n",
      "[40]\tvalidation_0-rmse:155101.84375\n",
      "[41]\tvalidation_0-rmse:153105.46875\n",
      "[42]\tvalidation_0-rmse:151794.98438\n",
      "[43]\tvalidation_0-rmse:149794.70312\n",
      "[44]\tvalidation_0-rmse:148603.90625\n",
      "[45]\tvalidation_0-rmse:147653.73438\n",
      "[46]\tvalidation_0-rmse:146636.82812\n",
      "[47]\tvalidation_0-rmse:145186.46875\n",
      "[48]\tvalidation_0-rmse:143626.56250\n",
      "[49]\tvalidation_0-rmse:142197.12500\n",
      "[50]\tvalidation_0-rmse:141404.48438\n",
      "[51]\tvalidation_0-rmse:140147.17188\n",
      "[52]\tvalidation_0-rmse:139740.01562\n",
      "[53]\tvalidation_0-rmse:138903.90625\n",
      "[54]\tvalidation_0-rmse:138095.25000\n",
      "[55]\tvalidation_0-rmse:137451.51562\n",
      "[56]\tvalidation_0-rmse:136919.53125\n",
      "[57]\tvalidation_0-rmse:136543.21875\n",
      "[58]\tvalidation_0-rmse:135899.92188\n",
      "[59]\tvalidation_0-rmse:135404.37500\n",
      "[60]\tvalidation_0-rmse:134400.37500\n",
      "[61]\tvalidation_0-rmse:133248.03125\n",
      "[62]\tvalidation_0-rmse:132883.59375\n",
      "[63]\tvalidation_0-rmse:131874.12500\n",
      "[64]\tvalidation_0-rmse:130837.42969\n",
      "[65]\tvalidation_0-rmse:130435.52344\n",
      "[66]\tvalidation_0-rmse:129911.89062\n",
      "[67]\tvalidation_0-rmse:129663.76562\n",
      "[68]\tvalidation_0-rmse:129481.71875\n",
      "[69]\tvalidation_0-rmse:129113.29688\n",
      "[70]\tvalidation_0-rmse:128442.94531\n",
      "[71]\tvalidation_0-rmse:127932.85156\n",
      "[72]\tvalidation_0-rmse:127712.66406\n",
      "[73]\tvalidation_0-rmse:127531.28125\n",
      "[74]\tvalidation_0-rmse:126970.96094\n",
      "[75]\tvalidation_0-rmse:126743.77344\n",
      "[76]\tvalidation_0-rmse:126579.59375\n",
      "[77]\tvalidation_0-rmse:126400.52344\n",
      "[78]\tvalidation_0-rmse:126238.69531\n",
      "[79]\tvalidation_0-rmse:126136.13281\n",
      "[80]\tvalidation_0-rmse:126014.80469\n",
      "[81]\tvalidation_0-rmse:125445.82812\n",
      "[82]\tvalidation_0-rmse:125332.34375\n",
      "[83]\tvalidation_0-rmse:125195.39062\n",
      "[84]\tvalidation_0-rmse:124715.21875\n",
      "[85]\tvalidation_0-rmse:124650.42188\n",
      "[86]\tvalidation_0-rmse:124530.78125\n",
      "[87]\tvalidation_0-rmse:124398.17188\n",
      "[88]\tvalidation_0-rmse:124263.52344\n",
      "[89]\tvalidation_0-rmse:124136.33594\n",
      "[90]\tvalidation_0-rmse:123905.06250\n",
      "[91]\tvalidation_0-rmse:123806.87500\n",
      "[92]\tvalidation_0-rmse:123487.32031\n",
      "[93]\tvalidation_0-rmse:123419.82812\n",
      "[94]\tvalidation_0-rmse:123367.89062\n",
      "[95]\tvalidation_0-rmse:123023.83594\n",
      "[96]\tvalidation_0-rmse:122745.46094\n",
      "[97]\tvalidation_0-rmse:122709.92969\n",
      "[98]\tvalidation_0-rmse:122523.43750\n",
      "[99]\tvalidation_0-rmse:122416.02344\n",
      "[100]\tvalidation_0-rmse:122350.67188\n",
      "[101]\tvalidation_0-rmse:122301.39844\n",
      "[102]\tvalidation_0-rmse:122245.46875\n",
      "[103]\tvalidation_0-rmse:122040.14844\n",
      "[104]\tvalidation_0-rmse:121740.42969\n",
      "[105]\tvalidation_0-rmse:121685.64844\n",
      "[106]\tvalidation_0-rmse:121540.77344\n",
      "[107]\tvalidation_0-rmse:121486.88281\n",
      "[108]\tvalidation_0-rmse:121175.74219\n",
      "[109]\tvalidation_0-rmse:121048.90625\n",
      "[110]\tvalidation_0-rmse:120983.38281\n",
      "[111]\tvalidation_0-rmse:120657.81250\n",
      "[112]\tvalidation_0-rmse:120553.92188\n",
      "[113]\tvalidation_0-rmse:120632.71875\n",
      "[114]\tvalidation_0-rmse:120572.13281\n",
      "[115]\tvalidation_0-rmse:120557.56250\n",
      "[116]\tvalidation_0-rmse:120472.55469\n",
      "[117]\tvalidation_0-rmse:120419.07031\n",
      "[118]\tvalidation_0-rmse:120398.13281\n",
      "[119]\tvalidation_0-rmse:120255.82031\n",
      "[120]\tvalidation_0-rmse:120054.71875\n",
      "[121]\tvalidation_0-rmse:119737.88281\n",
      "[122]\tvalidation_0-rmse:119715.34375\n",
      "[123]\tvalidation_0-rmse:119698.69531\n",
      "[124]\tvalidation_0-rmse:119657.14062\n",
      "[125]\tvalidation_0-rmse:119649.22656\n",
      "[126]\tvalidation_0-rmse:119588.32812\n",
      "[127]\tvalidation_0-rmse:119476.18750\n",
      "[128]\tvalidation_0-rmse:119431.15625\n",
      "[129]\tvalidation_0-rmse:119374.45312\n",
      "[130]\tvalidation_0-rmse:119335.97656\n",
      "[131]\tvalidation_0-rmse:119224.14844\n",
      "[132]\tvalidation_0-rmse:119086.14062\n",
      "[133]\tvalidation_0-rmse:119058.02344\n",
      "[134]\tvalidation_0-rmse:118988.25781\n",
      "[135]\tvalidation_0-rmse:118741.48438\n",
      "[136]\tvalidation_0-rmse:118686.31250\n",
      "[137]\tvalidation_0-rmse:118716.07812\n",
      "[138]\tvalidation_0-rmse:118648.67188\n",
      "[139]\tvalidation_0-rmse:118414.00781\n",
      "[140]\tvalidation_0-rmse:118251.67969\n",
      "[141]\tvalidation_0-rmse:118250.98438\n",
      "[142]\tvalidation_0-rmse:118235.25000\n",
      "[143]\tvalidation_0-rmse:118170.35938\n",
      "[144]\tvalidation_0-rmse:118033.68750\n",
      "[145]\tvalidation_0-rmse:118009.65625\n",
      "[146]\tvalidation_0-rmse:117940.38281\n",
      "[147]\tvalidation_0-rmse:117887.75000\n",
      "[148]\tvalidation_0-rmse:117823.51562\n",
      "[149]\tvalidation_0-rmse:117808.60156\n",
      "[150]\tvalidation_0-rmse:117804.44531\n",
      "[151]\tvalidation_0-rmse:117688.53125\n",
      "[152]\tvalidation_0-rmse:117663.06250\n",
      "[153]\tvalidation_0-rmse:117667.80469\n",
      "[154]\tvalidation_0-rmse:117634.82031\n",
      "[155]\tvalidation_0-rmse:117616.32031\n",
      "[156]\tvalidation_0-rmse:117579.07812\n",
      "[157]\tvalidation_0-rmse:117566.81250\n",
      "[158]\tvalidation_0-rmse:117548.93750\n",
      "[159]\tvalidation_0-rmse:117549.36719\n",
      "[160]\tvalidation_0-rmse:117520.44531\n",
      "[161]\tvalidation_0-rmse:117407.69531\n",
      "[162]\tvalidation_0-rmse:117381.13281\n",
      "[163]\tvalidation_0-rmse:117363.37500\n",
      "[164]\tvalidation_0-rmse:117335.73438\n",
      "[165]\tvalidation_0-rmse:117213.09375\n",
      "[166]\tvalidation_0-rmse:117205.64844\n",
      "[167]\tvalidation_0-rmse:117247.91406\n",
      "[168]\tvalidation_0-rmse:117230.62500\n",
      "[169]\tvalidation_0-rmse:117199.02344\n",
      "[170]\tvalidation_0-rmse:117202.61719\n",
      "[171]\tvalidation_0-rmse:117226.41406\n",
      "[172]\tvalidation_0-rmse:117092.91406\n",
      "[173]\tvalidation_0-rmse:117023.36719\n",
      "[174]\tvalidation_0-rmse:116986.93750\n",
      "[175]\tvalidation_0-rmse:117035.87500\n",
      "[176]\tvalidation_0-rmse:117043.90625\n",
      "[177]\tvalidation_0-rmse:117016.86719\n",
      "[178]\tvalidation_0-rmse:116881.96875\n",
      "[179]\tvalidation_0-rmse:116784.27344\n",
      "[180]\tvalidation_0-rmse:116689.11719\n",
      "[181]\tvalidation_0-rmse:116652.74219\n",
      "[182]\tvalidation_0-rmse:116643.88281\n",
      "[183]\tvalidation_0-rmse:116588.90625\n",
      "[184]\tvalidation_0-rmse:116542.93750\n",
      "[185]\tvalidation_0-rmse:116469.21094\n",
      "[186]\tvalidation_0-rmse:116381.21094\n",
      "[187]\tvalidation_0-rmse:116248.78125\n",
      "[188]\tvalidation_0-rmse:116238.35938\n",
      "[189]\tvalidation_0-rmse:116147.39062\n",
      "[190]\tvalidation_0-rmse:116144.97656\n",
      "[191]\tvalidation_0-rmse:116117.38281\n",
      "[192]\tvalidation_0-rmse:116097.75781\n",
      "[193]\tvalidation_0-rmse:116017.57031\n",
      "[194]\tvalidation_0-rmse:115936.09375\n",
      "[195]\tvalidation_0-rmse:115905.67188\n",
      "[196]\tvalidation_0-rmse:115878.20312\n",
      "[197]\tvalidation_0-rmse:115871.35156\n",
      "[198]\tvalidation_0-rmse:115863.57031\n",
      "[199]\tvalidation_0-rmse:115867.70312\n",
      "[200]\tvalidation_0-rmse:115889.86719\n",
      "[201]\tvalidation_0-rmse:115874.07031\n",
      "[202]\tvalidation_0-rmse:115867.18750\n",
      "[203]\tvalidation_0-rmse:115862.68750\n",
      "[204]\tvalidation_0-rmse:115797.78125\n",
      "[205]\tvalidation_0-rmse:115799.61719\n",
      "[206]\tvalidation_0-rmse:115733.89062\n",
      "[207]\tvalidation_0-rmse:115720.05469\n",
      "[208]\tvalidation_0-rmse:115691.74219\n",
      "[209]\tvalidation_0-rmse:115662.98438\n",
      "[210]\tvalidation_0-rmse:115642.38281\n",
      "[211]\tvalidation_0-rmse:115615.06250\n",
      "[212]\tvalidation_0-rmse:115590.61719\n",
      "[213]\tvalidation_0-rmse:115574.98438\n"
     ]
    },
    {
     "name": "stdout",
     "output_type": "stream",
     "text": [
      "[214]\tvalidation_0-rmse:115558.31250\n",
      "[215]\tvalidation_0-rmse:115477.20312\n",
      "[216]\tvalidation_0-rmse:115456.98438\n",
      "[217]\tvalidation_0-rmse:115463.72656\n",
      "[218]\tvalidation_0-rmse:115375.93750\n",
      "[219]\tvalidation_0-rmse:115349.10156\n",
      "[220]\tvalidation_0-rmse:115292.16406\n",
      "[221]\tvalidation_0-rmse:115280.79688\n",
      "[222]\tvalidation_0-rmse:115268.16406\n",
      "[223]\tvalidation_0-rmse:115280.30469\n",
      "[224]\tvalidation_0-rmse:115198.62500\n",
      "[225]\tvalidation_0-rmse:115142.67969\n",
      "[226]\tvalidation_0-rmse:115128.14062\n",
      "[227]\tvalidation_0-rmse:115126.23438\n",
      "[228]\tvalidation_0-rmse:115102.60156\n",
      "[229]\tvalidation_0-rmse:115084.05469\n",
      "[230]\tvalidation_0-rmse:115048.98438\n",
      "[231]\tvalidation_0-rmse:115050.53125\n",
      "[232]\tvalidation_0-rmse:115030.50000\n",
      "[233]\tvalidation_0-rmse:115014.14844\n",
      "[234]\tvalidation_0-rmse:115010.52344\n",
      "[235]\tvalidation_0-rmse:115008.52344\n",
      "[236]\tvalidation_0-rmse:115037.10938\n",
      "[237]\tvalidation_0-rmse:115013.92188\n",
      "[238]\tvalidation_0-rmse:115001.75000\n",
      "[239]\tvalidation_0-rmse:114932.10938\n",
      "[240]\tvalidation_0-rmse:114893.23438\n",
      "[241]\tvalidation_0-rmse:114905.89062\n",
      "[242]\tvalidation_0-rmse:114868.09375\n",
      "[243]\tvalidation_0-rmse:114865.42188\n",
      "[244]\tvalidation_0-rmse:114862.38281\n",
      "[245]\tvalidation_0-rmse:114797.64062\n",
      "[246]\tvalidation_0-rmse:114801.13281\n",
      "[247]\tvalidation_0-rmse:114806.17188\n",
      "[248]\tvalidation_0-rmse:114808.27344\n",
      "[249]\tvalidation_0-rmse:114786.14844\n",
      "[250]\tvalidation_0-rmse:114793.32812\n",
      "[251]\tvalidation_0-rmse:114796.40625\n",
      "[252]\tvalidation_0-rmse:114778.59375\n",
      "[253]\tvalidation_0-rmse:114662.37500\n",
      "[254]\tvalidation_0-rmse:114661.82812\n",
      "[255]\tvalidation_0-rmse:114656.05469\n",
      "[256]\tvalidation_0-rmse:114648.67969\n",
      "[257]\tvalidation_0-rmse:114631.75781\n",
      "[258]\tvalidation_0-rmse:114629.35938\n",
      "[259]\tvalidation_0-rmse:114622.81250\n",
      "[260]\tvalidation_0-rmse:114604.17188\n",
      "[261]\tvalidation_0-rmse:114606.44531\n",
      "[262]\tvalidation_0-rmse:114524.67188\n",
      "[263]\tvalidation_0-rmse:114494.54688\n",
      "[264]\tvalidation_0-rmse:114472.27344\n",
      "[265]\tvalidation_0-rmse:114471.32812\n",
      "[266]\tvalidation_0-rmse:114471.08594\n",
      "[267]\tvalidation_0-rmse:114465.75781\n",
      "[268]\tvalidation_0-rmse:114458.79688\n",
      "[269]\tvalidation_0-rmse:114433.77344\n",
      "[270]\tvalidation_0-rmse:114434.65625\n",
      "[271]\tvalidation_0-rmse:114344.39844\n",
      "[272]\tvalidation_0-rmse:114351.60156\n",
      "[273]\tvalidation_0-rmse:114310.57031\n",
      "[274]\tvalidation_0-rmse:114292.80469\n",
      "[275]\tvalidation_0-rmse:114293.61719\n",
      "[276]\tvalidation_0-rmse:114286.03125\n",
      "[277]\tvalidation_0-rmse:114271.52344\n",
      "[278]\tvalidation_0-rmse:114274.93750\n",
      "[279]\tvalidation_0-rmse:114258.42969\n",
      "[280]\tvalidation_0-rmse:114253.23438\n",
      "[281]\tvalidation_0-rmse:114206.21875\n",
      "[282]\tvalidation_0-rmse:114222.82812\n",
      "[283]\tvalidation_0-rmse:114227.53906\n",
      "[284]\tvalidation_0-rmse:114227.35938\n",
      "[285]\tvalidation_0-rmse:114207.07812\n",
      "[286]\tvalidation_0-rmse:114214.32031\n",
      "[287]\tvalidation_0-rmse:114198.70312\n",
      "[288]\tvalidation_0-rmse:114209.38281\n",
      "[289]\tvalidation_0-rmse:114222.04688\n",
      "[290]\tvalidation_0-rmse:114197.78906\n",
      "[291]\tvalidation_0-rmse:114179.73438\n",
      "[292]\tvalidation_0-rmse:114141.19531\n",
      "[293]\tvalidation_0-rmse:114128.29688\n",
      "[294]\tvalidation_0-rmse:114108.50000\n",
      "[295]\tvalidation_0-rmse:114103.25000\n",
      "[296]\tvalidation_0-rmse:114094.93750\n",
      "[297]\tvalidation_0-rmse:114095.88281\n",
      "[298]\tvalidation_0-rmse:114082.97656\n",
      "[299]\tvalidation_0-rmse:114071.99219\n",
      "[300]\tvalidation_0-rmse:114064.88281\n",
      "[301]\tvalidation_0-rmse:114045.08594\n",
      "[302]\tvalidation_0-rmse:114040.60938\n",
      "[303]\tvalidation_0-rmse:114007.77344\n",
      "[304]\tvalidation_0-rmse:114011.25000\n",
      "[305]\tvalidation_0-rmse:113929.18750\n",
      "[306]\tvalidation_0-rmse:113895.73438\n",
      "[307]\tvalidation_0-rmse:113885.50781\n",
      "[308]\tvalidation_0-rmse:113874.32031\n",
      "[309]\tvalidation_0-rmse:113845.20312\n",
      "[310]\tvalidation_0-rmse:113859.26562\n",
      "[311]\tvalidation_0-rmse:113868.63281\n",
      "[312]\tvalidation_0-rmse:113841.29688\n",
      "[313]\tvalidation_0-rmse:113810.75000\n",
      "[314]\tvalidation_0-rmse:113748.00781\n",
      "[315]\tvalidation_0-rmse:113725.17188\n",
      "[316]\tvalidation_0-rmse:113728.95312\n",
      "[317]\tvalidation_0-rmse:113723.07812\n",
      "[318]\tvalidation_0-rmse:113715.32812\n",
      "[319]\tvalidation_0-rmse:113692.00781\n",
      "[320]\tvalidation_0-rmse:113687.65625\n",
      "[321]\tvalidation_0-rmse:113679.33594\n",
      "[322]\tvalidation_0-rmse:113673.39062\n",
      "[323]\tvalidation_0-rmse:113675.05469\n",
      "[324]\tvalidation_0-rmse:113669.19531\n",
      "[325]\tvalidation_0-rmse:113671.71094\n",
      "[326]\tvalidation_0-rmse:113659.28906\n",
      "[327]\tvalidation_0-rmse:113652.23438\n",
      "[328]\tvalidation_0-rmse:113635.89062\n",
      "[329]\tvalidation_0-rmse:113640.77344\n",
      "[330]\tvalidation_0-rmse:113638.24219\n",
      "[331]\tvalidation_0-rmse:113612.60156\n",
      "[332]\tvalidation_0-rmse:113606.64844\n",
      "[333]\tvalidation_0-rmse:113602.29688\n",
      "[334]\tvalidation_0-rmse:113610.62500\n",
      "[335]\tvalidation_0-rmse:113602.35156\n",
      "[336]\tvalidation_0-rmse:113591.89844\n",
      "[337]\tvalidation_0-rmse:113591.43750\n",
      "[338]\tvalidation_0-rmse:113585.33594\n",
      "[339]\tvalidation_0-rmse:113585.98438\n",
      "[340]\tvalidation_0-rmse:113569.92188\n",
      "[341]\tvalidation_0-rmse:113562.18750\n",
      "[342]\tvalidation_0-rmse:113560.64062\n",
      "[343]\tvalidation_0-rmse:113564.15625\n",
      "[344]\tvalidation_0-rmse:113554.70312\n",
      "[345]\tvalidation_0-rmse:113559.60938\n",
      "[346]\tvalidation_0-rmse:113560.30469\n",
      "[347]\tvalidation_0-rmse:113565.64062\n",
      "[348]\tvalidation_0-rmse:113551.24219\n",
      "[349]\tvalidation_0-rmse:113547.32031\n",
      "[350]\tvalidation_0-rmse:113555.06250\n",
      "[351]\tvalidation_0-rmse:113569.67188\n",
      "[352]\tvalidation_0-rmse:113556.22656\n",
      "[353]\tvalidation_0-rmse:113496.16406\n",
      "[354]\tvalidation_0-rmse:113454.42969\n",
      "[355]\tvalidation_0-rmse:113452.33594\n",
      "[356]\tvalidation_0-rmse:113459.70312\n",
      "[357]\tvalidation_0-rmse:113476.71875\n",
      "[358]\tvalidation_0-rmse:113464.51562\n",
      "[359]\tvalidation_0-rmse:113463.37500\n",
      "[360]\tvalidation_0-rmse:113452.56250\n",
      "[361]\tvalidation_0-rmse:113450.99219\n",
      "[362]\tvalidation_0-rmse:113440.67188\n",
      "[363]\tvalidation_0-rmse:113432.23438\n",
      "[364]\tvalidation_0-rmse:113431.72656\n",
      "[365]\tvalidation_0-rmse:113428.25000\n",
      "[366]\tvalidation_0-rmse:113423.30469\n",
      "[367]\tvalidation_0-rmse:113418.07031\n",
      "[368]\tvalidation_0-rmse:113412.73438\n",
      "[369]\tvalidation_0-rmse:113393.84375\n",
      "[370]\tvalidation_0-rmse:113391.89844\n",
      "[371]\tvalidation_0-rmse:113387.78906\n",
      "[372]\tvalidation_0-rmse:113382.02344\n",
      "[373]\tvalidation_0-rmse:113388.49219\n",
      "[374]\tvalidation_0-rmse:113398.69531\n",
      "[375]\tvalidation_0-rmse:113360.74219\n",
      "[376]\tvalidation_0-rmse:113351.64844\n",
      "[377]\tvalidation_0-rmse:113325.30469\n",
      "[378]\tvalidation_0-rmse:113316.71094\n",
      "[379]\tvalidation_0-rmse:113317.66406\n",
      "[380]\tvalidation_0-rmse:113300.52344\n",
      "[381]\tvalidation_0-rmse:113294.89844\n",
      "[382]\tvalidation_0-rmse:113309.17969\n",
      "[383]\tvalidation_0-rmse:113329.72656\n",
      "[384]\tvalidation_0-rmse:113339.74219\n",
      "[385]\tvalidation_0-rmse:113318.00781\n",
      "[386]\tvalidation_0-rmse:113317.49219\n",
      "[387]\tvalidation_0-rmse:113293.29688\n",
      "[388]\tvalidation_0-rmse:113291.38281\n",
      "[389]\tvalidation_0-rmse:113288.49219\n",
      "[390]\tvalidation_0-rmse:113269.42969\n",
      "[391]\tvalidation_0-rmse:113266.95312\n",
      "[392]\tvalidation_0-rmse:113278.30469\n",
      "[393]\tvalidation_0-rmse:113272.75781\n",
      "[394]\tvalidation_0-rmse:113275.96875\n",
      "[395]\tvalidation_0-rmse:113245.35156\n",
      "[396]\tvalidation_0-rmse:113238.77344\n",
      "[397]\tvalidation_0-rmse:113239.60156\n",
      "[398]\tvalidation_0-rmse:113231.94531\n",
      "[399]\tvalidation_0-rmse:113233.42188\n",
      "[400]\tvalidation_0-rmse:113229.48438\n",
      "[401]\tvalidation_0-rmse:113234.35156\n",
      "[402]\tvalidation_0-rmse:113225.82031\n",
      "[403]\tvalidation_0-rmse:113204.84375\n",
      "[404]\tvalidation_0-rmse:113191.30469\n",
      "[405]\tvalidation_0-rmse:113182.19531\n",
      "[406]\tvalidation_0-rmse:113180.63281\n",
      "[407]\tvalidation_0-rmse:113170.37500\n",
      "[408]\tvalidation_0-rmse:113178.84375\n",
      "[409]\tvalidation_0-rmse:113176.74219\n",
      "[410]\tvalidation_0-rmse:113175.39062\n",
      "[411]\tvalidation_0-rmse:113172.14844\n",
      "[412]\tvalidation_0-rmse:113165.68750\n",
      "[413]\tvalidation_0-rmse:113131.31250\n",
      "[414]\tvalidation_0-rmse:113134.74219\n",
      "[415]\tvalidation_0-rmse:113134.90625\n",
      "[416]\tvalidation_0-rmse:113127.75000\n",
      "[417]\tvalidation_0-rmse:113113.24219\n",
      "[418]\tvalidation_0-rmse:113110.86719\n",
      "[419]\tvalidation_0-rmse:113120.78906\n",
      "[420]\tvalidation_0-rmse:113110.90625\n",
      "[421]\tvalidation_0-rmse:113090.49219\n",
      "[422]\tvalidation_0-rmse:113069.34375\n",
      "[423]\tvalidation_0-rmse:113057.88281\n",
      "[424]\tvalidation_0-rmse:113067.50781\n",
      "[425]\tvalidation_0-rmse:113064.42969\n",
      "[426]\tvalidation_0-rmse:113061.85938\n",
      "[427]\tvalidation_0-rmse:113054.98438\n",
      "[428]\tvalidation_0-rmse:113036.04688\n",
      "[429]\tvalidation_0-rmse:113033.28906\n",
      "[430]\tvalidation_0-rmse:113031.64844\n",
      "[431]\tvalidation_0-rmse:113032.38281\n",
      "[432]\tvalidation_0-rmse:113027.97656\n",
      "[433]\tvalidation_0-rmse:113032.04688\n",
      "[434]\tvalidation_0-rmse:113011.49219\n",
      "[435]\tvalidation_0-rmse:113031.14062\n"
     ]
    },
    {
     "name": "stdout",
     "output_type": "stream",
     "text": [
      "[436]\tvalidation_0-rmse:113028.23438\n",
      "[437]\tvalidation_0-rmse:113019.95312\n",
      "[438]\tvalidation_0-rmse:113004.25000\n",
      "[439]\tvalidation_0-rmse:113005.25000\n",
      "[440]\tvalidation_0-rmse:112981.07812\n",
      "[441]\tvalidation_0-rmse:112985.73438\n",
      "[442]\tvalidation_0-rmse:112984.82812\n",
      "[443]\tvalidation_0-rmse:112975.16406\n",
      "[444]\tvalidation_0-rmse:112971.11719\n",
      "[445]\tvalidation_0-rmse:112959.77344\n",
      "[446]\tvalidation_0-rmse:112952.52344\n",
      "[447]\tvalidation_0-rmse:112931.39844\n",
      "[448]\tvalidation_0-rmse:112926.10938\n",
      "[449]\tvalidation_0-rmse:112957.36719\n",
      "[450]\tvalidation_0-rmse:112950.14844\n",
      "[451]\tvalidation_0-rmse:112945.18750\n",
      "[452]\tvalidation_0-rmse:112905.03906\n",
      "[453]\tvalidation_0-rmse:112906.27344\n",
      "[454]\tvalidation_0-rmse:112891.20312\n",
      "[455]\tvalidation_0-rmse:112890.49219\n",
      "[456]\tvalidation_0-rmse:112892.11719\n",
      "[457]\tvalidation_0-rmse:112897.02344\n",
      "[458]\tvalidation_0-rmse:112885.17188\n",
      "[459]\tvalidation_0-rmse:112875.60938\n",
      "[460]\tvalidation_0-rmse:112892.28125\n",
      "[461]\tvalidation_0-rmse:112888.57031\n",
      "[462]\tvalidation_0-rmse:112883.77344\n",
      "[463]\tvalidation_0-rmse:112885.60938\n",
      "[464]\tvalidation_0-rmse:112895.53125\n",
      "[465]\tvalidation_0-rmse:112894.34375\n",
      "[466]\tvalidation_0-rmse:112888.95312\n",
      "[467]\tvalidation_0-rmse:112889.10156\n",
      "[468]\tvalidation_0-rmse:112885.58594\n"
     ]
    },
    {
     "data": {
      "text/plain": [
       "XGBRegressor(alpha=1.6, base_score=0.5, booster='gbtree', colsample_bylevel=1,\n",
       "             colsample_bynode=1, colsample_bytree=0.5, gamma=102.4, gpu_id=-1,\n",
       "             importance_type='gain', interaction_constraints='', lambda_=0.2,\n",
       "             learning_rate=0.06, max_delta_step=0, max_depth=6,\n",
       "             min_child_weight=1, missing=nan, monotone_constraints='()',\n",
       "             n_estimators=700, n_jobs=8, num_parallel_tree=1, random_state=0,\n",
       "             reg_alpha=1.60000002, reg_lambda=1, scale_pos_weight=1,\n",
       "             subsample=1, tree_method='exact', validate_parameters=1,\n",
       "             verbosity=None)"
      ]
     },
     "execution_count": 281,
     "metadata": {},
     "output_type": "execute_result"
    }
   ],
   "source": [
    "xgb_reg.fit(X_train, y_train, early_stopping_rounds=10, \n",
    "             eval_set=[(X_test, y_test)], eval_metric=\"rmse\", )"
   ]
  },
  {
   "cell_type": "code",
   "execution_count": 282,
   "id": "8ae49bff",
   "metadata": {},
   "outputs": [],
   "source": [
    "predicted = xgb_reg.predict(X_test)"
   ]
  },
  {
   "cell_type": "code",
   "execution_count": 283,
   "id": "02eea082",
   "metadata": {},
   "outputs": [],
   "source": [
    "mse = mean_squared_error(y_test, predicted)\n",
    "rmse = np.sqrt(mse)"
   ]
  },
  {
   "cell_type": "code",
   "execution_count": 284,
   "id": "d7b3d2df",
   "metadata": {},
   "outputs": [
    {
     "data": {
      "text/plain": [
       "112875.6170465112"
      ]
     },
     "execution_count": 284,
     "metadata": {},
     "output_type": "execute_result"
    }
   ],
   "source": [
    "rmse"
   ]
  },
  {
   "cell_type": "code",
   "execution_count": 213,
   "id": "73352c68",
   "metadata": {},
   "outputs": [],
   "source": [
    "a=range(0,1, 100)"
   ]
  },
  {
   "cell_type": "code",
   "execution_count": 218,
   "id": "75d2711f",
   "metadata": {},
   "outputs": [],
   "source": [
    "xgb_reg = xgboost.XGBRegressor()\n",
    "\n",
    "param_distribs = { 'colsample_bytree': [0.1, 0.5, 1.0], 'lambda': [0.1, 0.5, 1.0],}\n",
    "\n",
    "\n",
    "clf = RandomizedSearchCV(\n",
    "    xgb_reg, \n",
    "    param_distributions=param_distribs, \n",
    "    n_iter=100, \n",
    "    cv=3, \n",
    "    scoring='neg_mean_squared_error',  \n",
    "    verbose=1,\n",
    "    n_jobs=-1\n",
    ")"
   ]
  },
  {
   "cell_type": "code",
   "execution_count": 219,
   "id": "a2d79cac",
   "metadata": {},
   "outputs": [
    {
     "name": "stderr",
     "output_type": "stream",
     "text": [
      "C:\\Users\\hjhhi\\Anaconda3\\lib\\site-packages\\sklearn\\model_selection\\_search.py:285: UserWarning: The total space of parameters 9 is smaller than n_iter=100. Running 9 iterations. For exhaustive searches, use GridSearchCV.\n",
      "  warnings.warn(\n"
     ]
    },
    {
     "name": "stdout",
     "output_type": "stream",
     "text": [
      "Fitting 3 folds for each of 9 candidates, totalling 27 fits\n"
     ]
    },
    {
     "data": {
      "text/plain": [
       "RandomizedSearchCV(cv=3,\n",
       "                   estimator=XGBRegressor(base_score=None, booster=None,\n",
       "                                          colsample_bylevel=None,\n",
       "                                          colsample_bynode=None,\n",
       "                                          colsample_bytree=None, gamma=None,\n",
       "                                          gpu_id=None, importance_type='gain',\n",
       "                                          interaction_constraints=None,\n",
       "                                          learning_rate=None,\n",
       "                                          max_delta_step=None, max_depth=None,\n",
       "                                          min_child_weight=None, missing=nan,\n",
       "                                          monotone_constraints=None,\n",
       "                                          n_estimators=100, n_jobs=None,\n",
       "                                          num_parallel_tree=None,\n",
       "                                          random_state=None, reg_alpha=None,\n",
       "                                          reg_lambda=None,\n",
       "                                          scale_pos_weight=None, subsample=None,\n",
       "                                          tree_method=None,\n",
       "                                          validate_parameters=None,\n",
       "                                          verbosity=None),\n",
       "                   n_iter=100, n_jobs=-1,\n",
       "                   param_distributions={'colsample_bytree': [0.1, 0.5, 1.0],\n",
       "                                        'lambda': [0.1, 0.5, 1.0]},\n",
       "                   scoring='neg_mean_squared_error', verbose=1)"
      ]
     },
     "execution_count": 219,
     "metadata": {},
     "output_type": "execute_result"
    }
   ],
   "source": [
    "clf.fit(X_train, y_train)"
   ]
  },
  {
   "cell_type": "code",
   "execution_count": 220,
   "id": "9a92630a",
   "metadata": {},
   "outputs": [
    {
     "data": {
      "text/plain": [
       "{'lambda': 1.0, 'colsample_bytree': 1.0}"
      ]
     },
     "execution_count": 220,
     "metadata": {},
     "output_type": "execute_result"
    }
   ],
   "source": [
    "clf.best_params_"
   ]
  },
  {
   "cell_type": "code",
   "execution_count": 278,
   "id": "983d9672",
   "metadata": {},
   "outputs": [],
   "source": [
    "rf = RandomForestRegressor()\n",
    "\n",
    "param_distribs = { 'n_estimators': range(1, 20, 5), 'max_features': range(1, 3),\n",
    "                 'criterion':[\"squared_error\", \"absolute_error\", \"poisson\"]}\n",
    "\n",
    "param_grid = {\n",
    "    'gamma': [0,0.1,0.2,0.4,0.8,1.6,3.2,6.4,12.8,25.6,51.2,102.4, 200],\n",
    "              'learning_rate': [0.01, 0.03, 0.06, 0.1, 0.15],\n",
    "              'max_depth': [5,6,7,8],\n",
    "              'n_estimators': [100,115,130,150, 200, 300, 500, 700, 1000],\n",
    "              'alpha': [0,0.1,0.2,0.4,0.8,1.6,3.2,6.4,12.8,25.6,51.2,102.4,200],\n",
    "              'lambda': [0,0.1,0.2,0.4,0.8,1.6,3.2,6.4,12.8,25.6,51.2,102.4,200],\n",
    "            'colsample_bytree': [0.1, 0.5, 1.0]}\n",
    "\n",
    "clf = RandomizedSearchCV(xgb_reg, param_grid,n_iter=10,cv=3, scoring='neg_mean_squared_error',      verbose=1,    n_jobs=-1\n",
    ")"
   ]
  },
  {
   "cell_type": "code",
   "execution_count": 279,
   "id": "85d9740c",
   "metadata": {},
   "outputs": [
    {
     "name": "stdout",
     "output_type": "stream",
     "text": [
      "Fitting 3 folds for each of 10 candidates, totalling 30 fits\n",
      "[22:32:05] WARNING: C:/Users/Administrator/workspace/xgboost-win64_release_1.4.0/src/learner.cc:573: \n",
      "Parameters: { \"lambda_\" } might not be used.\n",
      "\n",
      "  This may not be accurate due to some parameters are only used in language bindings but\n",
      "  passed down to XGBoost core.  Or some parameters are not used but slip through this\n",
      "  verification. Please open an issue if you find above cases.\n",
      "\n",
      "\n"
     ]
    },
    {
     "data": {
      "text/plain": [
       "RandomizedSearchCV(cv=3,\n",
       "                   estimator=XGBRegressor(alpha=1.6, base_score=0.5,\n",
       "                                          booster='gbtree', colsample_bylevel=1,\n",
       "                                          colsample_bynode=1,\n",
       "                                          colsample_bytree=1, gamma=102.4,\n",
       "                                          gpu_id=-1, importance_type='gain',\n",
       "                                          interaction_constraints='',\n",
       "                                          lambda_=0.2, learning_rate=0.06,\n",
       "                                          max_delta_step=0, max_depth=6,\n",
       "                                          min_child_weight=1, missing=nan,\n",
       "                                          monotone_constraints='()',\n",
       "                                          n_estimators=7...\n",
       "                                                  3.2, 6.4, 12.8, 25.6, 51.2,\n",
       "                                                  102.4, 200],\n",
       "                                        'colsample_bytree': [0.1, 0.5, 1.0],\n",
       "                                        'gamma': [0, 0.1, 0.2, 0.4, 0.8, 1.6,\n",
       "                                                  3.2, 6.4, 12.8, 25.6, 51.2,\n",
       "                                                  102.4, 200],\n",
       "                                        'lambda': [0, 0.1, 0.2, 0.4, 0.8, 1.6,\n",
       "                                                   3.2, 6.4, 12.8, 25.6, 51.2,\n",
       "                                                   102.4, 200],\n",
       "                                        'learning_rate': [0.01, 0.03, 0.06, 0.1,\n",
       "                                                          0.15],\n",
       "                                        'max_depth': [5, 6, 7, 8],\n",
       "                                        'n_estimators': [100, 115, 130, 150,\n",
       "                                                         200, 300, 500, 700,\n",
       "                                                         1000]},\n",
       "                   scoring='neg_mean_squared_error', verbose=1)"
      ]
     },
     "execution_count": 279,
     "metadata": {},
     "output_type": "execute_result"
    }
   ],
   "source": [
    "clf.fit(X_train, y_train)"
   ]
  },
  {
   "cell_type": "code",
   "execution_count": 269,
   "id": "a7de953c",
   "metadata": {},
   "outputs": [
    {
     "data": {
      "text/plain": [
       "{'n_estimators': 700,\n",
       " 'max_depth': 5,\n",
       " 'learning_rate': 0.06,\n",
       " 'lambda': 0.2,\n",
       " 'gamma': 1.6,\n",
       " 'alpha': 200}"
      ]
     },
     "execution_count": 269,
     "metadata": {},
     "output_type": "execute_result"
    }
   ],
   "source": [
    "clf.best_params_"
   ]
  },
  {
   "cell_type": "code",
   "execution_count": 280,
   "id": "24eabdf7",
   "metadata": {},
   "outputs": [],
   "source": [
    "xgb_reg = xgboost.XGBRegressor(n_estimators=700, learning_rate=0.06, gamma=102.4, alpha=1.6, lambda_=0.2, colsample_bytree=0.5)"
   ]
  },
  {
   "cell_type": "markdown",
   "id": "42cb306a",
   "metadata": {},
   "source": [
    "### 성능이 별로라면 바로 다시다운받고 전처리로 돌아간다"
   ]
  },
  {
   "cell_type": "code",
   "execution_count": null,
   "id": "4a27ee4c",
   "metadata": {},
   "outputs": [],
   "source": [
    "df = pd.read_csv(\"../datasets/kc_house_data.csv\")"
   ]
  },
  {
   "cell_type": "code",
   "execution_count": 115,
   "id": "ca3c16ae",
   "metadata": {},
   "outputs": [],
   "source": [
    "def score(model):\n",
    "    model.fit(X_train, y_train)\n",
    "    model_pred = model.predict(X_train)\n",
    "    lin_mse = mean_squared_error(model_pred, y_train)\n",
    "    lin_rmse = np.sqrt(lin_mse)\n",
    "    return lin_rmse"
   ]
  },
  {
   "cell_type": "code",
   "execution_count": 227,
   "id": "85ffaa3d",
   "metadata": {},
   "outputs": [],
   "source": [
    "lasso = Lasso()\n",
    "rand_forest = RandomForestRegressor()\n",
    "sgd = SGDRegressor()"
   ]
  },
  {
   "cell_type": "code",
   "execution_count": 116,
   "id": "ff4a3c20",
   "metadata": {},
   "outputs": [],
   "source": [
    "rf_params = [\n",
    "{'n_estimators': [10, 25, 30], 'max_features': [3, 5, 10], \n",
    " 'max_depth': [10, 50,60,  None], 'bootstrap': [True, False]}\n",
    "]\n",
    "lasso_params=[\n",
    "    {\n",
    "        \"alpha\": [0.001, 0.01, 0.1, 1, 10, 100, 1000]\n",
    "    }\n",
    "]\n",
    "elastic_params = [\n",
    "    {\n",
    "         \"alpha\": [0.000001, 0.00001, 0.0001, 0.001, 0.01, 0.1, 1],\n",
    "        \"l1_ratio\" : [0, 0.1, 0.2, 0.3, 0.4, 0.5, 0.6, 0.7, 0.8, 0.9, 1, 1.1, 1.2, ]\n",
    "    }\n",
    "]"
   ]
  },
  {
   "cell_type": "code",
   "execution_count": 29,
   "id": "e89c3a24",
   "metadata": {},
   "outputs": [],
   "source": [
    "def tuneHyperparameters(model, params):\n",
    "\n",
    "    gridSearch = GridSearchCV(model, params, verbose=0, cv=10, scoring=\"neg_mean_squared_error\", n_jobs = -1)\n",
    "    gridSearch.fit(X_train, y_train)\n",
    "    bestParams, bestScore = gridSearch.best_params_,gridSearch.best_score_\n",
    "    return bestScore, bestParams"
   ]
  },
  {
   "cell_type": "code",
   "execution_count": 30,
   "id": "2b4c7223",
   "metadata": {},
   "outputs": [
    {
     "name": "stderr",
     "output_type": "stream",
     "text": [
      "C:\\Users\\hjhhi\\Anaconda3\\envs\\DeepLearning\\lib\\site-packages\\sklearn\\linear_model\\_coordinate_descent.py:647: ConvergenceWarning: Objective did not converge. You might want to increase the number of iterations, check the scale of the features or consider increasing regularisation. Duality gap: 3.929e+14, tolerance: 2.913e+11\n",
      "  model = cd_fast.enet_coordinate_descent(\n",
      "C:\\Users\\hjhhi\\Anaconda3\\envs\\DeepLearning\\lib\\site-packages\\sklearn\\model_selection\\_validation.py:372: FitFailedWarning: \n",
      "140 fits failed out of a total of 910.\n",
      "The score on these train-test partitions for these parameters will be set to nan.\n",
      "If these failures are not expected, you can try to debug them by setting error_score='raise'.\n",
      "\n",
      "Below are more details about the failures:\n",
      "--------------------------------------------------------------------------------\n",
      "70 fits failed with the following error:\n",
      "Traceback (most recent call last):\n",
      "  File \"C:\\Users\\hjhhi\\Anaconda3\\envs\\DeepLearning\\lib\\site-packages\\sklearn\\model_selection\\_validation.py\", line 681, in _fit_and_score\n",
      "    estimator.fit(X_train, y_train, **fit_params)\n",
      "  File \"C:\\Users\\hjhhi\\Anaconda3\\envs\\DeepLearning\\lib\\site-packages\\sklearn\\linear_model\\_coordinate_descent.py\", line 925, in fit\n",
      "    raise ValueError(\n",
      "ValueError: l1_ratio must be between 0 and 1; got l1_ratio=1.1\n",
      "\n",
      "--------------------------------------------------------------------------------\n",
      "70 fits failed with the following error:\n",
      "Traceback (most recent call last):\n",
      "  File \"C:\\Users\\hjhhi\\Anaconda3\\envs\\DeepLearning\\lib\\site-packages\\sklearn\\model_selection\\_validation.py\", line 681, in _fit_and_score\n",
      "    estimator.fit(X_train, y_train, **fit_params)\n",
      "  File \"C:\\Users\\hjhhi\\Anaconda3\\envs\\DeepLearning\\lib\\site-packages\\sklearn\\linear_model\\_coordinate_descent.py\", line 925, in fit\n",
      "    raise ValueError(\n",
      "ValueError: l1_ratio must be between 0 and 1; got l1_ratio=1.2\n",
      "\n",
      "  warnings.warn(some_fits_failed_message, FitFailedWarning)\n",
      "C:\\Users\\hjhhi\\Anaconda3\\envs\\DeepLearning\\lib\\site-packages\\sklearn\\model_selection\\_search.py:969: UserWarning: One or more of the test scores are non-finite: [-4.03811363e+10 -4.03811369e+10 -4.03811376e+10 -4.03811382e+10\n",
      " -4.03811388e+10 -4.03811395e+10 -4.03811401e+10 -4.03811408e+10\n",
      " -4.03811414e+10 -4.03811420e+10 -4.03811427e+10             nan\n",
      "             nan -4.03810862e+10 -4.03810911e+10 -4.03810962e+10\n",
      " -4.03811014e+10 -4.03811068e+10 -4.03811124e+10 -4.03811181e+10\n",
      " -4.03811240e+10 -4.03811301e+10 -4.03811363e+10 -4.03811427e+10\n",
      "             nan             nan -4.03812906e+10 -4.03812061e+10\n",
      " -4.03811367e+10 -4.03810826e+10 -4.03810439e+10 -4.03810207e+10\n",
      " -4.03810133e+10 -4.03810216e+10 -4.03810459e+10 -4.03810862e+10\n",
      " -4.03811427e+10             nan             nan -4.04381271e+10\n",
      " -4.04279344e+10 -4.04185386e+10 -4.04100045e+10 -4.04024023e+10\n",
      " -4.03958084e+10 -4.03903058e+10 -4.03859847e+10 -4.03829439e+10\n",
      " -4.03812907e+10 -4.03811428e+10             nan             nan\n",
      " -4.20162862e+10 -4.18482049e+10 -4.16737310e+10 -4.14932148e+10\n",
      " -4.13074647e+10 -4.11180743e+10 -4.09280184e+10 -4.07427960e+10\n",
      " -4.05727504e+10 -4.04381296e+10 -4.03811433e+10             nan\n",
      "             nan -4.71774080e+10 -4.69242820e+10 -4.66433045e+10\n",
      " -4.63259566e+10 -4.59596819e+10 -4.55252195e+10 -4.49915771e+10\n",
      " -4.43059827e+10 -4.33728970e+10 -4.20163465e+10 -4.03811491e+10\n",
      "             nan             nan -5.48353738e+10 -5.44011692e+10\n",
      " -5.39142226e+10 -5.33644858e+10 -5.27390800e+10 -5.20209216e+10\n",
      " -5.11858291e+10 -5.01946252e+10 -4.89631415e+10 -4.71777815e+10\n",
      " -4.03812075e+10             nan             nan]\n",
      "  warnings.warn(\n",
      "C:\\Users\\hjhhi\\Anaconda3\\envs\\DeepLearning\\lib\\site-packages\\sklearn\\linear_model\\_coordinate_descent.py:647: ConvergenceWarning: Objective did not converge. You might want to increase the number of iterations, check the scale of the features or consider increasing regularisation. Duality gap: 4.315e+14, tolerance: 2.913e+11\n",
      "  model = cd_fast.enet_coordinate_descent(\n"
     ]
    }
   ],
   "source": [
    "model_names_to_tune = [\"Random_forest\",\"Lasso\",\"Elastic\"]\n",
    "model_to_tune = [rand_forest, lasso, elastic]\n",
    "model_params = [rf_params, lasso_params, elastic_params]\n",
    "bestscores = list(map(tuneHyperparameters, model_to_tune, model_params))"
   ]
  },
  {
   "cell_type": "code",
   "execution_count": 31,
   "id": "c298dcf9",
   "metadata": {},
   "outputs": [
    {
     "data": {
      "text/plain": [
       "[(-16724701007.648636,\n",
       "  {'bootstrap': True,\n",
       "   'max_depth': 60,\n",
       "   'max_features': 10,\n",
       "   'n_estimators': 30}),\n",
       " (-40381142753.1988, {'alpha': 0.001}),\n",
       " (-40381013271.040855, {'alpha': 0.0001, 'l1_ratio': 0.6})]"
      ]
     },
     "execution_count": 31,
     "metadata": {},
     "output_type": "execute_result"
    }
   ],
   "source": [
    "bestscores"
   ]
  },
  {
   "cell_type": "code",
   "execution_count": 64,
   "id": "34081c6b",
   "metadata": {},
   "outputs": [
    {
     "data": {
      "text/html": [
       "<div>\n",
       "<style scoped>\n",
       "    .dataframe tbody tr th:only-of-type {\n",
       "        vertical-align: middle;\n",
       "    }\n",
       "\n",
       "    .dataframe tbody tr th {\n",
       "        vertical-align: top;\n",
       "    }\n",
       "\n",
       "    .dataframe thead th {\n",
       "        text-align: right;\n",
       "    }\n",
       "</style>\n",
       "<table border=\"1\" class=\"dataframe\">\n",
       "  <thead>\n",
       "    <tr style=\"text-align: right;\">\n",
       "      <th></th>\n",
       "      <th>date</th>\n",
       "      <th>bedrooms</th>\n",
       "      <th>bathrooms</th>\n",
       "      <th>sqft_living</th>\n",
       "      <th>sqft_lot</th>\n",
       "      <th>floors</th>\n",
       "      <th>waterfront</th>\n",
       "      <th>view</th>\n",
       "      <th>condition</th>\n",
       "      <th>grade</th>\n",
       "      <th>sqft_above</th>\n",
       "      <th>yr_built</th>\n",
       "      <th>yr_renovated</th>\n",
       "      <th>lat</th>\n",
       "      <th>long</th>\n",
       "      <th>sqft_lot15</th>\n",
       "      <th>bed for living</th>\n",
       "      <th>lot_than_other</th>\n",
       "    </tr>\n",
       "  </thead>\n",
       "  <tbody>\n",
       "    <tr>\n",
       "      <th>0</th>\n",
       "      <td>20141013</td>\n",
       "      <td>3</td>\n",
       "      <td>1.00</td>\n",
       "      <td>1180</td>\n",
       "      <td>5650</td>\n",
       "      <td>1.0</td>\n",
       "      <td>0</td>\n",
       "      <td>0</td>\n",
       "      <td>3</td>\n",
       "      <td>7</td>\n",
       "      <td>1180</td>\n",
       "      <td>1955</td>\n",
       "      <td>False</td>\n",
       "      <td>47.5112</td>\n",
       "      <td>-122.257</td>\n",
       "      <td>5650</td>\n",
       "      <td>393.333333</td>\n",
       "      <td>0.880597</td>\n",
       "    </tr>\n",
       "    <tr>\n",
       "      <th>1</th>\n",
       "      <td>20141209</td>\n",
       "      <td>3</td>\n",
       "      <td>2.25</td>\n",
       "      <td>2570</td>\n",
       "      <td>7242</td>\n",
       "      <td>2.0</td>\n",
       "      <td>0</td>\n",
       "      <td>0</td>\n",
       "      <td>3</td>\n",
       "      <td>7</td>\n",
       "      <td>2170</td>\n",
       "      <td>1951</td>\n",
       "      <td>True</td>\n",
       "      <td>47.7210</td>\n",
       "      <td>-122.319</td>\n",
       "      <td>7639</td>\n",
       "      <td>856.666667</td>\n",
       "      <td>1.520710</td>\n",
       "    </tr>\n",
       "    <tr>\n",
       "      <th>2</th>\n",
       "      <td>20150225</td>\n",
       "      <td>2</td>\n",
       "      <td>1.00</td>\n",
       "      <td>770</td>\n",
       "      <td>10000</td>\n",
       "      <td>1.0</td>\n",
       "      <td>0</td>\n",
       "      <td>0</td>\n",
       "      <td>3</td>\n",
       "      <td>6</td>\n",
       "      <td>770</td>\n",
       "      <td>1933</td>\n",
       "      <td>False</td>\n",
       "      <td>47.7379</td>\n",
       "      <td>-122.233</td>\n",
       "      <td>8062</td>\n",
       "      <td>385.000000</td>\n",
       "      <td>0.283088</td>\n",
       "    </tr>\n",
       "    <tr>\n",
       "      <th>3</th>\n",
       "      <td>20141209</td>\n",
       "      <td>4</td>\n",
       "      <td>3.00</td>\n",
       "      <td>1960</td>\n",
       "      <td>5000</td>\n",
       "      <td>1.0</td>\n",
       "      <td>0</td>\n",
       "      <td>0</td>\n",
       "      <td>5</td>\n",
       "      <td>7</td>\n",
       "      <td>1050</td>\n",
       "      <td>1965</td>\n",
       "      <td>False</td>\n",
       "      <td>47.5208</td>\n",
       "      <td>-122.393</td>\n",
       "      <td>5000</td>\n",
       "      <td>490.000000</td>\n",
       "      <td>1.441176</td>\n",
       "    </tr>\n",
       "    <tr>\n",
       "      <th>4</th>\n",
       "      <td>20150218</td>\n",
       "      <td>3</td>\n",
       "      <td>2.00</td>\n",
       "      <td>1680</td>\n",
       "      <td>8080</td>\n",
       "      <td>1.0</td>\n",
       "      <td>0</td>\n",
       "      <td>0</td>\n",
       "      <td>3</td>\n",
       "      <td>8</td>\n",
       "      <td>1680</td>\n",
       "      <td>1987</td>\n",
       "      <td>False</td>\n",
       "      <td>47.6168</td>\n",
       "      <td>-122.045</td>\n",
       "      <td>7503</td>\n",
       "      <td>560.000000</td>\n",
       "      <td>0.933333</td>\n",
       "    </tr>\n",
       "    <tr>\n",
       "      <th>...</th>\n",
       "      <td>...</td>\n",
       "      <td>...</td>\n",
       "      <td>...</td>\n",
       "      <td>...</td>\n",
       "      <td>...</td>\n",
       "      <td>...</td>\n",
       "      <td>...</td>\n",
       "      <td>...</td>\n",
       "      <td>...</td>\n",
       "      <td>...</td>\n",
       "      <td>...</td>\n",
       "      <td>...</td>\n",
       "      <td>...</td>\n",
       "      <td>...</td>\n",
       "      <td>...</td>\n",
       "      <td>...</td>\n",
       "      <td>...</td>\n",
       "      <td>...</td>\n",
       "    </tr>\n",
       "    <tr>\n",
       "      <th>21608</th>\n",
       "      <td>20140521</td>\n",
       "      <td>3</td>\n",
       "      <td>2.50</td>\n",
       "      <td>1530</td>\n",
       "      <td>1131</td>\n",
       "      <td>3.0</td>\n",
       "      <td>0</td>\n",
       "      <td>0</td>\n",
       "      <td>3</td>\n",
       "      <td>8</td>\n",
       "      <td>1530</td>\n",
       "      <td>2009</td>\n",
       "      <td>False</td>\n",
       "      <td>47.6993</td>\n",
       "      <td>-122.346</td>\n",
       "      <td>1509</td>\n",
       "      <td>510.000000</td>\n",
       "      <td>1.000000</td>\n",
       "    </tr>\n",
       "    <tr>\n",
       "      <th>21609</th>\n",
       "      <td>20150223</td>\n",
       "      <td>4</td>\n",
       "      <td>2.50</td>\n",
       "      <td>2310</td>\n",
       "      <td>5813</td>\n",
       "      <td>2.0</td>\n",
       "      <td>0</td>\n",
       "      <td>0</td>\n",
       "      <td>3</td>\n",
       "      <td>8</td>\n",
       "      <td>2310</td>\n",
       "      <td>2014</td>\n",
       "      <td>False</td>\n",
       "      <td>47.5107</td>\n",
       "      <td>-122.362</td>\n",
       "      <td>7200</td>\n",
       "      <td>577.500000</td>\n",
       "      <td>1.262295</td>\n",
       "    </tr>\n",
       "    <tr>\n",
       "      <th>21610</th>\n",
       "      <td>20140623</td>\n",
       "      <td>2</td>\n",
       "      <td>0.75</td>\n",
       "      <td>1020</td>\n",
       "      <td>1350</td>\n",
       "      <td>2.0</td>\n",
       "      <td>0</td>\n",
       "      <td>0</td>\n",
       "      <td>3</td>\n",
       "      <td>7</td>\n",
       "      <td>1020</td>\n",
       "      <td>2009</td>\n",
       "      <td>False</td>\n",
       "      <td>47.5944</td>\n",
       "      <td>-122.299</td>\n",
       "      <td>2007</td>\n",
       "      <td>510.000000</td>\n",
       "      <td>1.000000</td>\n",
       "    </tr>\n",
       "    <tr>\n",
       "      <th>21611</th>\n",
       "      <td>20150116</td>\n",
       "      <td>3</td>\n",
       "      <td>2.50</td>\n",
       "      <td>1600</td>\n",
       "      <td>2388</td>\n",
       "      <td>2.0</td>\n",
       "      <td>0</td>\n",
       "      <td>0</td>\n",
       "      <td>3</td>\n",
       "      <td>8</td>\n",
       "      <td>1600</td>\n",
       "      <td>2004</td>\n",
       "      <td>False</td>\n",
       "      <td>47.5345</td>\n",
       "      <td>-122.069</td>\n",
       "      <td>1287</td>\n",
       "      <td>533.333333</td>\n",
       "      <td>1.134752</td>\n",
       "    </tr>\n",
       "    <tr>\n",
       "      <th>21612</th>\n",
       "      <td>20141015</td>\n",
       "      <td>2</td>\n",
       "      <td>0.75</td>\n",
       "      <td>1020</td>\n",
       "      <td>1076</td>\n",
       "      <td>2.0</td>\n",
       "      <td>0</td>\n",
       "      <td>0</td>\n",
       "      <td>3</td>\n",
       "      <td>7</td>\n",
       "      <td>1020</td>\n",
       "      <td>2008</td>\n",
       "      <td>False</td>\n",
       "      <td>47.5941</td>\n",
       "      <td>-122.299</td>\n",
       "      <td>1357</td>\n",
       "      <td>510.000000</td>\n",
       "      <td>1.000000</td>\n",
       "    </tr>\n",
       "  </tbody>\n",
       "</table>\n",
       "<p>21613 rows × 18 columns</p>\n",
       "</div>"
      ],
      "text/plain": [
       "           date  bedrooms  bathrooms  sqft_living  sqft_lot  floors  \\\n",
       "0      20141013         3       1.00         1180      5650     1.0   \n",
       "1      20141209         3       2.25         2570      7242     2.0   \n",
       "2      20150225         2       1.00          770     10000     1.0   \n",
       "3      20141209         4       3.00         1960      5000     1.0   \n",
       "4      20150218         3       2.00         1680      8080     1.0   \n",
       "...         ...       ...        ...          ...       ...     ...   \n",
       "21608  20140521         3       2.50         1530      1131     3.0   \n",
       "21609  20150223         4       2.50         2310      5813     2.0   \n",
       "21610  20140623         2       0.75         1020      1350     2.0   \n",
       "21611  20150116         3       2.50         1600      2388     2.0   \n",
       "21612  20141015         2       0.75         1020      1076     2.0   \n",
       "\n",
       "       waterfront  view  condition  grade  sqft_above  yr_built  yr_renovated  \\\n",
       "0               0     0          3      7        1180      1955         False   \n",
       "1               0     0          3      7        2170      1951          True   \n",
       "2               0     0          3      6         770      1933         False   \n",
       "3               0     0          5      7        1050      1965         False   \n",
       "4               0     0          3      8        1680      1987         False   \n",
       "...           ...   ...        ...    ...         ...       ...           ...   \n",
       "21608           0     0          3      8        1530      2009         False   \n",
       "21609           0     0          3      8        2310      2014         False   \n",
       "21610           0     0          3      7        1020      2009         False   \n",
       "21611           0     0          3      8        1600      2004         False   \n",
       "21612           0     0          3      7        1020      2008         False   \n",
       "\n",
       "           lat     long  sqft_lot15  bed for living  lot_than_other  \n",
       "0      47.5112 -122.257        5650      393.333333        0.880597  \n",
       "1      47.7210 -122.319        7639      856.666667        1.520710  \n",
       "2      47.7379 -122.233        8062      385.000000        0.283088  \n",
       "3      47.5208 -122.393        5000      490.000000        1.441176  \n",
       "4      47.6168 -122.045        7503      560.000000        0.933333  \n",
       "...        ...      ...         ...             ...             ...  \n",
       "21608  47.6993 -122.346        1509      510.000000        1.000000  \n",
       "21609  47.5107 -122.362        7200      577.500000        1.262295  \n",
       "21610  47.5944 -122.299        2007      510.000000        1.000000  \n",
       "21611  47.5345 -122.069        1287      533.333333        1.134752  \n",
       "21612  47.5941 -122.299        1357      510.000000        1.000000  \n",
       "\n",
       "[21613 rows x 18 columns]"
      ]
     },
     "execution_count": 64,
     "metadata": {},
     "output_type": "execute_result"
    }
   ],
   "source": [
    "X_train.drop([\"sqft_living15\", \"sqft_basement\"], axis=1)"
   ]
  },
  {
   "cell_type": "code",
   "execution_count": 65,
   "id": "835d697a",
   "metadata": {},
   "outputs": [],
   "source": [
    "estimator = RandomForestRegressor(bootstrap=False, max_depth=60, max_features=10, n_estimators=30)\n"
   ]
  },
  {
   "cell_type": "code",
   "execution_count": 117,
   "id": "ee577711",
   "metadata": {},
   "outputs": [],
   "source": [
    "scores = cross_val_score(rf, X, y, scoring=\"neg_mean_squared_error\", n_jobs = -1, cv=10)"
   ]
  },
  {
   "cell_type": "code",
   "execution_count": 67,
   "id": "12e77bf2",
   "metadata": {},
   "outputs": [],
   "source": [
    "def displayscores(scores):\n",
    "    print(\"Scores: \", scores)\n",
    "    print(\"Mean: \", scores.mean())\n",
    "    print(\"Standard deviation: \", scores.std())"
   ]
  },
  {
   "cell_type": "code",
   "execution_count": 68,
   "id": "1c8a8eb2",
   "metadata": {},
   "outputs": [],
   "source": [
    "rf_scores = np.sqrt(-scores)"
   ]
  },
  {
   "cell_type": "code",
   "execution_count": 69,
   "id": "d689178e",
   "metadata": {},
   "outputs": [
    {
     "name": "stdout",
     "output_type": "stream",
     "text": [
      "Scores:  [136694.23131266 135914.55218769 112595.23930566 127388.82919814\n",
      " 116932.75866091 139284.45183603 135418.96054287 122261.79091984\n",
      " 127455.92582576 136964.68348471]\n",
      "Mean:  129091.142327426\n",
      "Standard deviation:  8845.656166906698\n"
     ]
    }
   ],
   "source": [
    "displayscores(rf_scores)"
   ]
  },
  {
   "cell_type": "code",
   "execution_count": 70,
   "id": "841ab378",
   "metadata": {},
   "outputs": [
    {
     "data": {
      "text/plain": [
       "RandomForestRegressor(bootstrap=False, max_depth=60, max_features=10,\n",
       "                      n_estimators=30)"
      ]
     },
     "execution_count": 70,
     "metadata": {},
     "output_type": "execute_result"
    }
   ],
   "source": [
    "estimator.fit(X_train, y_train)"
   ]
  },
  {
   "cell_type": "code",
   "execution_count": 71,
   "id": "aa492e4d",
   "metadata": {},
   "outputs": [
    {
     "data": {
      "text/html": [
       "<div>\n",
       "<style scoped>\n",
       "    .dataframe tbody tr th:only-of-type {\n",
       "        vertical-align: middle;\n",
       "    }\n",
       "\n",
       "    .dataframe tbody tr th {\n",
       "        vertical-align: top;\n",
       "    }\n",
       "\n",
       "    .dataframe thead th {\n",
       "        text-align: right;\n",
       "    }\n",
       "</style>\n",
       "<table border=\"1\" class=\"dataframe\">\n",
       "  <thead>\n",
       "    <tr style=\"text-align: right;\">\n",
       "      <th></th>\n",
       "      <th>0</th>\n",
       "    </tr>\n",
       "  </thead>\n",
       "  <tbody>\n",
       "    <tr>\n",
       "      <th>0.010122</th>\n",
       "      <td>date</td>\n",
       "    </tr>\n",
       "    <tr>\n",
       "      <th>0.003172</th>\n",
       "      <td>bedrooms</td>\n",
       "    </tr>\n",
       "    <tr>\n",
       "      <th>0.018694</th>\n",
       "      <td>bathrooms</td>\n",
       "    </tr>\n",
       "    <tr>\n",
       "      <th>0.276923</th>\n",
       "      <td>sqft_living</td>\n",
       "    </tr>\n",
       "    <tr>\n",
       "      <th>0.013875</th>\n",
       "      <td>sqft_lot</td>\n",
       "    </tr>\n",
       "    <tr>\n",
       "      <th>0.002181</th>\n",
       "      <td>floors</td>\n",
       "    </tr>\n",
       "    <tr>\n",
       "      <th>0.026506</th>\n",
       "      <td>waterfront</td>\n",
       "    </tr>\n",
       "    <tr>\n",
       "      <th>0.014895</th>\n",
       "      <td>view</td>\n",
       "    </tr>\n",
       "    <tr>\n",
       "      <th>0.003228</th>\n",
       "      <td>condition</td>\n",
       "    </tr>\n",
       "    <tr>\n",
       "      <th>0.206272</th>\n",
       "      <td>grade</td>\n",
       "    </tr>\n",
       "    <tr>\n",
       "      <th>0.045333</th>\n",
       "      <td>sqft_above</td>\n",
       "    </tr>\n",
       "    <tr>\n",
       "      <th>0.006313</th>\n",
       "      <td>sqft_basement</td>\n",
       "    </tr>\n",
       "    <tr>\n",
       "      <th>0.031501</th>\n",
       "      <td>yr_built</td>\n",
       "    </tr>\n",
       "    <tr>\n",
       "      <th>0.001190</th>\n",
       "      <td>yr_renovated</td>\n",
       "    </tr>\n",
       "    <tr>\n",
       "      <th>0.151234</th>\n",
       "      <td>lat</td>\n",
       "    </tr>\n",
       "    <tr>\n",
       "      <th>0.067700</th>\n",
       "      <td>long</td>\n",
       "    </tr>\n",
       "    <tr>\n",
       "      <th>0.074079</th>\n",
       "      <td>sqft_living15</td>\n",
       "    </tr>\n",
       "    <tr>\n",
       "      <th>0.014977</th>\n",
       "      <td>sqft_lot15</td>\n",
       "    </tr>\n",
       "    <tr>\n",
       "      <th>0.016730</th>\n",
       "      <td>bed for living</td>\n",
       "    </tr>\n",
       "    <tr>\n",
       "      <th>0.015076</th>\n",
       "      <td>lot_than_other</td>\n",
       "    </tr>\n",
       "  </tbody>\n",
       "</table>\n",
       "</div>"
      ],
      "text/plain": [
       "                       0\n",
       "0.010122            date\n",
       "0.003172        bedrooms\n",
       "0.018694       bathrooms\n",
       "0.276923     sqft_living\n",
       "0.013875        sqft_lot\n",
       "0.002181          floors\n",
       "0.026506      waterfront\n",
       "0.014895            view\n",
       "0.003228       condition\n",
       "0.206272           grade\n",
       "0.045333      sqft_above\n",
       "0.006313   sqft_basement\n",
       "0.031501        yr_built\n",
       "0.001190    yr_renovated\n",
       "0.151234             lat\n",
       "0.067700            long\n",
       "0.074079   sqft_living15\n",
       "0.014977      sqft_lot15\n",
       "0.016730  bed for living\n",
       "0.015076  lot_than_other"
      ]
     },
     "execution_count": 71,
     "metadata": {},
     "output_type": "execute_result"
    }
   ],
   "source": [
    "pd.DataFrame(X_train.columns, estimator.feature_importances_)"
   ]
  },
  {
   "cell_type": "markdown",
   "id": "972242ae",
   "metadata": {},
   "source": [
    "### 특성공학 x rf평균이 약 13만정도 한 10만 아래를 타깃으로 잡아보면 될것같다\n",
    "### 특성공학에 먼저 힘쓰고 모델은 마지막에 xgboost나 보팅, 앙상블부분 보고 4개를 한번에 수정해보자"
   ]
  }
 ],
 "metadata": {
  "kernelspec": {
   "display_name": "Python 3",
   "language": "python",
   "name": "python3"
  },
  "language_info": {
   "codemirror_mode": {
    "name": "ipython",
    "version": 3
   },
   "file_extension": ".py",
   "mimetype": "text/x-python",
   "name": "python",
   "nbconvert_exporter": "python",
   "pygments_lexer": "ipython3",
   "version": "3.8.8"
  }
 },
 "nbformat": 4,
 "nbformat_minor": 5
}
