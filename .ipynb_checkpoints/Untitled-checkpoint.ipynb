{
 "cells": [
  {
   "cell_type": "code",
   "execution_count": 465,
   "id": "3152ee2f",
   "metadata": {},
   "outputs": [],
   "source": [
    "import numpy as np\n",
    "import pandas as pd\n",
    "import matplotlib.pyplot as plt\n",
    "import seaborn as sns"
   ]
  },
  {
   "cell_type": "code",
   "execution_count": 466,
   "id": "604ddc56",
   "metadata": {},
   "outputs": [],
   "source": [
    "df = pd.read_csv(\"./datasets/fitbit_data.csv\")"
   ]
  },
  {
   "cell_type": "code",
   "execution_count": 467,
   "id": "7c8bd50b",
   "metadata": {},
   "outputs": [
    {
     "data": {
      "text/html": [
       "<div>\n",
       "<style scoped>\n",
       "    .dataframe tbody tr th:only-of-type {\n",
       "        vertical-align: middle;\n",
       "    }\n",
       "\n",
       "    .dataframe tbody tr th {\n",
       "        vertical-align: top;\n",
       "    }\n",
       "\n",
       "    .dataframe thead th {\n",
       "        text-align: right;\n",
       "    }\n",
       "</style>\n",
       "<table border=\"1\" class=\"dataframe\">\n",
       "  <thead>\n",
       "    <tr style=\"text-align: right;\">\n",
       "      <th></th>\n",
       "      <th>date</th>\n",
       "      <th>calories</th>\n",
       "      <th>distances</th>\n",
       "      <th>steps</th>\n",
       "    </tr>\n",
       "  </thead>\n",
       "  <tbody>\n",
       "    <tr>\n",
       "      <th>0</th>\n",
       "      <td>2021.4.7</td>\n",
       "      <td>1744.27</td>\n",
       "      <td>7.300000</td>\n",
       "      <td>10174</td>\n",
       "    </tr>\n",
       "    <tr>\n",
       "      <th>1</th>\n",
       "      <td>2021.4.8</td>\n",
       "      <td>1865.11</td>\n",
       "      <td>3.460000</td>\n",
       "      <td>4829</td>\n",
       "    </tr>\n",
       "    <tr>\n",
       "      <th>2</th>\n",
       "      <td>2021.4.9</td>\n",
       "      <td>2406.20</td>\n",
       "      <td>5.920000</td>\n",
       "      <td>8262</td>\n",
       "    </tr>\n",
       "    <tr>\n",
       "      <th>3</th>\n",
       "      <td>2021.4.10</td>\n",
       "      <td>2384.56</td>\n",
       "      <td>6.350000</td>\n",
       "      <td>8864</td>\n",
       "    </tr>\n",
       "    <tr>\n",
       "      <th>4</th>\n",
       "      <td>2021.4.11</td>\n",
       "      <td>2456.50</td>\n",
       "      <td>6.059999</td>\n",
       "      <td>8467</td>\n",
       "    </tr>\n",
       "    <tr>\n",
       "      <th>5</th>\n",
       "      <td>2021.4.12</td>\n",
       "      <td>2032.28</td>\n",
       "      <td>3.670000</td>\n",
       "      <td>5120</td>\n",
       "    </tr>\n",
       "    <tr>\n",
       "      <th>6</th>\n",
       "      <td>2021.4.13</td>\n",
       "      <td>2498.19</td>\n",
       "      <td>7.540000</td>\n",
       "      <td>10557</td>\n",
       "    </tr>\n",
       "    <tr>\n",
       "      <th>7</th>\n",
       "      <td>2021.4.14</td>\n",
       "      <td>2220.59</td>\n",
       "      <td>7.599999</td>\n",
       "      <td>10594</td>\n",
       "    </tr>\n",
       "    <tr>\n",
       "      <th>8</th>\n",
       "      <td>2021.4.15</td>\n",
       "      <td>2074.16</td>\n",
       "      <td>5.970000</td>\n",
       "      <td>8313</td>\n",
       "    </tr>\n",
       "    <tr>\n",
       "      <th>9</th>\n",
       "      <td>2021.4.16</td>\n",
       "      <td>2336.62</td>\n",
       "      <td>8.110000</td>\n",
       "      <td>11314</td>\n",
       "    </tr>\n",
       "  </tbody>\n",
       "</table>\n",
       "</div>"
      ],
      "text/plain": [
       "        date  calories  distances  steps\n",
       "0   2021.4.7   1744.27   7.300000  10174\n",
       "1   2021.4.8   1865.11   3.460000   4829\n",
       "2   2021.4.9   2406.20   5.920000   8262\n",
       "3  2021.4.10   2384.56   6.350000   8864\n",
       "4  2021.4.11   2456.50   6.059999   8467\n",
       "5  2021.4.12   2032.28   3.670000   5120\n",
       "6  2021.4.13   2498.19   7.540000  10557\n",
       "7  2021.4.14   2220.59   7.599999  10594\n",
       "8  2021.4.15   2074.16   5.970000   8313\n",
       "9  2021.4.16   2336.62   8.110000  11314"
      ]
     },
     "execution_count": 467,
     "metadata": {},
     "output_type": "execute_result"
    }
   ],
   "source": [
    "df.head(10)"
   ]
  },
  {
   "cell_type": "markdown",
   "id": "cfb60bad",
   "metadata": {},
   "source": [
    "### null값이 아닌 값이 0인 데이터를 Nan과 같다 판단하고 진행하여야 한다."
   ]
  },
  {
   "cell_type": "code",
   "execution_count": 468,
   "id": "f3d8f0db",
   "metadata": {},
   "outputs": [
    {
     "data": {
      "text/plain": [
       "319.72"
      ]
     },
     "execution_count": 468,
     "metadata": {},
     "output_type": "execute_result"
    }
   ],
   "source": [
    "### 중간에 날짜가 확 건너뛰는 부분이 있는데 이 부분은 수집 중 멈춘 이상치라 판단하여 제거하였다\n",
    "df[\"calories\"].min()"
   ]
  },
  {
   "cell_type": "code",
   "execution_count": 469,
   "id": "70442b3e",
   "metadata": {},
   "outputs": [
    {
     "data": {
      "text/plain": [
       "Int64Index([91], dtype='int64')"
      ]
     },
     "execution_count": 469,
     "metadata": {},
     "output_type": "execute_result"
    }
   ],
   "source": [
    "df[\"calories\"][df[\"calories\"]==319.72].index"
   ]
  },
  {
   "cell_type": "code",
   "execution_count": 470,
   "id": "e1fe7d63",
   "metadata": {},
   "outputs": [],
   "source": [
    "df = df.drop(91)"
   ]
  },
  {
   "cell_type": "code",
   "execution_count": 471,
   "id": "f3089c82",
   "metadata": {},
   "outputs": [
    {
     "data": {
      "text/plain": [
       "Int64Index([], dtype='int64')"
      ]
     },
     "execution_count": 471,
     "metadata": {},
     "output_type": "execute_result"
    }
   ],
   "source": [
    "df[\"calories\"][df[\"calories\"]==319.72].index"
   ]
  },
  {
   "cell_type": "code",
   "execution_count": 472,
   "id": "0b20f8fd",
   "metadata": {},
   "outputs": [
    {
     "name": "stdout",
     "output_type": "stream",
     "text": [
      "<class 'pandas.core.frame.DataFrame'>\n",
      "Int64Index: 166 entries, 0 to 166\n",
      "Data columns (total 4 columns):\n",
      " #   Column     Non-Null Count  Dtype  \n",
      "---  ------     --------------  -----  \n",
      " 0   date       166 non-null    object \n",
      " 1   calories   166 non-null    float64\n",
      " 2   distances  166 non-null    float64\n",
      " 3   steps      166 non-null    int64  \n",
      "dtypes: float64(2), int64(1), object(1)\n",
      "memory usage: 6.5+ KB\n"
     ]
    }
   ],
   "source": [
    "df.info()"
   ]
  },
  {
   "cell_type": "code",
   "execution_count": 473,
   "id": "d41cd33f",
   "metadata": {},
   "outputs": [
    {
     "name": "stdout",
     "output_type": "stream",
     "text": [
      "False    166\n",
      "Name: date, dtype: int64\n",
      "False    166\n",
      "Name: calories, dtype: int64\n",
      "False    106\n",
      "True      60\n",
      "Name: distances, dtype: int64\n",
      "False    107\n",
      "True      59\n",
      "Name: steps, dtype: int64\n"
     ]
    }
   ],
   "source": [
    "print(pd.Series(df[\"date\"]==0).value_counts())\n",
    "print(pd.Series(df[\"calories\"]==0).value_counts())\n",
    "print(pd.Series(df[\"distances\"]==0).value_counts())\n",
    "print(pd.Series(df[\"steps\"]==0).value_counts())"
   ]
  },
  {
   "cell_type": "code",
   "execution_count": 474,
   "id": "270f55c2",
   "metadata": {},
   "outputs": [
    {
     "data": {
      "text/plain": [
       "False    107\n",
       "True      59\n",
       "dtype: int64"
      ]
     },
     "execution_count": 474,
     "metadata": {},
     "output_type": "execute_result"
    }
   ],
   "source": [
    "(pd.Series(df[\"distances\"]==0) & pd.Series(df[\"steps\"]==0)).value_counts()"
   ]
  },
  {
   "cell_type": "code",
   "execution_count": 475,
   "id": "31edc4fc",
   "metadata": {},
   "outputs": [],
   "source": [
    "df['DayName']=  pd.to_datetime(df['date'])\n",
    "df[\"DayofWeek\"] = df[\"DayName\"].dt.day_name()"
   ]
  },
  {
   "cell_type": "markdown",
   "id": "9b87e588",
   "metadata": {},
   "source": [
    "###  distances에 60, steps에 59개의 0(Nan)값이 존재한다\n",
    "### 또한 둘이 동시에 0인 data가 60개이므로 둘이 동시에 결측치가 된 경우가 많다"
   ]
  },
  {
   "cell_type": "code",
   "execution_count": 476,
   "id": "f7161bce",
   "metadata": {},
   "outputs": [],
   "source": [
    "not_nan_rows = (df[\"distances\"][df[\"distances\"]!=0].index)\n",
    "nan_rows = (df[\"distances\"][df[\"distances\"]==0].index)"
   ]
  },
  {
   "cell_type": "code",
   "execution_count": 477,
   "id": "5987d949",
   "metadata": {},
   "outputs": [
    {
     "data": {
      "text/html": [
       "<div>\n",
       "<style scoped>\n",
       "    .dataframe tbody tr th:only-of-type {\n",
       "        vertical-align: middle;\n",
       "    }\n",
       "\n",
       "    .dataframe tbody tr th {\n",
       "        vertical-align: top;\n",
       "    }\n",
       "\n",
       "    .dataframe thead th {\n",
       "        text-align: right;\n",
       "    }\n",
       "</style>\n",
       "<table border=\"1\" class=\"dataframe\">\n",
       "  <thead>\n",
       "    <tr style=\"text-align: right;\">\n",
       "      <th></th>\n",
       "      <th>date</th>\n",
       "      <th>calories</th>\n",
       "      <th>distances</th>\n",
       "      <th>steps</th>\n",
       "      <th>DayName</th>\n",
       "      <th>DayofWeek</th>\n",
       "    </tr>\n",
       "  </thead>\n",
       "  <tbody>\n",
       "    <tr>\n",
       "      <th>29</th>\n",
       "      <td>2021.5.6</td>\n",
       "      <td>1400.30</td>\n",
       "      <td>0.0</td>\n",
       "      <td>0</td>\n",
       "      <td>2021-05-06</td>\n",
       "      <td>Thursday</td>\n",
       "    </tr>\n",
       "    <tr>\n",
       "      <th>31</th>\n",
       "      <td>2021.5.8</td>\n",
       "      <td>1336.65</td>\n",
       "      <td>0.0</td>\n",
       "      <td>0</td>\n",
       "      <td>2021-05-08</td>\n",
       "      <td>Saturday</td>\n",
       "    </tr>\n",
       "    <tr>\n",
       "      <th>39</th>\n",
       "      <td>2021.5.16</td>\n",
       "      <td>1527.60</td>\n",
       "      <td>0.0</td>\n",
       "      <td>0</td>\n",
       "      <td>2021-05-16</td>\n",
       "      <td>Sunday</td>\n",
       "    </tr>\n",
       "    <tr>\n",
       "      <th>40</th>\n",
       "      <td>2021.5.17</td>\n",
       "      <td>1336.65</td>\n",
       "      <td>0.0</td>\n",
       "      <td>0</td>\n",
       "      <td>2021-05-17</td>\n",
       "      <td>Monday</td>\n",
       "    </tr>\n",
       "    <tr>\n",
       "      <th>43</th>\n",
       "      <td>2021.5.20</td>\n",
       "      <td>1400.30</td>\n",
       "      <td>0.0</td>\n",
       "      <td>0</td>\n",
       "      <td>2021-05-20</td>\n",
       "      <td>Thursday</td>\n",
       "    </tr>\n",
       "    <tr>\n",
       "      <th>44</th>\n",
       "      <td>2021.5.21</td>\n",
       "      <td>1463.95</td>\n",
       "      <td>0.0</td>\n",
       "      <td>0</td>\n",
       "      <td>2021-05-21</td>\n",
       "      <td>Friday</td>\n",
       "    </tr>\n",
       "    <tr>\n",
       "      <th>49</th>\n",
       "      <td>2021.5.26</td>\n",
       "      <td>1400.72</td>\n",
       "      <td>0.0</td>\n",
       "      <td>0</td>\n",
       "      <td>2021-05-26</td>\n",
       "      <td>Wednesday</td>\n",
       "    </tr>\n",
       "    <tr>\n",
       "      <th>53</th>\n",
       "      <td>2021.5.30</td>\n",
       "      <td>1464.05</td>\n",
       "      <td>0.0</td>\n",
       "      <td>0</td>\n",
       "      <td>2021-05-30</td>\n",
       "      <td>Sunday</td>\n",
       "    </tr>\n",
       "    <tr>\n",
       "      <th>54</th>\n",
       "      <td>2021.5.31</td>\n",
       "      <td>1527.60</td>\n",
       "      <td>0.0</td>\n",
       "      <td>0</td>\n",
       "      <td>2021-05-31</td>\n",
       "      <td>Monday</td>\n",
       "    </tr>\n",
       "    <tr>\n",
       "      <th>55</th>\n",
       "      <td>2021.6.1</td>\n",
       "      <td>1527.60</td>\n",
       "      <td>0.0</td>\n",
       "      <td>0</td>\n",
       "      <td>2021-06-01</td>\n",
       "      <td>Tuesday</td>\n",
       "    </tr>\n",
       "    <tr>\n",
       "      <th>56</th>\n",
       "      <td>2021.6.2</td>\n",
       "      <td>1527.60</td>\n",
       "      <td>0.0</td>\n",
       "      <td>0</td>\n",
       "      <td>2021-06-02</td>\n",
       "      <td>Wednesday</td>\n",
       "    </tr>\n",
       "    <tr>\n",
       "      <th>57</th>\n",
       "      <td>2021.6.3</td>\n",
       "      <td>1527.60</td>\n",
       "      <td>0.0</td>\n",
       "      <td>0</td>\n",
       "      <td>2021-06-03</td>\n",
       "      <td>Thursday</td>\n",
       "    </tr>\n",
       "    <tr>\n",
       "      <th>58</th>\n",
       "      <td>2021.6.4</td>\n",
       "      <td>1527.60</td>\n",
       "      <td>0.0</td>\n",
       "      <td>0</td>\n",
       "      <td>2021-06-04</td>\n",
       "      <td>Friday</td>\n",
       "    </tr>\n",
       "    <tr>\n",
       "      <th>59</th>\n",
       "      <td>2021.6.5</td>\n",
       "      <td>1463.95</td>\n",
       "      <td>0.0</td>\n",
       "      <td>0</td>\n",
       "      <td>2021-06-05</td>\n",
       "      <td>Saturday</td>\n",
       "    </tr>\n",
       "    <tr>\n",
       "      <th>60</th>\n",
       "      <td>2021.6.6</td>\n",
       "      <td>1527.60</td>\n",
       "      <td>0.0</td>\n",
       "      <td>0</td>\n",
       "      <td>2021-06-06</td>\n",
       "      <td>Sunday</td>\n",
       "    </tr>\n",
       "    <tr>\n",
       "      <th>61</th>\n",
       "      <td>2021.6.7</td>\n",
       "      <td>1527.60</td>\n",
       "      <td>0.0</td>\n",
       "      <td>0</td>\n",
       "      <td>2021-06-07</td>\n",
       "      <td>Monday</td>\n",
       "    </tr>\n",
       "    <tr>\n",
       "      <th>62</th>\n",
       "      <td>2021.6.8</td>\n",
       "      <td>1527.60</td>\n",
       "      <td>0.0</td>\n",
       "      <td>0</td>\n",
       "      <td>2021-06-08</td>\n",
       "      <td>Tuesday</td>\n",
       "    </tr>\n",
       "    <tr>\n",
       "      <th>63</th>\n",
       "      <td>2021.6.9</td>\n",
       "      <td>1527.60</td>\n",
       "      <td>0.0</td>\n",
       "      <td>0</td>\n",
       "      <td>2021-06-09</td>\n",
       "      <td>Wednesday</td>\n",
       "    </tr>\n",
       "    <tr>\n",
       "      <th>64</th>\n",
       "      <td>2021.6.10</td>\n",
       "      <td>1527.60</td>\n",
       "      <td>0.0</td>\n",
       "      <td>0</td>\n",
       "      <td>2021-06-10</td>\n",
       "      <td>Thursday</td>\n",
       "    </tr>\n",
       "    <tr>\n",
       "      <th>65</th>\n",
       "      <td>2021.6.11</td>\n",
       "      <td>1463.95</td>\n",
       "      <td>0.0</td>\n",
       "      <td>0</td>\n",
       "      <td>2021-06-11</td>\n",
       "      <td>Friday</td>\n",
       "    </tr>\n",
       "    <tr>\n",
       "      <th>66</th>\n",
       "      <td>2021.6.12</td>\n",
       "      <td>1527.60</td>\n",
       "      <td>0.0</td>\n",
       "      <td>0</td>\n",
       "      <td>2021-06-12</td>\n",
       "      <td>Saturday</td>\n",
       "    </tr>\n",
       "    <tr>\n",
       "      <th>67</th>\n",
       "      <td>2021.6.13</td>\n",
       "      <td>1527.60</td>\n",
       "      <td>0.0</td>\n",
       "      <td>0</td>\n",
       "      <td>2021-06-13</td>\n",
       "      <td>Sunday</td>\n",
       "    </tr>\n",
       "    <tr>\n",
       "      <th>68</th>\n",
       "      <td>2021.6.14</td>\n",
       "      <td>1527.60</td>\n",
       "      <td>0.0</td>\n",
       "      <td>0</td>\n",
       "      <td>2021-06-14</td>\n",
       "      <td>Monday</td>\n",
       "    </tr>\n",
       "    <tr>\n",
       "      <th>69</th>\n",
       "      <td>2021.6.15</td>\n",
       "      <td>1527.60</td>\n",
       "      <td>0.0</td>\n",
       "      <td>0</td>\n",
       "      <td>2021-06-15</td>\n",
       "      <td>Tuesday</td>\n",
       "    </tr>\n",
       "    <tr>\n",
       "      <th>70</th>\n",
       "      <td>2021.6.16</td>\n",
       "      <td>1527.60</td>\n",
       "      <td>0.0</td>\n",
       "      <td>0</td>\n",
       "      <td>2021-06-16</td>\n",
       "      <td>Wednesday</td>\n",
       "    </tr>\n",
       "    <tr>\n",
       "      <th>71</th>\n",
       "      <td>2021.6.17</td>\n",
       "      <td>1463.95</td>\n",
       "      <td>0.0</td>\n",
       "      <td>0</td>\n",
       "      <td>2021-06-17</td>\n",
       "      <td>Thursday</td>\n",
       "    </tr>\n",
       "    <tr>\n",
       "      <th>72</th>\n",
       "      <td>2021.6.18</td>\n",
       "      <td>1463.95</td>\n",
       "      <td>0.0</td>\n",
       "      <td>0</td>\n",
       "      <td>2021-06-18</td>\n",
       "      <td>Friday</td>\n",
       "    </tr>\n",
       "    <tr>\n",
       "      <th>73</th>\n",
       "      <td>2021.6.19</td>\n",
       "      <td>1400.30</td>\n",
       "      <td>0.0</td>\n",
       "      <td>0</td>\n",
       "      <td>2021-06-19</td>\n",
       "      <td>Saturday</td>\n",
       "    </tr>\n",
       "    <tr>\n",
       "      <th>74</th>\n",
       "      <td>2021.6.20</td>\n",
       "      <td>1527.60</td>\n",
       "      <td>0.0</td>\n",
       "      <td>0</td>\n",
       "      <td>2021-06-20</td>\n",
       "      <td>Sunday</td>\n",
       "    </tr>\n",
       "    <tr>\n",
       "      <th>75</th>\n",
       "      <td>2021.6.21</td>\n",
       "      <td>1527.60</td>\n",
       "      <td>0.0</td>\n",
       "      <td>0</td>\n",
       "      <td>2021-06-21</td>\n",
       "      <td>Monday</td>\n",
       "    </tr>\n",
       "    <tr>\n",
       "      <th>76</th>\n",
       "      <td>2021.6.22</td>\n",
       "      <td>1400.30</td>\n",
       "      <td>0.0</td>\n",
       "      <td>0</td>\n",
       "      <td>2021-06-22</td>\n",
       "      <td>Tuesday</td>\n",
       "    </tr>\n",
       "    <tr>\n",
       "      <th>77</th>\n",
       "      <td>2021.6.23</td>\n",
       "      <td>1463.95</td>\n",
       "      <td>0.0</td>\n",
       "      <td>0</td>\n",
       "      <td>2021-06-23</td>\n",
       "      <td>Wednesday</td>\n",
       "    </tr>\n",
       "    <tr>\n",
       "      <th>78</th>\n",
       "      <td>2021.6.24</td>\n",
       "      <td>1400.30</td>\n",
       "      <td>0.0</td>\n",
       "      <td>0</td>\n",
       "      <td>2021-06-24</td>\n",
       "      <td>Thursday</td>\n",
       "    </tr>\n",
       "    <tr>\n",
       "      <th>79</th>\n",
       "      <td>2021.6.25</td>\n",
       "      <td>1463.95</td>\n",
       "      <td>0.0</td>\n",
       "      <td>0</td>\n",
       "      <td>2021-06-25</td>\n",
       "      <td>Friday</td>\n",
       "    </tr>\n",
       "    <tr>\n",
       "      <th>80</th>\n",
       "      <td>2021.6.26</td>\n",
       "      <td>1527.60</td>\n",
       "      <td>0.0</td>\n",
       "      <td>0</td>\n",
       "      <td>2021-06-26</td>\n",
       "      <td>Saturday</td>\n",
       "    </tr>\n",
       "    <tr>\n",
       "      <th>81</th>\n",
       "      <td>2021.6.27</td>\n",
       "      <td>1527.60</td>\n",
       "      <td>0.0</td>\n",
       "      <td>0</td>\n",
       "      <td>2021-06-27</td>\n",
       "      <td>Sunday</td>\n",
       "    </tr>\n",
       "    <tr>\n",
       "      <th>82</th>\n",
       "      <td>2021.6.28</td>\n",
       "      <td>1527.60</td>\n",
       "      <td>0.0</td>\n",
       "      <td>0</td>\n",
       "      <td>2021-06-28</td>\n",
       "      <td>Monday</td>\n",
       "    </tr>\n",
       "    <tr>\n",
       "      <th>87</th>\n",
       "      <td>2021.7.3</td>\n",
       "      <td>1527.60</td>\n",
       "      <td>0.0</td>\n",
       "      <td>0</td>\n",
       "      <td>2021-07-03</td>\n",
       "      <td>Saturday</td>\n",
       "    </tr>\n",
       "    <tr>\n",
       "      <th>88</th>\n",
       "      <td>2021.7.4</td>\n",
       "      <td>1527.60</td>\n",
       "      <td>0.0</td>\n",
       "      <td>0</td>\n",
       "      <td>2021-07-04</td>\n",
       "      <td>Sunday</td>\n",
       "    </tr>\n",
       "    <tr>\n",
       "      <th>116</th>\n",
       "      <td>2021.9.20</td>\n",
       "      <td>1400.30</td>\n",
       "      <td>0.0</td>\n",
       "      <td>0</td>\n",
       "      <td>2021-09-20</td>\n",
       "      <td>Monday</td>\n",
       "    </tr>\n",
       "    <tr>\n",
       "      <th>117</th>\n",
       "      <td>2021.9.21</td>\n",
       "      <td>1336.65</td>\n",
       "      <td>0.0</td>\n",
       "      <td>0</td>\n",
       "      <td>2021-09-21</td>\n",
       "      <td>Tuesday</td>\n",
       "    </tr>\n",
       "    <tr>\n",
       "      <th>122</th>\n",
       "      <td>2021.9.26</td>\n",
       "      <td>1527.60</td>\n",
       "      <td>0.0</td>\n",
       "      <td>0</td>\n",
       "      <td>2021-09-26</td>\n",
       "      <td>Sunday</td>\n",
       "    </tr>\n",
       "    <tr>\n",
       "      <th>123</th>\n",
       "      <td>2021.9.27</td>\n",
       "      <td>1400.30</td>\n",
       "      <td>0.0</td>\n",
       "      <td>0</td>\n",
       "      <td>2021-09-27</td>\n",
       "      <td>Monday</td>\n",
       "    </tr>\n",
       "    <tr>\n",
       "      <th>135</th>\n",
       "      <td>2021.10.9</td>\n",
       "      <td>1406.00</td>\n",
       "      <td>0.0</td>\n",
       "      <td>14</td>\n",
       "      <td>2021-10-09</td>\n",
       "      <td>Saturday</td>\n",
       "    </tr>\n",
       "    <tr>\n",
       "      <th>136</th>\n",
       "      <td>2021.10.10</td>\n",
       "      <td>1527.60</td>\n",
       "      <td>0.0</td>\n",
       "      <td>0</td>\n",
       "      <td>2021-10-10</td>\n",
       "      <td>Sunday</td>\n",
       "    </tr>\n",
       "    <tr>\n",
       "      <th>137</th>\n",
       "      <td>2021.10.11</td>\n",
       "      <td>1527.60</td>\n",
       "      <td>0.0</td>\n",
       "      <td>0</td>\n",
       "      <td>2021-10-11</td>\n",
       "      <td>Monday</td>\n",
       "    </tr>\n",
       "    <tr>\n",
       "      <th>138</th>\n",
       "      <td>2021.10.12</td>\n",
       "      <td>1463.95</td>\n",
       "      <td>0.0</td>\n",
       "      <td>0</td>\n",
       "      <td>2021-10-12</td>\n",
       "      <td>Tuesday</td>\n",
       "    </tr>\n",
       "    <tr>\n",
       "      <th>139</th>\n",
       "      <td>2021.10.13</td>\n",
       "      <td>1527.60</td>\n",
       "      <td>0.0</td>\n",
       "      <td>0</td>\n",
       "      <td>2021-10-13</td>\n",
       "      <td>Wednesday</td>\n",
       "    </tr>\n",
       "    <tr>\n",
       "      <th>140</th>\n",
       "      <td>2021.10.14</td>\n",
       "      <td>1463.95</td>\n",
       "      <td>0.0</td>\n",
       "      <td>0</td>\n",
       "      <td>2021-10-14</td>\n",
       "      <td>Thursday</td>\n",
       "    </tr>\n",
       "    <tr>\n",
       "      <th>141</th>\n",
       "      <td>2021.10.15</td>\n",
       "      <td>1463.95</td>\n",
       "      <td>0.0</td>\n",
       "      <td>0</td>\n",
       "      <td>2021-10-15</td>\n",
       "      <td>Friday</td>\n",
       "    </tr>\n",
       "    <tr>\n",
       "      <th>145</th>\n",
       "      <td>2021.10.19</td>\n",
       "      <td>1336.65</td>\n",
       "      <td>0.0</td>\n",
       "      <td>0</td>\n",
       "      <td>2021-10-19</td>\n",
       "      <td>Tuesday</td>\n",
       "    </tr>\n",
       "    <tr>\n",
       "      <th>146</th>\n",
       "      <td>2021.10.25</td>\n",
       "      <td>1082.05</td>\n",
       "      <td>0.0</td>\n",
       "      <td>0</td>\n",
       "      <td>2021-10-25</td>\n",
       "      <td>Monday</td>\n",
       "    </tr>\n",
       "    <tr>\n",
       "      <th>147</th>\n",
       "      <td>2021.10.26</td>\n",
       "      <td>1527.60</td>\n",
       "      <td>0.0</td>\n",
       "      <td>0</td>\n",
       "      <td>2021-10-26</td>\n",
       "      <td>Tuesday</td>\n",
       "    </tr>\n",
       "    <tr>\n",
       "      <th>148</th>\n",
       "      <td>2021.10.27</td>\n",
       "      <td>1527.60</td>\n",
       "      <td>0.0</td>\n",
       "      <td>0</td>\n",
       "      <td>2021-10-27</td>\n",
       "      <td>Wednesday</td>\n",
       "    </tr>\n",
       "    <tr>\n",
       "      <th>149</th>\n",
       "      <td>2021.10.28</td>\n",
       "      <td>1527.60</td>\n",
       "      <td>0.0</td>\n",
       "      <td>0</td>\n",
       "      <td>2021-10-28</td>\n",
       "      <td>Thursday</td>\n",
       "    </tr>\n",
       "    <tr>\n",
       "      <th>150</th>\n",
       "      <td>2021.10.29</td>\n",
       "      <td>1400.30</td>\n",
       "      <td>0.0</td>\n",
       "      <td>0</td>\n",
       "      <td>2021-10-29</td>\n",
       "      <td>Friday</td>\n",
       "    </tr>\n",
       "    <tr>\n",
       "      <th>151</th>\n",
       "      <td>2021.10.30</td>\n",
       "      <td>1400.30</td>\n",
       "      <td>0.0</td>\n",
       "      <td>0</td>\n",
       "      <td>2021-10-30</td>\n",
       "      <td>Saturday</td>\n",
       "    </tr>\n",
       "    <tr>\n",
       "      <th>152</th>\n",
       "      <td>2021.10.31</td>\n",
       "      <td>1463.95</td>\n",
       "      <td>0.0</td>\n",
       "      <td>0</td>\n",
       "      <td>2021-10-31</td>\n",
       "      <td>Sunday</td>\n",
       "    </tr>\n",
       "    <tr>\n",
       "      <th>159</th>\n",
       "      <td>2021.11.7</td>\n",
       "      <td>1400.30</td>\n",
       "      <td>0.0</td>\n",
       "      <td>0</td>\n",
       "      <td>2021-11-07</td>\n",
       "      <td>Sunday</td>\n",
       "    </tr>\n",
       "    <tr>\n",
       "      <th>166</th>\n",
       "      <td>2021.11.14</td>\n",
       "      <td>1464.48</td>\n",
       "      <td>0.0</td>\n",
       "      <td>0</td>\n",
       "      <td>2021-11-14</td>\n",
       "      <td>Sunday</td>\n",
       "    </tr>\n",
       "  </tbody>\n",
       "</table>\n",
       "</div>"
      ],
      "text/plain": [
       "           date  calories  distances  steps    DayName  DayofWeek\n",
       "29     2021.5.6   1400.30        0.0      0 2021-05-06   Thursday\n",
       "31     2021.5.8   1336.65        0.0      0 2021-05-08   Saturday\n",
       "39    2021.5.16   1527.60        0.0      0 2021-05-16     Sunday\n",
       "40    2021.5.17   1336.65        0.0      0 2021-05-17     Monday\n",
       "43    2021.5.20   1400.30        0.0      0 2021-05-20   Thursday\n",
       "44    2021.5.21   1463.95        0.0      0 2021-05-21     Friday\n",
       "49    2021.5.26   1400.72        0.0      0 2021-05-26  Wednesday\n",
       "53    2021.5.30   1464.05        0.0      0 2021-05-30     Sunday\n",
       "54    2021.5.31   1527.60        0.0      0 2021-05-31     Monday\n",
       "55     2021.6.1   1527.60        0.0      0 2021-06-01    Tuesday\n",
       "56     2021.6.2   1527.60        0.0      0 2021-06-02  Wednesday\n",
       "57     2021.6.3   1527.60        0.0      0 2021-06-03   Thursday\n",
       "58     2021.6.4   1527.60        0.0      0 2021-06-04     Friday\n",
       "59     2021.6.5   1463.95        0.0      0 2021-06-05   Saturday\n",
       "60     2021.6.6   1527.60        0.0      0 2021-06-06     Sunday\n",
       "61     2021.6.7   1527.60        0.0      0 2021-06-07     Monday\n",
       "62     2021.6.8   1527.60        0.0      0 2021-06-08    Tuesday\n",
       "63     2021.6.9   1527.60        0.0      0 2021-06-09  Wednesday\n",
       "64    2021.6.10   1527.60        0.0      0 2021-06-10   Thursday\n",
       "65    2021.6.11   1463.95        0.0      0 2021-06-11     Friday\n",
       "66    2021.6.12   1527.60        0.0      0 2021-06-12   Saturday\n",
       "67    2021.6.13   1527.60        0.0      0 2021-06-13     Sunday\n",
       "68    2021.6.14   1527.60        0.0      0 2021-06-14     Monday\n",
       "69    2021.6.15   1527.60        0.0      0 2021-06-15    Tuesday\n",
       "70    2021.6.16   1527.60        0.0      0 2021-06-16  Wednesday\n",
       "71    2021.6.17   1463.95        0.0      0 2021-06-17   Thursday\n",
       "72    2021.6.18   1463.95        0.0      0 2021-06-18     Friday\n",
       "73    2021.6.19   1400.30        0.0      0 2021-06-19   Saturday\n",
       "74    2021.6.20   1527.60        0.0      0 2021-06-20     Sunday\n",
       "75    2021.6.21   1527.60        0.0      0 2021-06-21     Monday\n",
       "76    2021.6.22   1400.30        0.0      0 2021-06-22    Tuesday\n",
       "77    2021.6.23   1463.95        0.0      0 2021-06-23  Wednesday\n",
       "78    2021.6.24   1400.30        0.0      0 2021-06-24   Thursday\n",
       "79    2021.6.25   1463.95        0.0      0 2021-06-25     Friday\n",
       "80    2021.6.26   1527.60        0.0      0 2021-06-26   Saturday\n",
       "81    2021.6.27   1527.60        0.0      0 2021-06-27     Sunday\n",
       "82    2021.6.28   1527.60        0.0      0 2021-06-28     Monday\n",
       "87     2021.7.3   1527.60        0.0      0 2021-07-03   Saturday\n",
       "88     2021.7.4   1527.60        0.0      0 2021-07-04     Sunday\n",
       "116   2021.9.20   1400.30        0.0      0 2021-09-20     Monday\n",
       "117   2021.9.21   1336.65        0.0      0 2021-09-21    Tuesday\n",
       "122   2021.9.26   1527.60        0.0      0 2021-09-26     Sunday\n",
       "123   2021.9.27   1400.30        0.0      0 2021-09-27     Monday\n",
       "135   2021.10.9   1406.00        0.0     14 2021-10-09   Saturday\n",
       "136  2021.10.10   1527.60        0.0      0 2021-10-10     Sunday\n",
       "137  2021.10.11   1527.60        0.0      0 2021-10-11     Monday\n",
       "138  2021.10.12   1463.95        0.0      0 2021-10-12    Tuesday\n",
       "139  2021.10.13   1527.60        0.0      0 2021-10-13  Wednesday\n",
       "140  2021.10.14   1463.95        0.0      0 2021-10-14   Thursday\n",
       "141  2021.10.15   1463.95        0.0      0 2021-10-15     Friday\n",
       "145  2021.10.19   1336.65        0.0      0 2021-10-19    Tuesday\n",
       "146  2021.10.25   1082.05        0.0      0 2021-10-25     Monday\n",
       "147  2021.10.26   1527.60        0.0      0 2021-10-26    Tuesday\n",
       "148  2021.10.27   1527.60        0.0      0 2021-10-27  Wednesday\n",
       "149  2021.10.28   1527.60        0.0      0 2021-10-28   Thursday\n",
       "150  2021.10.29   1400.30        0.0      0 2021-10-29     Friday\n",
       "151  2021.10.30   1400.30        0.0      0 2021-10-30   Saturday\n",
       "152  2021.10.31   1463.95        0.0      0 2021-10-31     Sunday\n",
       "159   2021.11.7   1400.30        0.0      0 2021-11-07     Sunday\n",
       "166  2021.11.14   1464.48        0.0      0 2021-11-14     Sunday"
      ]
     },
     "execution_count": 477,
     "metadata": {},
     "output_type": "execute_result"
    }
   ],
   "source": [
    "df.loc[nan_rows]"
   ]
  },
  {
   "cell_type": "markdown",
   "id": "1ff8f85d",
   "metadata": {},
   "source": [
    "데이터가 적어지더라고 0인 모든 데이터를 핏빗을 착용하지 않았다고 가정하고 진행하는게 맞다"
   ]
  },
  {
   "cell_type": "code",
   "execution_count": 478,
   "id": "1f330ab3",
   "metadata": {},
   "outputs": [
    {
     "data": {
      "text/plain": [
       "<AxesSubplot:xlabel='calories', ylabel='Count'>"
      ]
     },
     "execution_count": 478,
     "metadata": {},
     "output_type": "execute_result"
    },
    {
     "data": {
      "image/png": "[encoded data removed]",
      "text/plain": [
       "<Figure size 432x288 with 1 Axes>"
      ]
     },
     "metadata": {
      "needs_background": "light"
     },
     "output_type": "display_data"
    }
   ],
   "source": [
    "sns.histplot(df[\"calories\"][nan_rows])"
   ]
  },
  {
   "cell_type": "code",
   "execution_count": 479,
   "id": "0fa37e41",
   "metadata": {
    "scrolled": false
   },
   "outputs": [
    {
     "data": {
      "text/plain": [
       "<AxesSubplot:xlabel='calories', ylabel='Count'>"
      ]
     },
     "execution_count": 479,
     "metadata": {},
     "output_type": "execute_result"
    },
    {
     "data": {
      "image/png": "[encoded data removed]",
      "text/plain": [
       "<Figure size 432x288 with 1 Axes>"
      ]
     },
     "metadata": {
      "needs_background": "light"
     },
     "output_type": "display_data"
    }
   ],
   "source": [
    "sns.histplot(df[\"calories\"][not_nan_rows])"
   ]
  },
  {
   "cell_type": "code",
   "execution_count": 480,
   "id": "50f48587",
   "metadata": {},
   "outputs": [
    {
     "data": {
      "text/plain": [
       "Int64Index([17, 146], dtype='int64')"
      ]
     },
     "execution_count": 480,
     "metadata": {},
     "output_type": "execute_result"
    }
   ],
   "source": [
    "df[\"calories\"][df[\"calories\"] < 1100].index"
   ]
  },
  {
   "cell_type": "markdown",
   "id": "54340468",
   "metadata": {},
   "source": [
    "17, 146행 역시 같은 이유로 제거한다"
   ]
  },
  {
   "cell_type": "code",
   "execution_count": 481,
   "id": "9b67bfff",
   "metadata": {},
   "outputs": [],
   "source": [
    "df = df.drop([17, 146])"
   ]
  },
  {
   "cell_type": "code",
   "execution_count": 482,
   "id": "b156413c",
   "metadata": {},
   "outputs": [],
   "source": [
    "not_nan_rows = (df[\"distances\"][df[\"distances\"]!=0].index)\n",
    "nan_rows = (df[\"distances\"][df[\"distances\"]==0].index)"
   ]
  },
  {
   "cell_type": "code",
   "execution_count": 483,
   "id": "2f936929",
   "metadata": {},
   "outputs": [
    {
     "data": {
      "text/plain": [
       "<AxesSubplot:xlabel='calories', ylabel='Count'>"
      ]
     },
     "execution_count": 483,
     "metadata": {},
     "output_type": "execute_result"
    },
    {
     "data": {
      "image/png": "[encoded data removed]",
      "text/plain": [
       "<Figure size 432x288 with 1 Axes>"
      ]
     },
     "metadata": {
      "needs_background": "light"
     },
     "output_type": "display_data"
    }
   ],
   "source": [
    "sns.histplot(df[\"calories\"][nan_rows])"
   ]
  },
  {
   "cell_type": "code",
   "execution_count": 484,
   "id": "cc6aa849",
   "metadata": {},
   "outputs": [
    {
     "data": {
      "text/plain": [
       "<AxesSubplot:xlabel='calories', ylabel='Count'>"
      ]
     },
     "execution_count": 484,
     "metadata": {},
     "output_type": "execute_result"
    },
    {
     "data": {
      "image/png": "[encoded data removed]",
      "text/plain": [
       "<Figure size 432x288 with 1 Axes>"
      ]
     },
     "metadata": {
      "needs_background": "light"
     },
     "output_type": "display_data"
    }
   ],
   "source": [
    "sns.histplot(df[\"calories\"][not_nan_rows])"
   ]
  },
  {
   "cell_type": "code",
   "execution_count": 485,
   "id": "1fbb4bf1",
   "metadata": {},
   "outputs": [],
   "source": [
    "temp = (df[\"calories\"][df[\"calories\"] > 2500].index)"
   ]
  },
  {
   "cell_type": "code",
   "execution_count": 486,
   "id": "42b78fe3",
   "metadata": {},
   "outputs": [
    {
     "data": {
      "text/html": [
       "<div>\n",
       "<style scoped>\n",
       "    .dataframe tbody tr th:only-of-type {\n",
       "        vertical-align: middle;\n",
       "    }\n",
       "\n",
       "    .dataframe tbody tr th {\n",
       "        vertical-align: top;\n",
       "    }\n",
       "\n",
       "    .dataframe thead th {\n",
       "        text-align: right;\n",
       "    }\n",
       "</style>\n",
       "<table border=\"1\" class=\"dataframe\">\n",
       "  <thead>\n",
       "    <tr style=\"text-align: right;\">\n",
       "      <th></th>\n",
       "      <th>date</th>\n",
       "      <th>calories</th>\n",
       "      <th>distances</th>\n",
       "      <th>steps</th>\n",
       "      <th>DayName</th>\n",
       "      <th>DayofWeek</th>\n",
       "    </tr>\n",
       "  </thead>\n",
       "  <tbody>\n",
       "    <tr>\n",
       "      <th>13</th>\n",
       "      <td>2021.4.20</td>\n",
       "      <td>2616.04</td>\n",
       "      <td>11.10</td>\n",
       "      <td>15456</td>\n",
       "      <td>2021-04-20</td>\n",
       "      <td>Tuesday</td>\n",
       "    </tr>\n",
       "    <tr>\n",
       "      <th>16</th>\n",
       "      <td>2021.4.23</td>\n",
       "      <td>2504.36</td>\n",
       "      <td>7.94</td>\n",
       "      <td>11104</td>\n",
       "      <td>2021-04-23</td>\n",
       "      <td>Friday</td>\n",
       "    </tr>\n",
       "    <tr>\n",
       "      <th>99</th>\n",
       "      <td>2021.9.3</td>\n",
       "      <td>2666.23</td>\n",
       "      <td>7.43</td>\n",
       "      <td>10361</td>\n",
       "      <td>2021-09-03</td>\n",
       "      <td>Friday</td>\n",
       "    </tr>\n",
       "    <tr>\n",
       "      <th>113</th>\n",
       "      <td>2021.9.17</td>\n",
       "      <td>2503.28</td>\n",
       "      <td>5.24</td>\n",
       "      <td>7307</td>\n",
       "      <td>2021-09-17</td>\n",
       "      <td>Friday</td>\n",
       "    </tr>\n",
       "    <tr>\n",
       "      <th>156</th>\n",
       "      <td>2021.11.4</td>\n",
       "      <td>3552.73</td>\n",
       "      <td>13.79</td>\n",
       "      <td>19259</td>\n",
       "      <td>2021-11-04</td>\n",
       "      <td>Thursday</td>\n",
       "    </tr>\n",
       "    <tr>\n",
       "      <th>157</th>\n",
       "      <td>2021.11.5</td>\n",
       "      <td>2967.06</td>\n",
       "      <td>12.34</td>\n",
       "      <td>17319</td>\n",
       "      <td>2021-11-05</td>\n",
       "      <td>Friday</td>\n",
       "    </tr>\n",
       "    <tr>\n",
       "      <th>163</th>\n",
       "      <td>2021.11.11</td>\n",
       "      <td>2732.86</td>\n",
       "      <td>9.00</td>\n",
       "      <td>12536</td>\n",
       "      <td>2021-11-11</td>\n",
       "      <td>Thursday</td>\n",
       "    </tr>\n",
       "    <tr>\n",
       "      <th>164</th>\n",
       "      <td>2021.11.12</td>\n",
       "      <td>2774.22</td>\n",
       "      <td>6.45</td>\n",
       "      <td>8985</td>\n",
       "      <td>2021-11-12</td>\n",
       "      <td>Friday</td>\n",
       "    </tr>\n",
       "    <tr>\n",
       "      <th>165</th>\n",
       "      <td>2021.11.13</td>\n",
       "      <td>2954.84</td>\n",
       "      <td>7.71</td>\n",
       "      <td>10621</td>\n",
       "      <td>2021-11-13</td>\n",
       "      <td>Saturday</td>\n",
       "    </tr>\n",
       "  </tbody>\n",
       "</table>\n",
       "</div>"
      ],
      "text/plain": [
       "           date  calories  distances  steps    DayName DayofWeek\n",
       "13    2021.4.20   2616.04      11.10  15456 2021-04-20   Tuesday\n",
       "16    2021.4.23   2504.36       7.94  11104 2021-04-23    Friday\n",
       "99     2021.9.3   2666.23       7.43  10361 2021-09-03    Friday\n",
       "113   2021.9.17   2503.28       5.24   7307 2021-09-17    Friday\n",
       "156   2021.11.4   3552.73      13.79  19259 2021-11-04  Thursday\n",
       "157   2021.11.5   2967.06      12.34  17319 2021-11-05    Friday\n",
       "163  2021.11.11   2732.86       9.00  12536 2021-11-11  Thursday\n",
       "164  2021.11.12   2774.22       6.45   8985 2021-11-12    Friday\n",
       "165  2021.11.13   2954.84       7.71  10621 2021-11-13  Saturday"
      ]
     },
     "execution_count": 486,
     "metadata": {},
     "output_type": "execute_result"
    }
   ],
   "source": [
    "df.loc[temp]"
   ]
  },
  {
   "cell_type": "code",
   "execution_count": 487,
   "id": "b1c4995c",
   "metadata": {},
   "outputs": [],
   "source": [
    "###접근을 쉽게하기 위하여 데이터프레임을 쪼개주었다\n",
    "equip_day = df.loc[not_nan_rows]\n",
    "not_equip_day = df.loc[nan_rows]"
   ]
  },
  {
   "cell_type": "markdown",
   "id": "e68f3212",
   "metadata": {},
   "source": [
    "칼로리가 많은 날은 정말로 이동거리가 많아서 높은날이므로 이상치로 판단하지 않았다"
   ]
  },
  {
   "cell_type": "markdown",
   "id": "cf4538d7",
   "metadata": {},
   "source": [
    "# 1번 문제"
   ]
  },
  {
   "cell_type": "code",
   "execution_count": 488,
   "id": "7078669a",
   "metadata": {},
   "outputs": [
    {
     "name": "stdout",
     "output_type": "stream",
     "text": [
      "핏빗 착용 시 평균 칼로리:  2057.4183809523806 \t평균 이동거리:  4.488666657142855 \t 평균 step수:  6250.504761904762\n",
      "핏빗 미착용 시 평균 칼로리:  1474.8525423728813 \t평균 이동거리:  0.0 \t 평균 step수:  0.23728813559322035\n"
     ]
    }
   ],
   "source": [
    "print(\"핏빗 착용 시 평균 칼로리: \", equip_day[\"calories\"].mean() , \"\\t평균 이동거리: \", equip_day[\"distances\"].mean(),\n",
    "      '\\t 평균 step수: ', equip_day[\"steps\"].mean())\n",
    "print(\"핏빗 미착용 시 평균 칼로리: \", not_equip_day[\"calories\"].mean() , \"\\t평균 이동거리: \", not_equip_day[\"distances\"].mean(),\n",
    "      '\\t 평균 step수: ', not_equip_day[\"steps\"].mean())"
   ]
  },
  {
   "cell_type": "markdown",
   "id": "12c272af",
   "metadata": {},
   "source": [
    "# 2번 문제 "
   ]
  },
  {
   "cell_type": "code",
   "execution_count": 489,
   "id": "16d182dc",
   "metadata": {},
   "outputs": [
    {
     "data": {
      "text/plain": [
       "[<matplotlib.lines.Line2D at 0x1e150b79490>]"
      ]
     },
     "execution_count": 489,
     "metadata": {},
     "output_type": "execute_result"
    },
    {
     "data": {
      "image/png": "[encoded data removed]",
      "text/plain": [
       "<Figure size 432x288 with 1 Axes>"
      ]
     },
     "metadata": {
      "needs_background": "light"
     },
     "output_type": "display_data"
    }
   ],
   "source": [
    "plt.plot(df[\"date\"][not_nan_rows], df[\"calories\"][not_nan_rows])"
   ]
  },
  {
   "cell_type": "code",
   "execution_count": 490,
   "id": "21ac5d28",
   "metadata": {},
   "outputs": [
    {
     "data": {
      "text/plain": [
       "[<matplotlib.lines.Line2D at 0x1e150c945b0>]"
      ]
     },
     "execution_count": 490,
     "metadata": {},
     "output_type": "execute_result"
    },
    {
     "data": {
      "image/png": "[encoded data removed]",
      "text/plain": [
       "<Figure size 432x288 with 1 Axes>"
      ]
     },
     "metadata": {
      "needs_background": "light"
     },
     "output_type": "display_data"
    }
   ],
   "source": [
    "plt.plot(df[\"date\"][nan_rows], df[\"calories\"][nan_rows])"
   ]
  },
  {
   "cell_type": "markdown",
   "id": "d714b474",
   "metadata": {},
   "source": [
    "# 3번 문제"
   ]
  },
  {
   "cell_type": "code",
   "execution_count": 491,
   "id": "537ec640",
   "metadata": {
    "scrolled": true
   },
   "outputs": [
    {
     "data": {
      "text/plain": [
       "<matplotlib.collections.PathCollection at 0x1e151f83370>"
      ]
     },
     "execution_count": 491,
     "metadata": {},
     "output_type": "execute_result"
    },
    {
     "data": {
      "image/png": "[encoded data removed]",
      "text/plain": [
       "<Figure size 432x288 with 1 Axes>"
      ]
     },
     "metadata": {
      "needs_background": "light"
     },
     "output_type": "display_data"
    }
   ],
   "source": [
    "plt.scatter(df[\"distances\"][not_nan_rows], df[\"calories\"][not_nan_rows])"
   ]
  },
  {
   "cell_type": "code",
   "execution_count": 492,
   "id": "290793a7",
   "metadata": {},
   "outputs": [
    {
     "data": {
      "text/plain": [
       "<matplotlib.collections.PathCollection at 0x1e151fd45b0>"
      ]
     },
     "execution_count": 492,
     "metadata": {},
     "output_type": "execute_result"
    },
    {
     "data": {
      "image/png": "[encoded data removed]",
      "text/plain": [
       "<Figure size 432x288 with 1 Axes>"
      ]
     },
     "metadata": {
      "needs_background": "light"
     },
     "output_type": "display_data"
    }
   ],
   "source": [
    "plt.scatter(df[\"distances\"][nan_rows], df[\"calories\"][nan_rows])"
   ]
  },
  {
   "cell_type": "code",
   "execution_count": 493,
   "id": "c2142699",
   "metadata": {},
   "outputs": [
    {
     "name": "stderr",
     "output_type": "stream",
     "text": [
      "C:\\Users\\hjhhi\\Anaconda3\\lib\\site-packages\\seaborn\\_decorators.py:36: FutureWarning: Pass the following variables as keyword args: x, y. From version 0.12, the only valid positional argument will be `data`, and passing other arguments without an explicit keyword will result in an error or misinterpretation.\n",
      "  warnings.warn(\n"
     ]
    },
    {
     "data": {
      "text/plain": [
       "<AxesSubplot:xlabel='distances', ylabel='calories'>"
      ]
     },
     "execution_count": 493,
     "metadata": {},
     "output_type": "execute_result"
    },
    {
     "data": {
      "image/png": "[encoded data removed]",
      "text/plain": [
       "<Figure size 432x288 with 1 Axes>"
      ]
     },
     "metadata": {
      "needs_background": "light"
     },
     "output_type": "display_data"
    }
   ],
   "source": [
    "sns.regplot(df[\"distances\"][not_nan_rows], df[\"calories\"][not_nan_rows])"
   ]
  },
  {
   "cell_type": "markdown",
   "id": "62b126d7",
   "metadata": {},
   "source": [
    "# 4번 문제"
   ]
  },
  {
   "cell_type": "code",
   "execution_count": 494,
   "id": "49d2116c",
   "metadata": {},
   "outputs": [
    {
     "data": {
      "text/plain": [
       "<AxesSubplot:xlabel='distances', ylabel='DayofWeek'>"
      ]
     },
     "execution_count": 494,
     "metadata": {},
     "output_type": "execute_result"
    },
    {
     "data": {
      "image/png": "[encoded data removed]",
      "text/plain": [
       "<Figure size 1080x720 with 6 Axes>"
      ]
     },
     "metadata": {
      "needs_background": "light"
     },
     "output_type": "display_data"
    }
   ],
   "source": [
    "fig, axes = plt.subplots(2, 3, figsize=(15, 10), sharey=True)\n",
    "fig.suptitle('Steps & Cal')\n",
    "sns.barplot(ax=axes[0,0], x=equip_day[\"steps\"], y = equip_day[\"DayofWeek\"])\n",
    "sns.barplot(ax=axes[0,1],x = equip_day[\"calories\"], y = equip_day[\"DayofWeek\"])\n",
    "sns.barplot(ax=axes[0,2],x = equip_day[\"distances\"], y = equip_day[\"DayofWeek\"])\n",
    "\n",
    "sns.barplot(ax=axes[1,0], x=not_equip_day[\"steps\"], y = not_equip_day[\"DayofWeek\"])\n",
    "sns.barplot(ax=axes[1,1],x = not_equip_day[\"calories\"], y = not_equip_day[\"DayofWeek\"])\n",
    "sns.barplot(ax=axes[1,2],x = not_equip_day[\"distances\"], y = not_equip_day[\"DayofWeek\"])"
   ]
  },
  {
   "cell_type": "raw",
   "id": "a99b6669",
   "metadata": {},
   "source": []
  }
 ],
 "metadata": {
  "kernelspec": {
   "display_name": "Python 3",
   "language": "python",
   "name": "python3"
  },
  "language_info": {
   "codemirror_mode": {
    "name": "ipython",
    "version": 3
   },
   "file_extension": ".py",
   "mimetype": "text/x-python",
   "name": "python",
   "nbconvert_exporter": "python",
   "pygments_lexer": "ipython3",
   "version": "3.8.8"
  }
 },
 "nbformat": 4,
 "nbformat_minor": 5
}
